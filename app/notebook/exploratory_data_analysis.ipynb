{
 "cells": [
  {
   "cell_type": "code",
   "execution_count": 1,
   "id": "4f4dd42e",
   "metadata": {},
   "outputs": [],
   "source": [
    "# Import necessary library\n",
    "import pandas as pd\n",
    "import numpy as np\n",
    "import seaborn as sns\n",
    "import scipy.stats as scs\n",
    "import joblib\n",
    "import yaml\n",
    "import matplotlib.pyplot as plt\n",
    "from scipy.stats import kendalltau"
   ]
  },
  {
   "cell_type": "code",
   "execution_count": 2,
   "id": "7eece3bc",
   "metadata": {},
   "outputs": [],
   "source": [
    "def load_parameter(parameter_direction):\n",
    "    with open(parameter_direction,'r') as file:\n",
    "        params = yaml.safe_load(file)\n",
    "    \n",
    "    return params"
   ]
  },
  {
   "cell_type": "code",
   "execution_count": 3,
   "id": "54831dbe",
   "metadata": {},
   "outputs": [],
   "source": [
    "params = load_parameter(\"config/configuration_file_1.yaml\")"
   ]
  },
  {
   "cell_type": "code",
   "execution_count": 4,
   "id": "097697a0",
   "metadata": {},
   "outputs": [
    {
     "data": {
      "text/plain": [
       "{'data_direction': 'data/indeks-standar-pencemar-udara-di-spku-bulan-juni-sampai-desember-tahun-2021_1.xlsx',\n",
       " 'datetime_columns': ['tanggal'],\n",
       " 'int32_columns': ['pm10', 'pm25', 'so2', 'co', 'o3', 'no2', 'max'],\n",
       " 'label': 'categori',\n",
       " 'label_categories': ['BAIK', 'TIDAK SEHAT'],\n",
       " 'object_columns': ['stasiun', 'critical', 'categori'],\n",
       " 'predictors': ['stasiun', 'pm10', 'pm25', 'so2', 'co', 'o3', 'no2'],\n",
       " 'range_co': [-1, 100],\n",
       " 'range_no2': [-1, 100],\n",
       " 'range_o3': [-1, 160],\n",
       " 'range_pm10': [-1, 800],\n",
       " 'range_pm25': [-1, 400],\n",
       " 'range_so2': [-1, 500],\n",
       " 'range_stasiun': ['DKI1 (Bunderan HI)',\n",
       "  'DKI2 (Kelapa Gading)',\n",
       "  'DKI3 (Jagakarsa)',\n",
       "  'DKI4 (Lubang Buaya)',\n",
       "  'DKI5 (Kebon Jeruk) Jakarta Barat']}"
      ]
     },
     "execution_count": 4,
     "metadata": {},
     "output_type": "execute_result"
    }
   ],
   "source": [
    "params"
   ]
  },
  {
   "cell_type": "markdown",
   "id": "142fff38",
   "metadata": {},
   "source": [
    "# Exploratory Data Analysis"
   ]
  },
  {
   "cell_type": "code",
   "execution_count": 5,
   "id": "76812e11",
   "metadata": {},
   "outputs": [],
   "source": [
    "X_train = joblib.load(\"processed/X_train.pkl\")\n",
    "y_train = joblib.load(\"processed/y_train.pkl\")"
   ]
  },
  {
   "cell_type": "markdown",
   "id": "7990600f",
   "metadata": {},
   "source": [
    "**1. Identify Missing Value**"
   ]
  },
  {
   "cell_type": "code",
   "execution_count": 6,
   "id": "b0c85856",
   "metadata": {},
   "outputs": [],
   "source": [
    "# Store into variable\n",
    "EDA_dataset_missing_value = pd.concat([X_train, y_train], axis = 1)"
   ]
  },
  {
   "cell_type": "code",
   "execution_count": 7,
   "id": "fce1fe89",
   "metadata": {},
   "outputs": [
    {
     "name": "stdout",
     "output_type": "stream",
     "text": [
      "15\n",
      "13\n",
      "56\n",
      "2\n",
      "15\n",
      "1\n",
      "0\n"
     ]
    }
   ],
   "source": [
    "# Checking replaced value\n",
    "for col in params['int32_columns']:\n",
    "    print(len(EDA_dataset_missing_value[EDA_dataset_missing_value[col] == -1]))"
   ]
  },
  {
   "cell_type": "code",
   "execution_count": 8,
   "id": "640735f0",
   "metadata": {},
   "outputs": [],
   "source": [
    "# Replace value function\n",
    "def replace_value(data, column, column_number, old_value, replace_value):\n",
    "    \n",
    "    \"\"\"\n",
    "    This function is to locate and replace value from a column. \n",
    "    \n",
    "    :param data: <pandas dataframe> data contain sample\n",
    "    :param column: <string> column name\n",
    "    :param column_number: <string> single or multiple column\n",
    "    :param old_value: <string/int/float> old value or current value\n",
    "    :param replace_value: <string/int/float> value to replace old value\n",
    "    :return data: <pandas dataframe> data contain sample\n",
    "    \"\"\"\n",
    "    \n",
    "    if str(column_number).lower() == \"multiple\":\n",
    "        for col in column:\n",
    "            data[col] = data[col].replace(old_value, replace_value)\n",
    "    elif str(column_number).lower() == \"single\":\n",
    "        data[column] = data[column].replace(old_value, replace_value)\n",
    "        \n",
    "    else: \n",
    "        \"column_number is not correct\"\n",
    "        \n",
    "    return data"
   ]
  },
  {
   "cell_type": "code",
   "execution_count": 9,
   "id": "95619f65",
   "metadata": {},
   "outputs": [],
   "source": [
    "# Replace value\n",
    "EDA_dataset_missing_value = replace_value(data = EDA_dataset_missing_value, \n",
    "                                          column = params['int32_columns'],\n",
    "                                          column_number = \"multiple\",\n",
    "                                          old_value = -1, \n",
    "                                          replace_value = np.nan)"
   ]
  },
  {
   "cell_type": "code",
   "execution_count": 10,
   "id": "edfffee7",
   "metadata": {},
   "outputs": [
    {
     "data": {
      "text/plain": [
       "tanggal      0\n",
       "stasiun      0\n",
       "pm10        15\n",
       "pm25        13\n",
       "so2         56\n",
       "co           2\n",
       "o3          15\n",
       "no2          1\n",
       "max          0\n",
       "critical     0\n",
       "categori     0\n",
       "dtype: int64"
      ]
     },
     "execution_count": 10,
     "metadata": {},
     "output_type": "execute_result"
    }
   ],
   "source": [
    "# Sanity check\n",
    "EDA_dataset_missing_value.isna().sum()"
   ]
  },
  {
   "cell_type": "markdown",
   "id": "345af5ce",
   "metadata": {},
   "source": [
    "**2. Identify skewness**"
   ]
  },
  {
   "cell_type": "code",
   "execution_count": 11,
   "id": "baf9e380",
   "metadata": {},
   "outputs": [],
   "source": [
    "# Store into variable\n",
    "EDA_dataset_skewness = EDA_dataset_missing_value"
   ]
  },
  {
   "cell_type": "code",
   "execution_count": 12,
   "id": "4b099711",
   "metadata": {},
   "outputs": [
    {
     "data": {
      "text/plain": [
       "pm10    0.676402\n",
       "pm25    0.282551\n",
       "so2    -0.076043\n",
       "co      0.701355\n",
       "o3      1.042900\n",
       "no2     0.935780\n",
       "max     0.543511\n",
       "dtype: float64"
      ]
     },
     "execution_count": 12,
     "metadata": {},
     "output_type": "execute_result"
    }
   ],
   "source": [
    "# Check skewness\n",
    "EDA_dataset_skewness.skew(numeric_only = True)"
   ]
  },
  {
   "cell_type": "markdown",
   "id": "002cef24",
   "metadata": {},
   "source": [
    "- pm10 = skewness dari pm10 cukup signifikan sehingga menggunakan median\n",
    "- pm25 = skewness dari pm25 tidak terlalu signifikan sehingga menggunakan mean\n",
    "- so2 = skewness dari so2 tidak terlalu signifikan sehingga menggunakan mean\n",
    "- co = skewness dari co cukup signifikan sehingga menggunakan median\n",
    "- o3 = skewness dari o3 cukup signifikan sehingga menggunakan median\n",
    "- no2 = skewness dari no2 cukup signifikan sehingga menggunakan median"
   ]
  },
  {
   "cell_type": "code",
   "execution_count": 13,
   "id": "35a108ab",
   "metadata": {},
   "outputs": [],
   "source": [
    "# Split dataset\n",
    "EDA_dataset_baik = EDA_dataset_skewness[EDA_dataset_skewness[params['label']] == params['label_categories'][0]]\n",
    "EDA_dataset_tidak_baik = EDA_dataset_skewness[EDA_dataset_skewness[params['label']] != params['label_categories'][0]]"
   ]
  },
  {
   "cell_type": "code",
   "execution_count": 14,
   "id": "5834cf7e",
   "metadata": {},
   "outputs": [
    {
     "data": {
      "text/html": [
       "<div>\n",
       "<style scoped>\n",
       "    .dataframe tbody tr th:only-of-type {\n",
       "        vertical-align: middle;\n",
       "    }\n",
       "\n",
       "    .dataframe tbody tr th {\n",
       "        vertical-align: top;\n",
       "    }\n",
       "\n",
       "    .dataframe thead th {\n",
       "        text-align: right;\n",
       "    }\n",
       "</style>\n",
       "<table border=\"1\" class=\"dataframe\">\n",
       "  <thead>\n",
       "    <tr style=\"text-align: right;\">\n",
       "      <th></th>\n",
       "      <th>pm10</th>\n",
       "      <th>pm25</th>\n",
       "      <th>so2</th>\n",
       "      <th>co</th>\n",
       "      <th>o3</th>\n",
       "      <th>no2</th>\n",
       "      <th>max</th>\n",
       "    </tr>\n",
       "  </thead>\n",
       "  <tbody>\n",
       "    <tr>\n",
       "      <th>count</th>\n",
       "      <td>40.000000</td>\n",
       "      <td>33.000000</td>\n",
       "      <td>37.000000</td>\n",
       "      <td>41.000000</td>\n",
       "      <td>40.000000</td>\n",
       "      <td>40.000000</td>\n",
       "      <td>41.000000</td>\n",
       "    </tr>\n",
       "    <tr>\n",
       "      <th>mean</th>\n",
       "      <td>28.150000</td>\n",
       "      <td>40.363636</td>\n",
       "      <td>27.729730</td>\n",
       "      <td>6.902439</td>\n",
       "      <td>24.450000</td>\n",
       "      <td>10.475000</td>\n",
       "      <td>42.487805</td>\n",
       "    </tr>\n",
       "    <tr>\n",
       "      <th>std</th>\n",
       "      <td>7.761014</td>\n",
       "      <td>6.990253</td>\n",
       "      <td>14.062655</td>\n",
       "      <td>4.352039</td>\n",
       "      <td>12.469347</td>\n",
       "      <td>5.193623</td>\n",
       "      <td>5.630817</td>\n",
       "    </tr>\n",
       "    <tr>\n",
       "      <th>min</th>\n",
       "      <td>15.000000</td>\n",
       "      <td>27.000000</td>\n",
       "      <td>4.000000</td>\n",
       "      <td>2.000000</td>\n",
       "      <td>8.000000</td>\n",
       "      <td>4.000000</td>\n",
       "      <td>30.000000</td>\n",
       "    </tr>\n",
       "    <tr>\n",
       "      <th>25%</th>\n",
       "      <td>23.000000</td>\n",
       "      <td>35.000000</td>\n",
       "      <td>15.000000</td>\n",
       "      <td>3.000000</td>\n",
       "      <td>14.000000</td>\n",
       "      <td>6.000000</td>\n",
       "      <td>38.000000</td>\n",
       "    </tr>\n",
       "    <tr>\n",
       "      <th>50%</th>\n",
       "      <td>28.000000</td>\n",
       "      <td>41.000000</td>\n",
       "      <td>31.000000</td>\n",
       "      <td>7.000000</td>\n",
       "      <td>18.000000</td>\n",
       "      <td>10.000000</td>\n",
       "      <td>44.000000</td>\n",
       "    </tr>\n",
       "    <tr>\n",
       "      <th>75%</th>\n",
       "      <td>31.250000</td>\n",
       "      <td>46.000000</td>\n",
       "      <td>36.000000</td>\n",
       "      <td>8.000000</td>\n",
       "      <td>37.000000</td>\n",
       "      <td>13.000000</td>\n",
       "      <td>47.000000</td>\n",
       "    </tr>\n",
       "    <tr>\n",
       "      <th>max</th>\n",
       "      <td>50.000000</td>\n",
       "      <td>50.000000</td>\n",
       "      <td>50.000000</td>\n",
       "      <td>28.000000</td>\n",
       "      <td>48.000000</td>\n",
       "      <td>29.000000</td>\n",
       "      <td>50.000000</td>\n",
       "    </tr>\n",
       "  </tbody>\n",
       "</table>\n",
       "</div>"
      ],
      "text/plain": [
       "            pm10       pm25        so2         co         o3        no2  \\\n",
       "count  40.000000  33.000000  37.000000  41.000000  40.000000  40.000000   \n",
       "mean   28.150000  40.363636  27.729730   6.902439  24.450000  10.475000   \n",
       "std     7.761014   6.990253  14.062655   4.352039  12.469347   5.193623   \n",
       "min    15.000000  27.000000   4.000000   2.000000   8.000000   4.000000   \n",
       "25%    23.000000  35.000000  15.000000   3.000000  14.000000   6.000000   \n",
       "50%    28.000000  41.000000  31.000000   7.000000  18.000000  10.000000   \n",
       "75%    31.250000  46.000000  36.000000   8.000000  37.000000  13.000000   \n",
       "max    50.000000  50.000000  50.000000  28.000000  48.000000  29.000000   \n",
       "\n",
       "             max  \n",
       "count  41.000000  \n",
       "mean   42.487805  \n",
       "std     5.630817  \n",
       "min    30.000000  \n",
       "25%    38.000000  \n",
       "50%    44.000000  \n",
       "75%    47.000000  \n",
       "max    50.000000  "
      ]
     },
     "execution_count": 14,
     "metadata": {},
     "output_type": "execute_result"
    }
   ],
   "source": [
    "# Descriptive analysis\n",
    "EDA_dataset_baik.describe()"
   ]
  },
  {
   "cell_type": "code",
   "execution_count": 15,
   "id": "0ba92326",
   "metadata": {},
   "outputs": [
    {
     "data": {
      "text/html": [
       "<div>\n",
       "<style scoped>\n",
       "    .dataframe tbody tr th:only-of-type {\n",
       "        vertical-align: middle;\n",
       "    }\n",
       "\n",
       "    .dataframe tbody tr th {\n",
       "        vertical-align: top;\n",
       "    }\n",
       "\n",
       "    .dataframe thead th {\n",
       "        text-align: right;\n",
       "    }\n",
       "</style>\n",
       "<table border=\"1\" class=\"dataframe\">\n",
       "  <thead>\n",
       "    <tr style=\"text-align: right;\">\n",
       "      <th></th>\n",
       "      <th>pm10</th>\n",
       "      <th>pm25</th>\n",
       "      <th>so2</th>\n",
       "      <th>co</th>\n",
       "      <th>o3</th>\n",
       "      <th>no2</th>\n",
       "      <th>max</th>\n",
       "    </tr>\n",
       "  </thead>\n",
       "  <tbody>\n",
       "    <tr>\n",
       "      <th>count</th>\n",
       "      <td>634.000000</td>\n",
       "      <td>643.000000</td>\n",
       "      <td>596.000000</td>\n",
       "      <td>646.000000</td>\n",
       "      <td>634.000000</td>\n",
       "      <td>648.000000</td>\n",
       "      <td>648.000000</td>\n",
       "    </tr>\n",
       "    <tr>\n",
       "      <th>mean</th>\n",
       "      <td>57.613565</td>\n",
       "      <td>85.129082</td>\n",
       "      <td>39.827181</td>\n",
       "      <td>11.662539</td>\n",
       "      <td>31.249211</td>\n",
       "      <td>22.270062</td>\n",
       "      <td>85.640432</td>\n",
       "    </tr>\n",
       "    <tr>\n",
       "      <th>std</th>\n",
       "      <td>12.549700</td>\n",
       "      <td>21.390534</td>\n",
       "      <td>11.579989</td>\n",
       "      <td>4.014013</td>\n",
       "      <td>12.550475</td>\n",
       "      <td>8.987690</td>\n",
       "      <td>20.792536</td>\n",
       "    </tr>\n",
       "    <tr>\n",
       "      <th>min</th>\n",
       "      <td>23.000000</td>\n",
       "      <td>26.000000</td>\n",
       "      <td>5.000000</td>\n",
       "      <td>3.000000</td>\n",
       "      <td>9.000000</td>\n",
       "      <td>6.000000</td>\n",
       "      <td>51.000000</td>\n",
       "    </tr>\n",
       "    <tr>\n",
       "      <th>25%</th>\n",
       "      <td>51.000000</td>\n",
       "      <td>71.000000</td>\n",
       "      <td>31.000000</td>\n",
       "      <td>9.000000</td>\n",
       "      <td>23.000000</td>\n",
       "      <td>15.000000</td>\n",
       "      <td>71.000000</td>\n",
       "    </tr>\n",
       "    <tr>\n",
       "      <th>50%</th>\n",
       "      <td>57.500000</td>\n",
       "      <td>83.000000</td>\n",
       "      <td>40.000000</td>\n",
       "      <td>11.000000</td>\n",
       "      <td>28.500000</td>\n",
       "      <td>21.000000</td>\n",
       "      <td>83.000000</td>\n",
       "    </tr>\n",
       "    <tr>\n",
       "      <th>75%</th>\n",
       "      <td>64.000000</td>\n",
       "      <td>98.000000</td>\n",
       "      <td>49.000000</td>\n",
       "      <td>14.000000</td>\n",
       "      <td>36.000000</td>\n",
       "      <td>27.000000</td>\n",
       "      <td>98.000000</td>\n",
       "    </tr>\n",
       "    <tr>\n",
       "      <th>max</th>\n",
       "      <td>179.000000</td>\n",
       "      <td>174.000000</td>\n",
       "      <td>82.000000</td>\n",
       "      <td>28.000000</td>\n",
       "      <td>77.000000</td>\n",
       "      <td>65.000000</td>\n",
       "      <td>179.000000</td>\n",
       "    </tr>\n",
       "  </tbody>\n",
       "</table>\n",
       "</div>"
      ],
      "text/plain": [
       "             pm10        pm25         so2          co          o3         no2  \\\n",
       "count  634.000000  643.000000  596.000000  646.000000  634.000000  648.000000   \n",
       "mean    57.613565   85.129082   39.827181   11.662539   31.249211   22.270062   \n",
       "std     12.549700   21.390534   11.579989    4.014013   12.550475    8.987690   \n",
       "min     23.000000   26.000000    5.000000    3.000000    9.000000    6.000000   \n",
       "25%     51.000000   71.000000   31.000000    9.000000   23.000000   15.000000   \n",
       "50%     57.500000   83.000000   40.000000   11.000000   28.500000   21.000000   \n",
       "75%     64.000000   98.000000   49.000000   14.000000   36.000000   27.000000   \n",
       "max    179.000000  174.000000   82.000000   28.000000   77.000000   65.000000   \n",
       "\n",
       "              max  \n",
       "count  648.000000  \n",
       "mean    85.640432  \n",
       "std     20.792536  \n",
       "min     51.000000  \n",
       "25%     71.000000  \n",
       "50%     83.000000  \n",
       "75%     98.000000  \n",
       "max    179.000000  "
      ]
     },
     "execution_count": 15,
     "metadata": {},
     "output_type": "execute_result"
    }
   ],
   "source": [
    "# Descriptive analysis\n",
    "EDA_dataset_tidak_baik.describe()"
   ]
  },
  {
   "cell_type": "markdown",
   "id": "6abc0e14",
   "metadata": {},
   "source": [
    "- pm10      : median dari kelas 0 dan 1 terpaut cukup jauh, maka akan menggunakan kelas\n",
    "- pm25      : mean dari kelas 0 dan 1 terpaut cukup jauh, maka akan menggunakan kelas\n",
    "- so2       : mean dari kelas 0 dan 1 tidak terpaut cukup jauh, maka tidak akan menggunakan kelas\n",
    "- co        : median dari kelas 0 dan 1 tidak terpaut jauh, maka tidak akan menggunakan kelas\n",
    "- o3        : median dari kelas 0 dan 1 tidak terpaut cukup jauh, maka tidak akan menggunakan kelas\n",
    "- no2       : median dari kelas 0 dan 1 tidak terpaut cukup jauh, maka tidak akan menggunakan kelas"
   ]
  },
  {
   "cell_type": "markdown",
   "id": "83f19854",
   "metadata": {},
   "source": [
    "**3. Check outliers**"
   ]
  },
  {
   "cell_type": "code",
   "execution_count": 16,
   "id": "1472f9a8",
   "metadata": {},
   "outputs": [],
   "source": [
    "EDA_dataset_outliers = EDA_dataset_skewness"
   ]
  },
  {
   "cell_type": "code",
   "execution_count": 17,
   "id": "7e727045",
   "metadata": {
    "scrolled": false
   },
   "outputs": [
    {
     "data": {
      "text/plain": [
       "<AxesSubplot:>"
      ]
     },
     "execution_count": 17,
     "metadata": {},
     "output_type": "execute_result"
    },
    {
     "data": {
      "image/png": "[encoded data removed]",
      "text/plain": [
       "<Figure size 640x480 with 1 Axes>"
      ]
     },
     "metadata": {},
     "output_type": "display_data"
    }
   ],
   "source": [
    "# Checking outliers using boxplot\n",
    "sns.boxplot(data=EDA_dataset_outliers[params['int32_columns']])"
   ]
  },
  {
   "cell_type": "markdown",
   "id": "5b168803",
   "metadata": {},
   "source": [
    "**4. Identify correlation**"
   ]
  },
  {
   "cell_type": "code",
   "execution_count": 18,
   "id": "9d7bec67",
   "metadata": {},
   "outputs": [],
   "source": [
    "# Input-Output split function\n",
    "def input_output_split(df, column):\n",
    "    \n",
    "    \"\"\"\n",
    "    This function is created to split input and output column\n",
    "    :param df: <pandas dataframe> data contain sample\n",
    "    :param columns: <string> column name\n",
    "    :return X: <pandas dataframe> data contain input\n",
    "    :return y: <pandas dataframe> data contain output\n",
    "    \"\"\"\n",
    "    \n",
    "    X = df.drop(column, axis = 1)\n",
    "    y = df[column]\n",
    "    \n",
    "    return X,y"
   ]
  },
  {
   "cell_type": "code",
   "execution_count": 19,
   "id": "d64b5393",
   "metadata": {},
   "outputs": [],
   "source": [
    "# Store into variable\n",
    "EDA_dataset_correlation = pd.concat([X_train, y_train], axis = 1)"
   ]
  },
  {
   "cell_type": "code",
   "execution_count": 20,
   "id": "62c89e78",
   "metadata": {},
   "outputs": [],
   "source": [
    "# Split input and output\n",
    "EDA_X_train, EDA_y_train = input_output_split(df = EDA_dataset_correlation, column = params['label'])\n",
    "\n",
    "# EDA_X_train_baik, EDA_y_train_baik = input_output_split(df = EDA_dataset_correlation[EDA_dataset_correlation[params['label']] == \"BAIK\"], column = params['label'])\n",
    "# EDA_X_train_tidak_baik, EDA_y_train_tidak_baik = input_output_split(df = EDA_dataset_correlation[EDA_dataset_correlation[params['label']] != \"BAIK\"], column = params['label'])\n",
    "\n",
    "# Sanity check\n",
    "# print(f\"{EDA_X_train.shape}, {EDA_y_train.shape} \\n{EDA_X_train_baik.shape},  {EDA_y_train_baik.shape} \\n{EDA_X_train_tidak_baik.shape}, {EDA_y_train_tidak_baik.shape}\")"
   ]
  },
  {
   "cell_type": "code",
   "execution_count": 21,
   "id": "5eed4846",
   "metadata": {},
   "outputs": [],
   "source": [
    "# Create Kendall's rank coefficient and p-value calculation function\n",
    "def kendall_rank(input, output):\n",
    "    \n",
    "    \"\"\"\n",
    "    This function is created to calculate the level of significance between numeric type input data and object type output data \n",
    "    using kendall's rank\n",
    "    \n",
    "    :param input: <pandas dataframe> data contain input\n",
    "    :param output: <pandas dataframe> data contain output  \n",
    "    :return kendall_rank: <dictionary> collection of coefficient and p_value\n",
    "    \"\"\"\n",
    "    \n",
    "    # Create an empty dictionary to store the results\n",
    "    kendall_rank = {}\n",
    "    \n",
    "    # Loop over each column in the numerical data DataFrame\n",
    "    for col in input.columns:\n",
    "        \n",
    "        # Calculate Kendall's rank correlation coefficient    \n",
    "        coefficient, p_value = kendalltau(input[col], output)\n",
    "        \n",
    "        # Store the results in the dictionary\n",
    "        kendall_rank[col] = (coefficient, p_value)\n",
    "    \n",
    "    return kendall_rank"
   ]
  },
  {
   "cell_type": "code",
   "execution_count": 22,
   "id": "545326bc",
   "metadata": {},
   "outputs": [
    {
     "name": "stderr",
     "output_type": "stream",
     "text": [
      "C:\\Users\\62821\\anaconda3\\lib\\site-packages\\scipy\\stats\\_stats_py.py:110: RuntimeWarning: The input array could not be properly checked for nan values. nan values will be ignored.\n",
      "  warnings.warn(\"The input array could not be properly \"\n"
     ]
    },
    {
     "data": {
      "text/plain": [
       "{'pm10': (0.517006500771629, 3.85078834072556e-63),\n",
       " 'pm25': (0.6261809717253971, 1.1651321446359456e-92),\n",
       " 'so2': (0.15520803201682432, 5.08643843557653e-07),\n",
       " 'co': (0.2090500630578317, 3.432774947417078e-11),\n",
       " 'o3': (0.11112003220819085, 0.00031715865932951444),\n",
       " 'no2': (0.2476701887225367, 1.2826565919262394e-15),\n",
       " 'max': (0.6387247124208845, 2.5771840362539116e-96)}"
      ]
     },
     "execution_count": 22,
     "metadata": {},
     "output_type": "execute_result"
    }
   ],
   "source": [
    "# Show Kendall's rank coefficient and p-value\n",
    "kendall_rank(input = EDA_X_train[params['int32_columns']], output = EDA_y_train)"
   ]
  },
  {
   "cell_type": "markdown",
   "id": "2abac032",
   "metadata": {},
   "source": [
    "No need to reducing feature since all of them have significant p-value but this will need to be re-check once the missing value has been handled."
   ]
  },
  {
   "cell_type": "markdown",
   "id": "195fed31",
   "metadata": {},
   "source": [
    "**5. Check data proportion**"
   ]
  },
  {
   "cell_type": "code",
   "execution_count": 23,
   "id": "58490b6e",
   "metadata": {},
   "outputs": [
    {
     "data": {
      "text/plain": [
       "<AxesSubplot:xlabel='categori', ylabel='Count'>"
      ]
     },
     "execution_count": 23,
     "metadata": {},
     "output_type": "execute_result"
    },
    {
     "data": {
      "image/png": "[encoded data removed]",
      "text/plain": [
       "<Figure size 640x480 with 1 Axes>"
      ]
     },
     "metadata": {},
     "output_type": "display_data"
    }
   ],
   "source": [
    "# Check data proportion\n",
    "sns.histplot(data = pd.concat([X_train, y_train], axis = 1), x = params['label'], hue = params['label'])"
   ]
  }
 ],
 "metadata": {
  "kernelspec": {
   "display_name": "Python 3 (ipykernel)",
   "language": "python",
   "name": "python3"
  },
  "language_info": {
   "codemirror_mode": {
    "name": "ipython",
    "version": 3
   },
   "file_extension": ".py",
   "mimetype": "text/x-python",
   "name": "python",
   "nbconvert_exporter": "python",
   "pygments_lexer": "ipython3",
   "version": "3.9.13"
  }
 },
 "nbformat": 4,
 "nbformat_minor": 5
}

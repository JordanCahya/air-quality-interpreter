{
 "cells": [
  {
   "cell_type": "code",
   "execution_count": 1,
   "id": "4f4dd42e",
   "metadata": {},
   "outputs": [],
   "source": [
    "# Import necessary library\n",
    "\n",
    "import pandas as pd\n",
    "import numpy as np\n",
    "import seaborn as sns\n",
    "import scipy.stats as scs\n",
    "import joblib\n",
    "import yaml\n",
    "import matplotlib.pyplot as plt\n",
    "from imblearn.under_sampling import RandomUnderSampler\n",
    "from imblearn.over_sampling import RandomOverSampler, SMOTE\n",
    "from sklearn.preprocessing import OneHotEncoder\n",
    "from scipy.stats import kendalltau\n",
    "from scipy.stats import chi2_contingency"
   ]
  },
  {
   "cell_type": "code",
   "execution_count": 2,
   "id": "7eece3bc",
   "metadata": {},
   "outputs": [],
   "source": [
    "def load_parameter(parameter_direction):\n",
    "    with open(parameter_direction,'r') as file:\n",
    "        params = yaml.safe_load(file)\n",
    "    \n",
    "    return params"
   ]
  },
  {
   "cell_type": "code",
   "execution_count": 3,
   "id": "54831dbe",
   "metadata": {},
   "outputs": [],
   "source": [
    "params = load_parameter(\"config/configuration_file_1.yaml\")"
   ]
  },
  {
   "cell_type": "code",
   "execution_count": 4,
   "id": "097697a0",
   "metadata": {},
   "outputs": [
    {
     "data": {
      "text/plain": [
       "{'data_direction': 'data/indeks-standar-pencemar-udara-di-spku-bulan-juni-sampai-desember-tahun-2021_1.xlsx',\n",
       " 'datetime_columns': ['tanggal'],\n",
       " 'int32_columns': ['pm10', 'pm25', 'so2', 'co', 'o3', 'no2', 'max'],\n",
       " 'label': 'categori',\n",
       " 'label_categories': ['BAIK', 'TIDAK SEHAT'],\n",
       " 'object_columns': ['stasiun', 'critical', 'categori'],\n",
       " 'predictors': ['stasiun', 'pm10', 'pm25', 'so2', 'co', 'o3', 'no2'],\n",
       " 'range_co': [-1, 100],\n",
       " 'range_no2': [-1, 100],\n",
       " 'range_o3': [-1, 160],\n",
       " 'range_pm10': [-1, 800],\n",
       " 'range_pm25': [-1, 400],\n",
       " 'range_so2': [-1, 500],\n",
       " 'range_stasiun': ['DKI1 (Bunderan HI)',\n",
       "  'DKI2 (Kelapa Gading)',\n",
       "  'DKI3 (Jagakarsa)',\n",
       "  'DKI4 (Lubang Buaya)',\n",
       "  'DKI5 (Kebon Jeruk) Jakarta Barat']}"
      ]
     },
     "execution_count": 4,
     "metadata": {},
     "output_type": "execute_result"
    }
   ],
   "source": [
    "params"
   ]
  },
  {
   "cell_type": "markdown",
   "id": "3f5f0d1c",
   "metadata": {},
   "source": [
    "# Data Pre-processing"
   ]
  },
  {
   "cell_type": "code",
   "execution_count": 5,
   "id": "1cc17c7c",
   "metadata": {},
   "outputs": [],
   "source": [
    "X_train = joblib.load(\"processed/X_train.pkl\")\n",
    "y_train = joblib.load(\"processed/y_train.pkl\")\n",
    "\n",
    "X_valid = joblib.load(\"processed/X_valid.pkl\")\n",
    "y_valid = joblib.load(\"processed/y_valid.pkl\")\n",
    "\n",
    "X_test = joblib.load(\"processed/X_test.pkl\")\n",
    "y_test = joblib.load(\"processed/y_test.pkl\")"
   ]
  },
  {
   "cell_type": "code",
   "execution_count": 6,
   "id": "197a0f9e",
   "metadata": {},
   "outputs": [],
   "source": [
    "# Combining data\n",
    "train_set = pd.concat([X_train, y_train], axis = 1)\n",
    "validation_set = pd.concat([X_valid, y_valid], axis = 1)\n",
    "testing_set = pd.concat([X_test, y_test], axis = 1)"
   ]
  },
  {
   "cell_type": "markdown",
   "id": "71869156",
   "metadata": {},
   "source": [
    "**1. Recategorised label**"
   ]
  },
  {
   "cell_type": "markdown",
   "id": "3decf610",
   "metadata": {},
   "source": [
    "Train set"
   ]
  },
  {
   "cell_type": "code",
   "execution_count": 7,
   "id": "f10a40b8",
   "metadata": {},
   "outputs": [
    {
     "data": {
      "text/plain": [
       "SEDANG         514\n",
       "TIDAK SEHAT    134\n",
       "BAIK            41\n",
       "Name: categori, dtype: int64"
      ]
     },
     "execution_count": 7,
     "metadata": {},
     "output_type": "execute_result"
    }
   ],
   "source": [
    "# Check data proportion\n",
    "train_set[params['label']].value_counts()"
   ]
  },
  {
   "cell_type": "code",
   "execution_count": 8,
   "id": "35acf4ec",
   "metadata": {},
   "outputs": [],
   "source": [
    "# Replace value function\n",
    "def replace_value(data, column, column_number, old_value, replace_value):\n",
    "    \n",
    "    \"\"\"\n",
    "    This function is to locate and replace value from a column. \n",
    "    \n",
    "    :param data: <pandas dataframe> data contain sample\n",
    "    :param column: <string> column name\n",
    "    :param column_number: <string> single or multiple column\n",
    "    :param old_value: <string/int/float> old value or current value\n",
    "    :param replace_value: <string/int/float> value to replace old value\n",
    "    :return data: <pandas dataframe> data contain sample\n",
    "    \"\"\"\n",
    "    \n",
    "    if str(column_number).lower() == \"multiple\":\n",
    "        for col in column:\n",
    "            data[col] = data[col].replace(old_value, replace_value)\n",
    "    elif str(column_number).lower() == \"single\":\n",
    "        data[column] = data[column].replace(old_value, replace_value)\n",
    "        \n",
    "    else: \n",
    "        \"column_number is not correct\"\n",
    "        \n",
    "    return data"
   ]
  },
  {
   "cell_type": "code",
   "execution_count": 9,
   "id": "f38fd37e",
   "metadata": {},
   "outputs": [
    {
     "data": {
      "text/html": [
       "<div>\n",
       "<style scoped>\n",
       "    .dataframe tbody tr th:only-of-type {\n",
       "        vertical-align: middle;\n",
       "    }\n",
       "\n",
       "    .dataframe tbody tr th {\n",
       "        vertical-align: top;\n",
       "    }\n",
       "\n",
       "    .dataframe thead th {\n",
       "        text-align: right;\n",
       "    }\n",
       "</style>\n",
       "<table border=\"1\" class=\"dataframe\">\n",
       "  <thead>\n",
       "    <tr style=\"text-align: right;\">\n",
       "      <th></th>\n",
       "      <th>tanggal</th>\n",
       "      <th>stasiun</th>\n",
       "      <th>pm10</th>\n",
       "      <th>pm25</th>\n",
       "      <th>so2</th>\n",
       "      <th>co</th>\n",
       "      <th>o3</th>\n",
       "      <th>no2</th>\n",
       "      <th>max</th>\n",
       "      <th>critical</th>\n",
       "      <th>categori</th>\n",
       "    </tr>\n",
       "  </thead>\n",
       "  <tbody>\n",
       "    <tr>\n",
       "      <th>499</th>\n",
       "      <td>2021-09-10</td>\n",
       "      <td>DKI2 (Kelapa Gading)</td>\n",
       "      <td>58</td>\n",
       "      <td>77</td>\n",
       "      <td>53</td>\n",
       "      <td>9</td>\n",
       "      <td>32</td>\n",
       "      <td>20</td>\n",
       "      <td>77</td>\n",
       "      <td>PM25</td>\n",
       "      <td>TIDAK SEHAT</td>\n",
       "    </tr>\n",
       "    <tr>\n",
       "      <th>472</th>\n",
       "      <td>2021-09-13</td>\n",
       "      <td>DKI1 (Bunderan HI)</td>\n",
       "      <td>51</td>\n",
       "      <td>64</td>\n",
       "      <td>29</td>\n",
       "      <td>8</td>\n",
       "      <td>23</td>\n",
       "      <td>21</td>\n",
       "      <td>64</td>\n",
       "      <td>PM25</td>\n",
       "      <td>TIDAK SEHAT</td>\n",
       "    </tr>\n",
       "    <tr>\n",
       "      <th>857</th>\n",
       "      <td>2021-11-03</td>\n",
       "      <td>DKI4 (Lubang Buaya)</td>\n",
       "      <td>51</td>\n",
       "      <td>83</td>\n",
       "      <td>42</td>\n",
       "      <td>12</td>\n",
       "      <td>73</td>\n",
       "      <td>17</td>\n",
       "      <td>83</td>\n",
       "      <td>PM25</td>\n",
       "      <td>TIDAK SEHAT</td>\n",
       "    </tr>\n",
       "    <tr>\n",
       "      <th>79</th>\n",
       "      <td>2021-06-20</td>\n",
       "      <td>DKI3 (Jagakarsa)</td>\n",
       "      <td>80</td>\n",
       "      <td>111</td>\n",
       "      <td>52</td>\n",
       "      <td>7</td>\n",
       "      <td>24</td>\n",
       "      <td>29</td>\n",
       "      <td>111</td>\n",
       "      <td>PM25</td>\n",
       "      <td>TIDAK SEHAT</td>\n",
       "    </tr>\n",
       "    <tr>\n",
       "      <th>545</th>\n",
       "      <td>2021-09-26</td>\n",
       "      <td>DKI3 (Jagakarsa)</td>\n",
       "      <td>54</td>\n",
       "      <td>74</td>\n",
       "      <td>50</td>\n",
       "      <td>10</td>\n",
       "      <td>27</td>\n",
       "      <td>13</td>\n",
       "      <td>74</td>\n",
       "      <td>PM25</td>\n",
       "      <td>TIDAK SEHAT</td>\n",
       "    </tr>\n",
       "    <tr>\n",
       "      <th>...</th>\n",
       "      <td>...</td>\n",
       "      <td>...</td>\n",
       "      <td>...</td>\n",
       "      <td>...</td>\n",
       "      <td>...</td>\n",
       "      <td>...</td>\n",
       "      <td>...</td>\n",
       "      <td>...</td>\n",
       "      <td>...</td>\n",
       "      <td>...</td>\n",
       "      <td>...</td>\n",
       "    </tr>\n",
       "    <tr>\n",
       "      <th>452</th>\n",
       "      <td>2021-08-24</td>\n",
       "      <td>DKI5 (Kebon Jeruk) Jakarta Barat</td>\n",
       "      <td>60</td>\n",
       "      <td>97</td>\n",
       "      <td>31</td>\n",
       "      <td>7</td>\n",
       "      <td>32</td>\n",
       "      <td>12</td>\n",
       "      <td>97</td>\n",
       "      <td>PM25</td>\n",
       "      <td>TIDAK SEHAT</td>\n",
       "    </tr>\n",
       "    <tr>\n",
       "      <th>556</th>\n",
       "      <td>2021-09-07</td>\n",
       "      <td>DKI4 (Lubang Buaya)</td>\n",
       "      <td>56</td>\n",
       "      <td>86</td>\n",
       "      <td>42</td>\n",
       "      <td>8</td>\n",
       "      <td>21</td>\n",
       "      <td>21</td>\n",
       "      <td>86</td>\n",
       "      <td>PM25</td>\n",
       "      <td>TIDAK SEHAT</td>\n",
       "    </tr>\n",
       "    <tr>\n",
       "      <th>162</th>\n",
       "      <td>2021-07-13</td>\n",
       "      <td>DKI1 (Bunderan HI)</td>\n",
       "      <td>63</td>\n",
       "      <td>89</td>\n",
       "      <td>33</td>\n",
       "      <td>10</td>\n",
       "      <td>18</td>\n",
       "      <td>24</td>\n",
       "      <td>89</td>\n",
       "      <td>PM25</td>\n",
       "      <td>TIDAK SEHAT</td>\n",
       "    </tr>\n",
       "    <tr>\n",
       "      <th>439</th>\n",
       "      <td>2021-08-11</td>\n",
       "      <td>DKI5 (Kebon Jeruk) Jakarta Barat</td>\n",
       "      <td>54</td>\n",
       "      <td>92</td>\n",
       "      <td>29</td>\n",
       "      <td>11</td>\n",
       "      <td>25</td>\n",
       "      <td>25</td>\n",
       "      <td>92</td>\n",
       "      <td>PM25</td>\n",
       "      <td>TIDAK SEHAT</td>\n",
       "    </tr>\n",
       "    <tr>\n",
       "      <th>271</th>\n",
       "      <td>2021-07-29</td>\n",
       "      <td>DKI4 (Lubang Buaya)</td>\n",
       "      <td>66</td>\n",
       "      <td>130</td>\n",
       "      <td>40</td>\n",
       "      <td>12</td>\n",
       "      <td>25</td>\n",
       "      <td>25</td>\n",
       "      <td>130</td>\n",
       "      <td>PM25</td>\n",
       "      <td>TIDAK SEHAT</td>\n",
       "    </tr>\n",
       "  </tbody>\n",
       "</table>\n",
       "<p>689 rows × 11 columns</p>\n",
       "</div>"
      ],
      "text/plain": [
       "       tanggal                           stasiun  pm10  pm25  so2  co  o3  \\\n",
       "499 2021-09-10              DKI2 (Kelapa Gading)    58    77   53   9  32   \n",
       "472 2021-09-13                DKI1 (Bunderan HI)    51    64   29   8  23   \n",
       "857 2021-11-03               DKI4 (Lubang Buaya)    51    83   42  12  73   \n",
       "79  2021-06-20                  DKI3 (Jagakarsa)    80   111   52   7  24   \n",
       "545 2021-09-26                  DKI3 (Jagakarsa)    54    74   50  10  27   \n",
       "..         ...                               ...   ...   ...  ...  ..  ..   \n",
       "452 2021-08-24  DKI5 (Kebon Jeruk) Jakarta Barat    60    97   31   7  32   \n",
       "556 2021-09-07               DKI4 (Lubang Buaya)    56    86   42   8  21   \n",
       "162 2021-07-13                DKI1 (Bunderan HI)    63    89   33  10  18   \n",
       "439 2021-08-11  DKI5 (Kebon Jeruk) Jakarta Barat    54    92   29  11  25   \n",
       "271 2021-07-29               DKI4 (Lubang Buaya)    66   130   40  12  25   \n",
       "\n",
       "     no2  max critical     categori  \n",
       "499   20   77     PM25  TIDAK SEHAT  \n",
       "472   21   64     PM25  TIDAK SEHAT  \n",
       "857   17   83     PM25  TIDAK SEHAT  \n",
       "79    29  111     PM25  TIDAK SEHAT  \n",
       "545   13   74     PM25  TIDAK SEHAT  \n",
       "..   ...  ...      ...          ...  \n",
       "452   12   97     PM25  TIDAK SEHAT  \n",
       "556   21   86     PM25  TIDAK SEHAT  \n",
       "162   24   89     PM25  TIDAK SEHAT  \n",
       "439   25   92     PM25  TIDAK SEHAT  \n",
       "271   25  130     PM25  TIDAK SEHAT  \n",
       "\n",
       "[689 rows x 11 columns]"
      ]
     },
     "execution_count": 9,
     "metadata": {},
     "output_type": "execute_result"
    }
   ],
   "source": [
    "# Replace value\n",
    "replace_value(train_set, params['label'], 'single', 'SEDANG', \"TIDAK SEHAT\")"
   ]
  },
  {
   "cell_type": "code",
   "execution_count": 10,
   "id": "9ad58add",
   "metadata": {},
   "outputs": [
    {
     "data": {
      "text/plain": [
       "TIDAK SEHAT    648\n",
       "BAIK            41\n",
       "Name: categori, dtype: int64"
      ]
     },
     "execution_count": 10,
     "metadata": {},
     "output_type": "execute_result"
    }
   ],
   "source": [
    "# Check data proportion\n",
    "train_set[params['label']].value_counts()"
   ]
  },
  {
   "cell_type": "markdown",
   "id": "769887d6",
   "metadata": {},
   "source": [
    "Valid set"
   ]
  },
  {
   "cell_type": "code",
   "execution_count": 11,
   "id": "ab786635",
   "metadata": {},
   "outputs": [
    {
     "data": {
      "text/plain": [
       "SEDANG         138\n",
       "TIDAK SEHAT     37\n",
       "BAIK            11\n",
       "Name: categori, dtype: int64"
      ]
     },
     "execution_count": 11,
     "metadata": {},
     "output_type": "execute_result"
    }
   ],
   "source": [
    "# Check data proportion\n",
    "validation_set[params['label']].value_counts()"
   ]
  },
  {
   "cell_type": "code",
   "execution_count": 12,
   "id": "0e69a942",
   "metadata": {},
   "outputs": [
    {
     "data": {
      "text/html": [
       "<div>\n",
       "<style scoped>\n",
       "    .dataframe tbody tr th:only-of-type {\n",
       "        vertical-align: middle;\n",
       "    }\n",
       "\n",
       "    .dataframe tbody tr th {\n",
       "        vertical-align: top;\n",
       "    }\n",
       "\n",
       "    .dataframe thead th {\n",
       "        text-align: right;\n",
       "    }\n",
       "</style>\n",
       "<table border=\"1\" class=\"dataframe\">\n",
       "  <thead>\n",
       "    <tr style=\"text-align: right;\">\n",
       "      <th></th>\n",
       "      <th>tanggal</th>\n",
       "      <th>stasiun</th>\n",
       "      <th>pm10</th>\n",
       "      <th>pm25</th>\n",
       "      <th>so2</th>\n",
       "      <th>co</th>\n",
       "      <th>o3</th>\n",
       "      <th>no2</th>\n",
       "      <th>max</th>\n",
       "      <th>critical</th>\n",
       "      <th>categori</th>\n",
       "    </tr>\n",
       "  </thead>\n",
       "  <tbody>\n",
       "    <tr>\n",
       "      <th>967</th>\n",
       "      <td>2021-12-22</td>\n",
       "      <td>DKI2 (Kelapa Gading)</td>\n",
       "      <td>65</td>\n",
       "      <td>94</td>\n",
       "      <td>36</td>\n",
       "      <td>21</td>\n",
       "      <td>54</td>\n",
       "      <td>49</td>\n",
       "      <td>94</td>\n",
       "      <td>PM25</td>\n",
       "      <td>TIDAK SEHAT</td>\n",
       "    </tr>\n",
       "    <tr>\n",
       "      <th>408</th>\n",
       "      <td>2021-08-11</td>\n",
       "      <td>DKI4 (Lubang Buaya)</td>\n",
       "      <td>56</td>\n",
       "      <td>102</td>\n",
       "      <td>39</td>\n",
       "      <td>11</td>\n",
       "      <td>27</td>\n",
       "      <td>23</td>\n",
       "      <td>102</td>\n",
       "      <td>PM25</td>\n",
       "      <td>TIDAK SEHAT</td>\n",
       "    </tr>\n",
       "    <tr>\n",
       "      <th>789</th>\n",
       "      <td>2021-11-25</td>\n",
       "      <td>DKI1 (Bunderan HI)</td>\n",
       "      <td>39</td>\n",
       "      <td>57</td>\n",
       "      <td>34</td>\n",
       "      <td>10</td>\n",
       "      <td>11</td>\n",
       "      <td>7</td>\n",
       "      <td>57</td>\n",
       "      <td>PM25</td>\n",
       "      <td>TIDAK SEHAT</td>\n",
       "    </tr>\n",
       "    <tr>\n",
       "      <th>604</th>\n",
       "      <td>2021-09-25</td>\n",
       "      <td>DKI5 (Kebon Jeruk) Jakarta Barat</td>\n",
       "      <td>45</td>\n",
       "      <td>64</td>\n",
       "      <td>-1</td>\n",
       "      <td>4</td>\n",
       "      <td>24</td>\n",
       "      <td>12</td>\n",
       "      <td>64</td>\n",
       "      <td>PM25</td>\n",
       "      <td>TIDAK SEHAT</td>\n",
       "    </tr>\n",
       "    <tr>\n",
       "      <th>921</th>\n",
       "      <td>2021-12-07</td>\n",
       "      <td>DKI1 (Bunderan HI)</td>\n",
       "      <td>30</td>\n",
       "      <td>31</td>\n",
       "      <td>34</td>\n",
       "      <td>12</td>\n",
       "      <td>16</td>\n",
       "      <td>9</td>\n",
       "      <td>34</td>\n",
       "      <td>SO2</td>\n",
       "      <td>BAIK</td>\n",
       "    </tr>\n",
       "    <tr>\n",
       "      <th>...</th>\n",
       "      <td>...</td>\n",
       "      <td>...</td>\n",
       "      <td>...</td>\n",
       "      <td>...</td>\n",
       "      <td>...</td>\n",
       "      <td>...</td>\n",
       "      <td>...</td>\n",
       "      <td>...</td>\n",
       "      <td>...</td>\n",
       "      <td>...</td>\n",
       "      <td>...</td>\n",
       "    </tr>\n",
       "    <tr>\n",
       "      <th>65</th>\n",
       "      <td>2021-06-06</td>\n",
       "      <td>DKI3 (Jagakarsa)</td>\n",
       "      <td>63</td>\n",
       "      <td>95</td>\n",
       "      <td>45</td>\n",
       "      <td>11</td>\n",
       "      <td>26</td>\n",
       "      <td>19</td>\n",
       "      <td>95</td>\n",
       "      <td>PM25</td>\n",
       "      <td>TIDAK SEHAT</td>\n",
       "    </tr>\n",
       "    <tr>\n",
       "      <th>1028</th>\n",
       "      <td>2021-12-21</td>\n",
       "      <td>DKI4 (Lubang Buaya)</td>\n",
       "      <td>62</td>\n",
       "      <td>-1</td>\n",
       "      <td>42</td>\n",
       "      <td>17</td>\n",
       "      <td>13</td>\n",
       "      <td>27</td>\n",
       "      <td>62</td>\n",
       "      <td>PM10</td>\n",
       "      <td>TIDAK SEHAT</td>\n",
       "    </tr>\n",
       "    <tr>\n",
       "      <th>844</th>\n",
       "      <td>2021-11-20</td>\n",
       "      <td>DKI3 (Jagakarsa)</td>\n",
       "      <td>37</td>\n",
       "      <td>53</td>\n",
       "      <td>43</td>\n",
       "      <td>6</td>\n",
       "      <td>31</td>\n",
       "      <td>8</td>\n",
       "      <td>53</td>\n",
       "      <td>PM25</td>\n",
       "      <td>TIDAK SEHAT</td>\n",
       "    </tr>\n",
       "    <tr>\n",
       "      <th>453</th>\n",
       "      <td>2021-08-25</td>\n",
       "      <td>DKI5 (Kebon Jeruk) Jakarta Barat</td>\n",
       "      <td>63</td>\n",
       "      <td>95</td>\n",
       "      <td>31</td>\n",
       "      <td>10</td>\n",
       "      <td>29</td>\n",
       "      <td>20</td>\n",
       "      <td>95</td>\n",
       "      <td>PM25</td>\n",
       "      <td>TIDAK SEHAT</td>\n",
       "    </tr>\n",
       "    <tr>\n",
       "      <th>170</th>\n",
       "      <td>2021-07-21</td>\n",
       "      <td>DKI1 (Bunderan HI)</td>\n",
       "      <td>48</td>\n",
       "      <td>66</td>\n",
       "      <td>27</td>\n",
       "      <td>7</td>\n",
       "      <td>26</td>\n",
       "      <td>17</td>\n",
       "      <td>66</td>\n",
       "      <td>PM25</td>\n",
       "      <td>TIDAK SEHAT</td>\n",
       "    </tr>\n",
       "  </tbody>\n",
       "</table>\n",
       "<p>186 rows × 11 columns</p>\n",
       "</div>"
      ],
      "text/plain": [
       "        tanggal                           stasiun  pm10  pm25  so2  co  o3  \\\n",
       "967  2021-12-22              DKI2 (Kelapa Gading)    65    94   36  21  54   \n",
       "408  2021-08-11               DKI4 (Lubang Buaya)    56   102   39  11  27   \n",
       "789  2021-11-25                DKI1 (Bunderan HI)    39    57   34  10  11   \n",
       "604  2021-09-25  DKI5 (Kebon Jeruk) Jakarta Barat    45    64   -1   4  24   \n",
       "921  2021-12-07                DKI1 (Bunderan HI)    30    31   34  12  16   \n",
       "...         ...                               ...   ...   ...  ...  ..  ..   \n",
       "65   2021-06-06                  DKI3 (Jagakarsa)    63    95   45  11  26   \n",
       "1028 2021-12-21               DKI4 (Lubang Buaya)    62    -1   42  17  13   \n",
       "844  2021-11-20                  DKI3 (Jagakarsa)    37    53   43   6  31   \n",
       "453  2021-08-25  DKI5 (Kebon Jeruk) Jakarta Barat    63    95   31  10  29   \n",
       "170  2021-07-21                DKI1 (Bunderan HI)    48    66   27   7  26   \n",
       "\n",
       "      no2  max critical     categori  \n",
       "967    49   94     PM25  TIDAK SEHAT  \n",
       "408    23  102     PM25  TIDAK SEHAT  \n",
       "789     7   57     PM25  TIDAK SEHAT  \n",
       "604    12   64     PM25  TIDAK SEHAT  \n",
       "921     9   34      SO2         BAIK  \n",
       "...   ...  ...      ...          ...  \n",
       "65     19   95     PM25  TIDAK SEHAT  \n",
       "1028   27   62     PM10  TIDAK SEHAT  \n",
       "844     8   53     PM25  TIDAK SEHAT  \n",
       "453    20   95     PM25  TIDAK SEHAT  \n",
       "170    17   66     PM25  TIDAK SEHAT  \n",
       "\n",
       "[186 rows x 11 columns]"
      ]
     },
     "execution_count": 12,
     "metadata": {},
     "output_type": "execute_result"
    }
   ],
   "source": [
    "# Replace value\n",
    "replace_value(validation_set, params['label'], 'single', 'SEDANG', \"TIDAK SEHAT\")"
   ]
  },
  {
   "cell_type": "code",
   "execution_count": 13,
   "id": "496480a7",
   "metadata": {},
   "outputs": [
    {
     "data": {
      "text/plain": [
       "TIDAK SEHAT    175\n",
       "BAIK            11\n",
       "Name: categori, dtype: int64"
      ]
     },
     "execution_count": 13,
     "metadata": {},
     "output_type": "execute_result"
    }
   ],
   "source": [
    "# Check data proportion\n",
    "validation_set[params['label']].value_counts()"
   ]
  },
  {
   "cell_type": "markdown",
   "id": "9a9cbce1",
   "metadata": {},
   "source": [
    "Test set"
   ]
  },
  {
   "cell_type": "code",
   "execution_count": 14,
   "id": "39bc8291",
   "metadata": {},
   "outputs": [
    {
     "data": {
      "text/plain": [
       "SEDANG         139\n",
       "TIDAK SEHAT     36\n",
       "BAIK            11\n",
       "Name: categori, dtype: int64"
      ]
     },
     "execution_count": 14,
     "metadata": {},
     "output_type": "execute_result"
    }
   ],
   "source": [
    "# Check data proportion\n",
    "testing_set[params['label']].value_counts()"
   ]
  },
  {
   "cell_type": "code",
   "execution_count": 15,
   "id": "936c0508",
   "metadata": {},
   "outputs": [
    {
     "data": {
      "text/html": [
       "<div>\n",
       "<style scoped>\n",
       "    .dataframe tbody tr th:only-of-type {\n",
       "        vertical-align: middle;\n",
       "    }\n",
       "\n",
       "    .dataframe tbody tr th {\n",
       "        vertical-align: top;\n",
       "    }\n",
       "\n",
       "    .dataframe thead th {\n",
       "        text-align: right;\n",
       "    }\n",
       "</style>\n",
       "<table border=\"1\" class=\"dataframe\">\n",
       "  <thead>\n",
       "    <tr style=\"text-align: right;\">\n",
       "      <th></th>\n",
       "      <th>tanggal</th>\n",
       "      <th>stasiun</th>\n",
       "      <th>pm10</th>\n",
       "      <th>pm25</th>\n",
       "      <th>so2</th>\n",
       "      <th>co</th>\n",
       "      <th>o3</th>\n",
       "      <th>no2</th>\n",
       "      <th>max</th>\n",
       "      <th>critical</th>\n",
       "      <th>categori</th>\n",
       "    </tr>\n",
       "  </thead>\n",
       "  <tbody>\n",
       "    <tr>\n",
       "      <th>168</th>\n",
       "      <td>2021-07-19</td>\n",
       "      <td>DKI1 (Bunderan HI)</td>\n",
       "      <td>66</td>\n",
       "      <td>95</td>\n",
       "      <td>26</td>\n",
       "      <td>10</td>\n",
       "      <td>32</td>\n",
       "      <td>28</td>\n",
       "      <td>95</td>\n",
       "      <td>PM25</td>\n",
       "      <td>TIDAK SEHAT</td>\n",
       "    </tr>\n",
       "    <tr>\n",
       "      <th>622</th>\n",
       "      <td>2021-10-13</td>\n",
       "      <td>DKI1 (Bunderan HI)</td>\n",
       "      <td>52</td>\n",
       "      <td>67</td>\n",
       "      <td>28</td>\n",
       "      <td>8</td>\n",
       "      <td>25</td>\n",
       "      <td>31</td>\n",
       "      <td>67</td>\n",
       "      <td>PM25</td>\n",
       "      <td>TIDAK SEHAT</td>\n",
       "    </tr>\n",
       "    <tr>\n",
       "      <th>621</th>\n",
       "      <td>2021-10-12</td>\n",
       "      <td>DKI1 (Bunderan HI)</td>\n",
       "      <td>56</td>\n",
       "      <td>76</td>\n",
       "      <td>37</td>\n",
       "      <td>9</td>\n",
       "      <td>23</td>\n",
       "      <td>35</td>\n",
       "      <td>76</td>\n",
       "      <td>PM25</td>\n",
       "      <td>TIDAK SEHAT</td>\n",
       "    </tr>\n",
       "    <tr>\n",
       "      <th>176</th>\n",
       "      <td>2021-07-27</td>\n",
       "      <td>DKI1 (Bunderan HI)</td>\n",
       "      <td>61</td>\n",
       "      <td>91</td>\n",
       "      <td>29</td>\n",
       "      <td>10</td>\n",
       "      <td>23</td>\n",
       "      <td>28</td>\n",
       "      <td>91</td>\n",
       "      <td>PM25</td>\n",
       "      <td>TIDAK SEHAT</td>\n",
       "    </tr>\n",
       "    <tr>\n",
       "      <th>668</th>\n",
       "      <td>2021-10-28</td>\n",
       "      <td>DKI2 (Kelapa Gading)</td>\n",
       "      <td>51</td>\n",
       "      <td>70</td>\n",
       "      <td>67</td>\n",
       "      <td>12</td>\n",
       "      <td>49</td>\n",
       "      <td>30</td>\n",
       "      <td>70</td>\n",
       "      <td>PM25</td>\n",
       "      <td>TIDAK SEHAT</td>\n",
       "    </tr>\n",
       "    <tr>\n",
       "      <th>...</th>\n",
       "      <td>...</td>\n",
       "      <td>...</td>\n",
       "      <td>...</td>\n",
       "      <td>...</td>\n",
       "      <td>...</td>\n",
       "      <td>...</td>\n",
       "      <td>...</td>\n",
       "      <td>...</td>\n",
       "      <td>...</td>\n",
       "      <td>...</td>\n",
       "      <td>...</td>\n",
       "    </tr>\n",
       "    <tr>\n",
       "      <th>420</th>\n",
       "      <td>2021-08-23</td>\n",
       "      <td>DKI4 (Lubang Buaya)</td>\n",
       "      <td>63</td>\n",
       "      <td>106</td>\n",
       "      <td>40</td>\n",
       "      <td>10</td>\n",
       "      <td>24</td>\n",
       "      <td>20</td>\n",
       "      <td>106</td>\n",
       "      <td>PM25</td>\n",
       "      <td>TIDAK SEHAT</td>\n",
       "    </tr>\n",
       "    <tr>\n",
       "      <th>697</th>\n",
       "      <td>2021-10-26</td>\n",
       "      <td>DKI3 (Jagakarsa)</td>\n",
       "      <td>51</td>\n",
       "      <td>71</td>\n",
       "      <td>51</td>\n",
       "      <td>13</td>\n",
       "      <td>30</td>\n",
       "      <td>15</td>\n",
       "      <td>71</td>\n",
       "      <td>PM25</td>\n",
       "      <td>TIDAK SEHAT</td>\n",
       "    </tr>\n",
       "    <tr>\n",
       "      <th>480</th>\n",
       "      <td>2021-09-21</td>\n",
       "      <td>DKI1 (Bunderan HI)</td>\n",
       "      <td>55</td>\n",
       "      <td>81</td>\n",
       "      <td>28</td>\n",
       "      <td>11</td>\n",
       "      <td>29</td>\n",
       "      <td>36</td>\n",
       "      <td>81</td>\n",
       "      <td>PM25</td>\n",
       "      <td>TIDAK SEHAT</td>\n",
       "    </tr>\n",
       "    <tr>\n",
       "      <th>12</th>\n",
       "      <td>2021-06-13</td>\n",
       "      <td>DKI1 (Bunderan HI)</td>\n",
       "      <td>51</td>\n",
       "      <td>70</td>\n",
       "      <td>23</td>\n",
       "      <td>14</td>\n",
       "      <td>25</td>\n",
       "      <td>25</td>\n",
       "      <td>70</td>\n",
       "      <td>PM25</td>\n",
       "      <td>TIDAK SEHAT</td>\n",
       "    </tr>\n",
       "    <tr>\n",
       "      <th>647</th>\n",
       "      <td>2021-10-07</td>\n",
       "      <td>DKI2 (Kelapa Gading)</td>\n",
       "      <td>49</td>\n",
       "      <td>64</td>\n",
       "      <td>60</td>\n",
       "      <td>9</td>\n",
       "      <td>50</td>\n",
       "      <td>20</td>\n",
       "      <td>64</td>\n",
       "      <td>PM25</td>\n",
       "      <td>TIDAK SEHAT</td>\n",
       "    </tr>\n",
       "  </tbody>\n",
       "</table>\n",
       "<p>186 rows × 11 columns</p>\n",
       "</div>"
      ],
      "text/plain": [
       "       tanggal               stasiun  pm10  pm25  so2  co  o3  no2  max  \\\n",
       "168 2021-07-19    DKI1 (Bunderan HI)    66    95   26  10  32   28   95   \n",
       "622 2021-10-13    DKI1 (Bunderan HI)    52    67   28   8  25   31   67   \n",
       "621 2021-10-12    DKI1 (Bunderan HI)    56    76   37   9  23   35   76   \n",
       "176 2021-07-27    DKI1 (Bunderan HI)    61    91   29  10  23   28   91   \n",
       "668 2021-10-28  DKI2 (Kelapa Gading)    51    70   67  12  49   30   70   \n",
       "..         ...                   ...   ...   ...  ...  ..  ..  ...  ...   \n",
       "420 2021-08-23   DKI4 (Lubang Buaya)    63   106   40  10  24   20  106   \n",
       "697 2021-10-26      DKI3 (Jagakarsa)    51    71   51  13  30   15   71   \n",
       "480 2021-09-21    DKI1 (Bunderan HI)    55    81   28  11  29   36   81   \n",
       "12  2021-06-13    DKI1 (Bunderan HI)    51    70   23  14  25   25   70   \n",
       "647 2021-10-07  DKI2 (Kelapa Gading)    49    64   60   9  50   20   64   \n",
       "\n",
       "    critical     categori  \n",
       "168     PM25  TIDAK SEHAT  \n",
       "622     PM25  TIDAK SEHAT  \n",
       "621     PM25  TIDAK SEHAT  \n",
       "176     PM25  TIDAK SEHAT  \n",
       "668     PM25  TIDAK SEHAT  \n",
       "..       ...          ...  \n",
       "420     PM25  TIDAK SEHAT  \n",
       "697     PM25  TIDAK SEHAT  \n",
       "480     PM25  TIDAK SEHAT  \n",
       "12      PM25  TIDAK SEHAT  \n",
       "647     PM25  TIDAK SEHAT  \n",
       "\n",
       "[186 rows x 11 columns]"
      ]
     },
     "execution_count": 15,
     "metadata": {},
     "output_type": "execute_result"
    }
   ],
   "source": [
    "# Replace value\n",
    "replace_value(testing_set, params['label'], 'single', 'SEDANG', \"TIDAK SEHAT\")"
   ]
  },
  {
   "cell_type": "code",
   "execution_count": 16,
   "id": "8af422b5",
   "metadata": {},
   "outputs": [
    {
     "data": {
      "text/plain": [
       "TIDAK SEHAT    175\n",
       "BAIK            11\n",
       "Name: categori, dtype: int64"
      ]
     },
     "execution_count": 16,
     "metadata": {},
     "output_type": "execute_result"
    }
   ],
   "source": [
    "# Check data proportion\n",
    "testing_set[params['label']].value_counts()"
   ]
  },
  {
   "cell_type": "markdown",
   "id": "576fc9b7",
   "metadata": {},
   "source": [
    "**2. Handling missing value**"
   ]
  },
  {
   "cell_type": "code",
   "execution_count": 17,
   "id": "f0701be9",
   "metadata": {},
   "outputs": [
    {
     "name": "stdout",
     "output_type": "stream",
     "text": [
      "15\n",
      "13\n",
      "56\n",
      "2\n",
      "15\n",
      "1\n",
      "0\n"
     ]
    }
   ],
   "source": [
    "# Checking replaced value\n",
    "for col in params['int32_columns']:\n",
    "    print(len(train_set[train_set[col] == -1]))"
   ]
  },
  {
   "cell_type": "code",
   "execution_count": 18,
   "id": "70bf0fe2",
   "metadata": {},
   "outputs": [
    {
     "data": {
      "text/html": [
       "<div>\n",
       "<style scoped>\n",
       "    .dataframe tbody tr th:only-of-type {\n",
       "        vertical-align: middle;\n",
       "    }\n",
       "\n",
       "    .dataframe tbody tr th {\n",
       "        vertical-align: top;\n",
       "    }\n",
       "\n",
       "    .dataframe thead th {\n",
       "        text-align: right;\n",
       "    }\n",
       "</style>\n",
       "<table border=\"1\" class=\"dataframe\">\n",
       "  <thead>\n",
       "    <tr style=\"text-align: right;\">\n",
       "      <th></th>\n",
       "      <th>tanggal</th>\n",
       "      <th>stasiun</th>\n",
       "      <th>pm10</th>\n",
       "      <th>pm25</th>\n",
       "      <th>so2</th>\n",
       "      <th>co</th>\n",
       "      <th>o3</th>\n",
       "      <th>no2</th>\n",
       "      <th>max</th>\n",
       "      <th>critical</th>\n",
       "      <th>categori</th>\n",
       "    </tr>\n",
       "  </thead>\n",
       "  <tbody>\n",
       "    <tr>\n",
       "      <th>499</th>\n",
       "      <td>2021-09-10</td>\n",
       "      <td>DKI2 (Kelapa Gading)</td>\n",
       "      <td>58.0</td>\n",
       "      <td>77.0</td>\n",
       "      <td>53.0</td>\n",
       "      <td>9.0</td>\n",
       "      <td>32.0</td>\n",
       "      <td>20.0</td>\n",
       "      <td>77</td>\n",
       "      <td>PM25</td>\n",
       "      <td>TIDAK SEHAT</td>\n",
       "    </tr>\n",
       "    <tr>\n",
       "      <th>472</th>\n",
       "      <td>2021-09-13</td>\n",
       "      <td>DKI1 (Bunderan HI)</td>\n",
       "      <td>51.0</td>\n",
       "      <td>64.0</td>\n",
       "      <td>29.0</td>\n",
       "      <td>8.0</td>\n",
       "      <td>23.0</td>\n",
       "      <td>21.0</td>\n",
       "      <td>64</td>\n",
       "      <td>PM25</td>\n",
       "      <td>TIDAK SEHAT</td>\n",
       "    </tr>\n",
       "    <tr>\n",
       "      <th>857</th>\n",
       "      <td>2021-11-03</td>\n",
       "      <td>DKI4 (Lubang Buaya)</td>\n",
       "      <td>51.0</td>\n",
       "      <td>83.0</td>\n",
       "      <td>42.0</td>\n",
       "      <td>12.0</td>\n",
       "      <td>73.0</td>\n",
       "      <td>17.0</td>\n",
       "      <td>83</td>\n",
       "      <td>PM25</td>\n",
       "      <td>TIDAK SEHAT</td>\n",
       "    </tr>\n",
       "    <tr>\n",
       "      <th>79</th>\n",
       "      <td>2021-06-20</td>\n",
       "      <td>DKI3 (Jagakarsa)</td>\n",
       "      <td>80.0</td>\n",
       "      <td>111.0</td>\n",
       "      <td>52.0</td>\n",
       "      <td>7.0</td>\n",
       "      <td>24.0</td>\n",
       "      <td>29.0</td>\n",
       "      <td>111</td>\n",
       "      <td>PM25</td>\n",
       "      <td>TIDAK SEHAT</td>\n",
       "    </tr>\n",
       "    <tr>\n",
       "      <th>545</th>\n",
       "      <td>2021-09-26</td>\n",
       "      <td>DKI3 (Jagakarsa)</td>\n",
       "      <td>54.0</td>\n",
       "      <td>74.0</td>\n",
       "      <td>50.0</td>\n",
       "      <td>10.0</td>\n",
       "      <td>27.0</td>\n",
       "      <td>13.0</td>\n",
       "      <td>74</td>\n",
       "      <td>PM25</td>\n",
       "      <td>TIDAK SEHAT</td>\n",
       "    </tr>\n",
       "    <tr>\n",
       "      <th>...</th>\n",
       "      <td>...</td>\n",
       "      <td>...</td>\n",
       "      <td>...</td>\n",
       "      <td>...</td>\n",
       "      <td>...</td>\n",
       "      <td>...</td>\n",
       "      <td>...</td>\n",
       "      <td>...</td>\n",
       "      <td>...</td>\n",
       "      <td>...</td>\n",
       "      <td>...</td>\n",
       "    </tr>\n",
       "    <tr>\n",
       "      <th>452</th>\n",
       "      <td>2021-08-24</td>\n",
       "      <td>DKI5 (Kebon Jeruk) Jakarta Barat</td>\n",
       "      <td>60.0</td>\n",
       "      <td>97.0</td>\n",
       "      <td>31.0</td>\n",
       "      <td>7.0</td>\n",
       "      <td>32.0</td>\n",
       "      <td>12.0</td>\n",
       "      <td>97</td>\n",
       "      <td>PM25</td>\n",
       "      <td>TIDAK SEHAT</td>\n",
       "    </tr>\n",
       "    <tr>\n",
       "      <th>556</th>\n",
       "      <td>2021-09-07</td>\n",
       "      <td>DKI4 (Lubang Buaya)</td>\n",
       "      <td>56.0</td>\n",
       "      <td>86.0</td>\n",
       "      <td>42.0</td>\n",
       "      <td>8.0</td>\n",
       "      <td>21.0</td>\n",
       "      <td>21.0</td>\n",
       "      <td>86</td>\n",
       "      <td>PM25</td>\n",
       "      <td>TIDAK SEHAT</td>\n",
       "    </tr>\n",
       "    <tr>\n",
       "      <th>162</th>\n",
       "      <td>2021-07-13</td>\n",
       "      <td>DKI1 (Bunderan HI)</td>\n",
       "      <td>63.0</td>\n",
       "      <td>89.0</td>\n",
       "      <td>33.0</td>\n",
       "      <td>10.0</td>\n",
       "      <td>18.0</td>\n",
       "      <td>24.0</td>\n",
       "      <td>89</td>\n",
       "      <td>PM25</td>\n",
       "      <td>TIDAK SEHAT</td>\n",
       "    </tr>\n",
       "    <tr>\n",
       "      <th>439</th>\n",
       "      <td>2021-08-11</td>\n",
       "      <td>DKI5 (Kebon Jeruk) Jakarta Barat</td>\n",
       "      <td>54.0</td>\n",
       "      <td>92.0</td>\n",
       "      <td>29.0</td>\n",
       "      <td>11.0</td>\n",
       "      <td>25.0</td>\n",
       "      <td>25.0</td>\n",
       "      <td>92</td>\n",
       "      <td>PM25</td>\n",
       "      <td>TIDAK SEHAT</td>\n",
       "    </tr>\n",
       "    <tr>\n",
       "      <th>271</th>\n",
       "      <td>2021-07-29</td>\n",
       "      <td>DKI4 (Lubang Buaya)</td>\n",
       "      <td>66.0</td>\n",
       "      <td>130.0</td>\n",
       "      <td>40.0</td>\n",
       "      <td>12.0</td>\n",
       "      <td>25.0</td>\n",
       "      <td>25.0</td>\n",
       "      <td>130</td>\n",
       "      <td>PM25</td>\n",
       "      <td>TIDAK SEHAT</td>\n",
       "    </tr>\n",
       "  </tbody>\n",
       "</table>\n",
       "<p>689 rows × 11 columns</p>\n",
       "</div>"
      ],
      "text/plain": [
       "       tanggal                           stasiun  pm10   pm25   so2    co  \\\n",
       "499 2021-09-10              DKI2 (Kelapa Gading)  58.0   77.0  53.0   9.0   \n",
       "472 2021-09-13                DKI1 (Bunderan HI)  51.0   64.0  29.0   8.0   \n",
       "857 2021-11-03               DKI4 (Lubang Buaya)  51.0   83.0  42.0  12.0   \n",
       "79  2021-06-20                  DKI3 (Jagakarsa)  80.0  111.0  52.0   7.0   \n",
       "545 2021-09-26                  DKI3 (Jagakarsa)  54.0   74.0  50.0  10.0   \n",
       "..         ...                               ...   ...    ...   ...   ...   \n",
       "452 2021-08-24  DKI5 (Kebon Jeruk) Jakarta Barat  60.0   97.0  31.0   7.0   \n",
       "556 2021-09-07               DKI4 (Lubang Buaya)  56.0   86.0  42.0   8.0   \n",
       "162 2021-07-13                DKI1 (Bunderan HI)  63.0   89.0  33.0  10.0   \n",
       "439 2021-08-11  DKI5 (Kebon Jeruk) Jakarta Barat  54.0   92.0  29.0  11.0   \n",
       "271 2021-07-29               DKI4 (Lubang Buaya)  66.0  130.0  40.0  12.0   \n",
       "\n",
       "       o3   no2  max critical     categori  \n",
       "499  32.0  20.0   77     PM25  TIDAK SEHAT  \n",
       "472  23.0  21.0   64     PM25  TIDAK SEHAT  \n",
       "857  73.0  17.0   83     PM25  TIDAK SEHAT  \n",
       "79   24.0  29.0  111     PM25  TIDAK SEHAT  \n",
       "545  27.0  13.0   74     PM25  TIDAK SEHAT  \n",
       "..    ...   ...  ...      ...          ...  \n",
       "452  32.0  12.0   97     PM25  TIDAK SEHAT  \n",
       "556  21.0  21.0   86     PM25  TIDAK SEHAT  \n",
       "162  18.0  24.0   89     PM25  TIDAK SEHAT  \n",
       "439  25.0  25.0   92     PM25  TIDAK SEHAT  \n",
       "271  25.0  25.0  130     PM25  TIDAK SEHAT  \n",
       "\n",
       "[689 rows x 11 columns]"
      ]
     },
     "execution_count": 18,
     "metadata": {},
     "output_type": "execute_result"
    }
   ],
   "source": [
    "# Replace value\n",
    "replace_value(data = train_set, \n",
    "              column = train_set.columns,\n",
    "              column_number = \"multiple\",\n",
    "              old_value = -1,\n",
    "              replace_value = np.nan)"
   ]
  },
  {
   "cell_type": "code",
   "execution_count": 19,
   "id": "bb6249b4",
   "metadata": {},
   "outputs": [
    {
     "data": {
      "text/plain": [
       "tanggal      0\n",
       "stasiun      0\n",
       "pm10        15\n",
       "pm25        13\n",
       "so2         56\n",
       "co           2\n",
       "o3          15\n",
       "no2          1\n",
       "max          0\n",
       "critical     0\n",
       "categori     0\n",
       "dtype: int64"
      ]
     },
     "execution_count": 19,
     "metadata": {},
     "output_type": "execute_result"
    }
   ],
   "source": [
    "# Sanity check\n",
    "train_set.isna().sum()"
   ]
  },
  {
   "cell_type": "code",
   "execution_count": 20,
   "id": "0d942c3e",
   "metadata": {},
   "outputs": [
    {
     "name": "stdout",
     "output_type": "stream",
     "text": [
      "4\n",
      "4\n",
      "17\n",
      "3\n",
      "7\n",
      "3\n",
      "0\n"
     ]
    }
   ],
   "source": [
    "# Checking replaced value\n",
    "for col in params['int32_columns']:\n",
    "    print(len(validation_set[validation_set[col] == -1]))"
   ]
  },
  {
   "cell_type": "code",
   "execution_count": 21,
   "id": "455c28d0",
   "metadata": {},
   "outputs": [
    {
     "data": {
      "text/html": [
       "<div>\n",
       "<style scoped>\n",
       "    .dataframe tbody tr th:only-of-type {\n",
       "        vertical-align: middle;\n",
       "    }\n",
       "\n",
       "    .dataframe tbody tr th {\n",
       "        vertical-align: top;\n",
       "    }\n",
       "\n",
       "    .dataframe thead th {\n",
       "        text-align: right;\n",
       "    }\n",
       "</style>\n",
       "<table border=\"1\" class=\"dataframe\">\n",
       "  <thead>\n",
       "    <tr style=\"text-align: right;\">\n",
       "      <th></th>\n",
       "      <th>tanggal</th>\n",
       "      <th>stasiun</th>\n",
       "      <th>pm10</th>\n",
       "      <th>pm25</th>\n",
       "      <th>so2</th>\n",
       "      <th>co</th>\n",
       "      <th>o3</th>\n",
       "      <th>no2</th>\n",
       "      <th>max</th>\n",
       "      <th>critical</th>\n",
       "      <th>categori</th>\n",
       "    </tr>\n",
       "  </thead>\n",
       "  <tbody>\n",
       "    <tr>\n",
       "      <th>967</th>\n",
       "      <td>2021-12-22</td>\n",
       "      <td>DKI2 (Kelapa Gading)</td>\n",
       "      <td>65.0</td>\n",
       "      <td>94.0</td>\n",
       "      <td>36.0</td>\n",
       "      <td>21.0</td>\n",
       "      <td>54.0</td>\n",
       "      <td>49.0</td>\n",
       "      <td>94</td>\n",
       "      <td>PM25</td>\n",
       "      <td>TIDAK SEHAT</td>\n",
       "    </tr>\n",
       "    <tr>\n",
       "      <th>408</th>\n",
       "      <td>2021-08-11</td>\n",
       "      <td>DKI4 (Lubang Buaya)</td>\n",
       "      <td>56.0</td>\n",
       "      <td>102.0</td>\n",
       "      <td>39.0</td>\n",
       "      <td>11.0</td>\n",
       "      <td>27.0</td>\n",
       "      <td>23.0</td>\n",
       "      <td>102</td>\n",
       "      <td>PM25</td>\n",
       "      <td>TIDAK SEHAT</td>\n",
       "    </tr>\n",
       "    <tr>\n",
       "      <th>789</th>\n",
       "      <td>2021-11-25</td>\n",
       "      <td>DKI1 (Bunderan HI)</td>\n",
       "      <td>39.0</td>\n",
       "      <td>57.0</td>\n",
       "      <td>34.0</td>\n",
       "      <td>10.0</td>\n",
       "      <td>11.0</td>\n",
       "      <td>7.0</td>\n",
       "      <td>57</td>\n",
       "      <td>PM25</td>\n",
       "      <td>TIDAK SEHAT</td>\n",
       "    </tr>\n",
       "    <tr>\n",
       "      <th>604</th>\n",
       "      <td>2021-09-25</td>\n",
       "      <td>DKI5 (Kebon Jeruk) Jakarta Barat</td>\n",
       "      <td>45.0</td>\n",
       "      <td>64.0</td>\n",
       "      <td>NaN</td>\n",
       "      <td>4.0</td>\n",
       "      <td>24.0</td>\n",
       "      <td>12.0</td>\n",
       "      <td>64</td>\n",
       "      <td>PM25</td>\n",
       "      <td>TIDAK SEHAT</td>\n",
       "    </tr>\n",
       "    <tr>\n",
       "      <th>921</th>\n",
       "      <td>2021-12-07</td>\n",
       "      <td>DKI1 (Bunderan HI)</td>\n",
       "      <td>30.0</td>\n",
       "      <td>31.0</td>\n",
       "      <td>34.0</td>\n",
       "      <td>12.0</td>\n",
       "      <td>16.0</td>\n",
       "      <td>9.0</td>\n",
       "      <td>34</td>\n",
       "      <td>SO2</td>\n",
       "      <td>BAIK</td>\n",
       "    </tr>\n",
       "    <tr>\n",
       "      <th>...</th>\n",
       "      <td>...</td>\n",
       "      <td>...</td>\n",
       "      <td>...</td>\n",
       "      <td>...</td>\n",
       "      <td>...</td>\n",
       "      <td>...</td>\n",
       "      <td>...</td>\n",
       "      <td>...</td>\n",
       "      <td>...</td>\n",
       "      <td>...</td>\n",
       "      <td>...</td>\n",
       "    </tr>\n",
       "    <tr>\n",
       "      <th>65</th>\n",
       "      <td>2021-06-06</td>\n",
       "      <td>DKI3 (Jagakarsa)</td>\n",
       "      <td>63.0</td>\n",
       "      <td>95.0</td>\n",
       "      <td>45.0</td>\n",
       "      <td>11.0</td>\n",
       "      <td>26.0</td>\n",
       "      <td>19.0</td>\n",
       "      <td>95</td>\n",
       "      <td>PM25</td>\n",
       "      <td>TIDAK SEHAT</td>\n",
       "    </tr>\n",
       "    <tr>\n",
       "      <th>1028</th>\n",
       "      <td>2021-12-21</td>\n",
       "      <td>DKI4 (Lubang Buaya)</td>\n",
       "      <td>62.0</td>\n",
       "      <td>NaN</td>\n",
       "      <td>42.0</td>\n",
       "      <td>17.0</td>\n",
       "      <td>13.0</td>\n",
       "      <td>27.0</td>\n",
       "      <td>62</td>\n",
       "      <td>PM10</td>\n",
       "      <td>TIDAK SEHAT</td>\n",
       "    </tr>\n",
       "    <tr>\n",
       "      <th>844</th>\n",
       "      <td>2021-11-20</td>\n",
       "      <td>DKI3 (Jagakarsa)</td>\n",
       "      <td>37.0</td>\n",
       "      <td>53.0</td>\n",
       "      <td>43.0</td>\n",
       "      <td>6.0</td>\n",
       "      <td>31.0</td>\n",
       "      <td>8.0</td>\n",
       "      <td>53</td>\n",
       "      <td>PM25</td>\n",
       "      <td>TIDAK SEHAT</td>\n",
       "    </tr>\n",
       "    <tr>\n",
       "      <th>453</th>\n",
       "      <td>2021-08-25</td>\n",
       "      <td>DKI5 (Kebon Jeruk) Jakarta Barat</td>\n",
       "      <td>63.0</td>\n",
       "      <td>95.0</td>\n",
       "      <td>31.0</td>\n",
       "      <td>10.0</td>\n",
       "      <td>29.0</td>\n",
       "      <td>20.0</td>\n",
       "      <td>95</td>\n",
       "      <td>PM25</td>\n",
       "      <td>TIDAK SEHAT</td>\n",
       "    </tr>\n",
       "    <tr>\n",
       "      <th>170</th>\n",
       "      <td>2021-07-21</td>\n",
       "      <td>DKI1 (Bunderan HI)</td>\n",
       "      <td>48.0</td>\n",
       "      <td>66.0</td>\n",
       "      <td>27.0</td>\n",
       "      <td>7.0</td>\n",
       "      <td>26.0</td>\n",
       "      <td>17.0</td>\n",
       "      <td>66</td>\n",
       "      <td>PM25</td>\n",
       "      <td>TIDAK SEHAT</td>\n",
       "    </tr>\n",
       "  </tbody>\n",
       "</table>\n",
       "<p>186 rows × 11 columns</p>\n",
       "</div>"
      ],
      "text/plain": [
       "        tanggal                           stasiun  pm10   pm25   so2    co  \\\n",
       "967  2021-12-22              DKI2 (Kelapa Gading)  65.0   94.0  36.0  21.0   \n",
       "408  2021-08-11               DKI4 (Lubang Buaya)  56.0  102.0  39.0  11.0   \n",
       "789  2021-11-25                DKI1 (Bunderan HI)  39.0   57.0  34.0  10.0   \n",
       "604  2021-09-25  DKI5 (Kebon Jeruk) Jakarta Barat  45.0   64.0   NaN   4.0   \n",
       "921  2021-12-07                DKI1 (Bunderan HI)  30.0   31.0  34.0  12.0   \n",
       "...         ...                               ...   ...    ...   ...   ...   \n",
       "65   2021-06-06                  DKI3 (Jagakarsa)  63.0   95.0  45.0  11.0   \n",
       "1028 2021-12-21               DKI4 (Lubang Buaya)  62.0    NaN  42.0  17.0   \n",
       "844  2021-11-20                  DKI3 (Jagakarsa)  37.0   53.0  43.0   6.0   \n",
       "453  2021-08-25  DKI5 (Kebon Jeruk) Jakarta Barat  63.0   95.0  31.0  10.0   \n",
       "170  2021-07-21                DKI1 (Bunderan HI)  48.0   66.0  27.0   7.0   \n",
       "\n",
       "        o3   no2  max critical     categori  \n",
       "967   54.0  49.0   94     PM25  TIDAK SEHAT  \n",
       "408   27.0  23.0  102     PM25  TIDAK SEHAT  \n",
       "789   11.0   7.0   57     PM25  TIDAK SEHAT  \n",
       "604   24.0  12.0   64     PM25  TIDAK SEHAT  \n",
       "921   16.0   9.0   34      SO2         BAIK  \n",
       "...    ...   ...  ...      ...          ...  \n",
       "65    26.0  19.0   95     PM25  TIDAK SEHAT  \n",
       "1028  13.0  27.0   62     PM10  TIDAK SEHAT  \n",
       "844   31.0   8.0   53     PM25  TIDAK SEHAT  \n",
       "453   29.0  20.0   95     PM25  TIDAK SEHAT  \n",
       "170   26.0  17.0   66     PM25  TIDAK SEHAT  \n",
       "\n",
       "[186 rows x 11 columns]"
      ]
     },
     "execution_count": 21,
     "metadata": {},
     "output_type": "execute_result"
    }
   ],
   "source": [
    "# Replace value\n",
    "replace_value(data = validation_set, \n",
    "              column = validation_set.columns,\n",
    "              column_number = \"multiple\",\n",
    "              old_value = -1,\n",
    "              replace_value = np.nan)"
   ]
  },
  {
   "cell_type": "code",
   "execution_count": 22,
   "id": "eff64447",
   "metadata": {},
   "outputs": [
    {
     "data": {
      "text/plain": [
       "tanggal      0\n",
       "stasiun      0\n",
       "pm10         4\n",
       "pm25         4\n",
       "so2         17\n",
       "co           3\n",
       "o3           7\n",
       "no2          3\n",
       "max          0\n",
       "critical     0\n",
       "categori     0\n",
       "dtype: int64"
      ]
     },
     "execution_count": 22,
     "metadata": {},
     "output_type": "execute_result"
    }
   ],
   "source": [
    "# Sanity check\n",
    "validation_set.isna().sum()"
   ]
  },
  {
   "cell_type": "code",
   "execution_count": 23,
   "id": "3992ac1b",
   "metadata": {},
   "outputs": [
    {
     "name": "stdout",
     "output_type": "stream",
     "text": [
      "6\n",
      "3\n",
      "15\n",
      "2\n",
      "6\n",
      "1\n",
      "0\n"
     ]
    }
   ],
   "source": [
    "# Checking replaced value\n",
    "for col in params['int32_columns']:\n",
    "    print(len(testing_set[testing_set[col] == -1]))"
   ]
  },
  {
   "cell_type": "code",
   "execution_count": 24,
   "id": "7ab7f1e9",
   "metadata": {},
   "outputs": [
    {
     "data": {
      "text/html": [
       "<div>\n",
       "<style scoped>\n",
       "    .dataframe tbody tr th:only-of-type {\n",
       "        vertical-align: middle;\n",
       "    }\n",
       "\n",
       "    .dataframe tbody tr th {\n",
       "        vertical-align: top;\n",
       "    }\n",
       "\n",
       "    .dataframe thead th {\n",
       "        text-align: right;\n",
       "    }\n",
       "</style>\n",
       "<table border=\"1\" class=\"dataframe\">\n",
       "  <thead>\n",
       "    <tr style=\"text-align: right;\">\n",
       "      <th></th>\n",
       "      <th>tanggal</th>\n",
       "      <th>stasiun</th>\n",
       "      <th>pm10</th>\n",
       "      <th>pm25</th>\n",
       "      <th>so2</th>\n",
       "      <th>co</th>\n",
       "      <th>o3</th>\n",
       "      <th>no2</th>\n",
       "      <th>max</th>\n",
       "      <th>critical</th>\n",
       "      <th>categori</th>\n",
       "    </tr>\n",
       "  </thead>\n",
       "  <tbody>\n",
       "    <tr>\n",
       "      <th>168</th>\n",
       "      <td>2021-07-19</td>\n",
       "      <td>DKI1 (Bunderan HI)</td>\n",
       "      <td>66.0</td>\n",
       "      <td>95.0</td>\n",
       "      <td>26.0</td>\n",
       "      <td>10.0</td>\n",
       "      <td>32.0</td>\n",
       "      <td>28.0</td>\n",
       "      <td>95</td>\n",
       "      <td>PM25</td>\n",
       "      <td>TIDAK SEHAT</td>\n",
       "    </tr>\n",
       "    <tr>\n",
       "      <th>622</th>\n",
       "      <td>2021-10-13</td>\n",
       "      <td>DKI1 (Bunderan HI)</td>\n",
       "      <td>52.0</td>\n",
       "      <td>67.0</td>\n",
       "      <td>28.0</td>\n",
       "      <td>8.0</td>\n",
       "      <td>25.0</td>\n",
       "      <td>31.0</td>\n",
       "      <td>67</td>\n",
       "      <td>PM25</td>\n",
       "      <td>TIDAK SEHAT</td>\n",
       "    </tr>\n",
       "    <tr>\n",
       "      <th>621</th>\n",
       "      <td>2021-10-12</td>\n",
       "      <td>DKI1 (Bunderan HI)</td>\n",
       "      <td>56.0</td>\n",
       "      <td>76.0</td>\n",
       "      <td>37.0</td>\n",
       "      <td>9.0</td>\n",
       "      <td>23.0</td>\n",
       "      <td>35.0</td>\n",
       "      <td>76</td>\n",
       "      <td>PM25</td>\n",
       "      <td>TIDAK SEHAT</td>\n",
       "    </tr>\n",
       "    <tr>\n",
       "      <th>176</th>\n",
       "      <td>2021-07-27</td>\n",
       "      <td>DKI1 (Bunderan HI)</td>\n",
       "      <td>61.0</td>\n",
       "      <td>91.0</td>\n",
       "      <td>29.0</td>\n",
       "      <td>10.0</td>\n",
       "      <td>23.0</td>\n",
       "      <td>28.0</td>\n",
       "      <td>91</td>\n",
       "      <td>PM25</td>\n",
       "      <td>TIDAK SEHAT</td>\n",
       "    </tr>\n",
       "    <tr>\n",
       "      <th>668</th>\n",
       "      <td>2021-10-28</td>\n",
       "      <td>DKI2 (Kelapa Gading)</td>\n",
       "      <td>51.0</td>\n",
       "      <td>70.0</td>\n",
       "      <td>67.0</td>\n",
       "      <td>12.0</td>\n",
       "      <td>49.0</td>\n",
       "      <td>30.0</td>\n",
       "      <td>70</td>\n",
       "      <td>PM25</td>\n",
       "      <td>TIDAK SEHAT</td>\n",
       "    </tr>\n",
       "    <tr>\n",
       "      <th>...</th>\n",
       "      <td>...</td>\n",
       "      <td>...</td>\n",
       "      <td>...</td>\n",
       "      <td>...</td>\n",
       "      <td>...</td>\n",
       "      <td>...</td>\n",
       "      <td>...</td>\n",
       "      <td>...</td>\n",
       "      <td>...</td>\n",
       "      <td>...</td>\n",
       "      <td>...</td>\n",
       "    </tr>\n",
       "    <tr>\n",
       "      <th>420</th>\n",
       "      <td>2021-08-23</td>\n",
       "      <td>DKI4 (Lubang Buaya)</td>\n",
       "      <td>63.0</td>\n",
       "      <td>106.0</td>\n",
       "      <td>40.0</td>\n",
       "      <td>10.0</td>\n",
       "      <td>24.0</td>\n",
       "      <td>20.0</td>\n",
       "      <td>106</td>\n",
       "      <td>PM25</td>\n",
       "      <td>TIDAK SEHAT</td>\n",
       "    </tr>\n",
       "    <tr>\n",
       "      <th>697</th>\n",
       "      <td>2021-10-26</td>\n",
       "      <td>DKI3 (Jagakarsa)</td>\n",
       "      <td>51.0</td>\n",
       "      <td>71.0</td>\n",
       "      <td>51.0</td>\n",
       "      <td>13.0</td>\n",
       "      <td>30.0</td>\n",
       "      <td>15.0</td>\n",
       "      <td>71</td>\n",
       "      <td>PM25</td>\n",
       "      <td>TIDAK SEHAT</td>\n",
       "    </tr>\n",
       "    <tr>\n",
       "      <th>480</th>\n",
       "      <td>2021-09-21</td>\n",
       "      <td>DKI1 (Bunderan HI)</td>\n",
       "      <td>55.0</td>\n",
       "      <td>81.0</td>\n",
       "      <td>28.0</td>\n",
       "      <td>11.0</td>\n",
       "      <td>29.0</td>\n",
       "      <td>36.0</td>\n",
       "      <td>81</td>\n",
       "      <td>PM25</td>\n",
       "      <td>TIDAK SEHAT</td>\n",
       "    </tr>\n",
       "    <tr>\n",
       "      <th>12</th>\n",
       "      <td>2021-06-13</td>\n",
       "      <td>DKI1 (Bunderan HI)</td>\n",
       "      <td>51.0</td>\n",
       "      <td>70.0</td>\n",
       "      <td>23.0</td>\n",
       "      <td>14.0</td>\n",
       "      <td>25.0</td>\n",
       "      <td>25.0</td>\n",
       "      <td>70</td>\n",
       "      <td>PM25</td>\n",
       "      <td>TIDAK SEHAT</td>\n",
       "    </tr>\n",
       "    <tr>\n",
       "      <th>647</th>\n",
       "      <td>2021-10-07</td>\n",
       "      <td>DKI2 (Kelapa Gading)</td>\n",
       "      <td>49.0</td>\n",
       "      <td>64.0</td>\n",
       "      <td>60.0</td>\n",
       "      <td>9.0</td>\n",
       "      <td>50.0</td>\n",
       "      <td>20.0</td>\n",
       "      <td>64</td>\n",
       "      <td>PM25</td>\n",
       "      <td>TIDAK SEHAT</td>\n",
       "    </tr>\n",
       "  </tbody>\n",
       "</table>\n",
       "<p>186 rows × 11 columns</p>\n",
       "</div>"
      ],
      "text/plain": [
       "       tanggal               stasiun  pm10   pm25   so2    co    o3   no2  \\\n",
       "168 2021-07-19    DKI1 (Bunderan HI)  66.0   95.0  26.0  10.0  32.0  28.0   \n",
       "622 2021-10-13    DKI1 (Bunderan HI)  52.0   67.0  28.0   8.0  25.0  31.0   \n",
       "621 2021-10-12    DKI1 (Bunderan HI)  56.0   76.0  37.0   9.0  23.0  35.0   \n",
       "176 2021-07-27    DKI1 (Bunderan HI)  61.0   91.0  29.0  10.0  23.0  28.0   \n",
       "668 2021-10-28  DKI2 (Kelapa Gading)  51.0   70.0  67.0  12.0  49.0  30.0   \n",
       "..         ...                   ...   ...    ...   ...   ...   ...   ...   \n",
       "420 2021-08-23   DKI4 (Lubang Buaya)  63.0  106.0  40.0  10.0  24.0  20.0   \n",
       "697 2021-10-26      DKI3 (Jagakarsa)  51.0   71.0  51.0  13.0  30.0  15.0   \n",
       "480 2021-09-21    DKI1 (Bunderan HI)  55.0   81.0  28.0  11.0  29.0  36.0   \n",
       "12  2021-06-13    DKI1 (Bunderan HI)  51.0   70.0  23.0  14.0  25.0  25.0   \n",
       "647 2021-10-07  DKI2 (Kelapa Gading)  49.0   64.0  60.0   9.0  50.0  20.0   \n",
       "\n",
       "     max critical     categori  \n",
       "168   95     PM25  TIDAK SEHAT  \n",
       "622   67     PM25  TIDAK SEHAT  \n",
       "621   76     PM25  TIDAK SEHAT  \n",
       "176   91     PM25  TIDAK SEHAT  \n",
       "668   70     PM25  TIDAK SEHAT  \n",
       "..   ...      ...          ...  \n",
       "420  106     PM25  TIDAK SEHAT  \n",
       "697   71     PM25  TIDAK SEHAT  \n",
       "480   81     PM25  TIDAK SEHAT  \n",
       "12    70     PM25  TIDAK SEHAT  \n",
       "647   64     PM25  TIDAK SEHAT  \n",
       "\n",
       "[186 rows x 11 columns]"
      ]
     },
     "execution_count": 24,
     "metadata": {},
     "output_type": "execute_result"
    }
   ],
   "source": [
    "# Replace value\n",
    "replace_value(data = testing_set, \n",
    "              column = testing_set.columns,\n",
    "              column_number = \"multiple\",\n",
    "              old_value = -1,\n",
    "              replace_value = np.nan)"
   ]
  },
  {
   "cell_type": "code",
   "execution_count": 25,
   "id": "99a330b7",
   "metadata": {},
   "outputs": [
    {
     "data": {
      "text/plain": [
       "tanggal      0\n",
       "stasiun      0\n",
       "pm10         6\n",
       "pm25         3\n",
       "so2         15\n",
       "co           2\n",
       "o3           6\n",
       "no2          1\n",
       "max          0\n",
       "critical     0\n",
       "categori     0\n",
       "dtype: int64"
      ]
     },
     "execution_count": 25,
     "metadata": {},
     "output_type": "execute_result"
    }
   ],
   "source": [
    "# Sanity check\n",
    "testing_set.isna().sum()"
   ]
  },
  {
   "cell_type": "markdown",
   "id": "854ceeee",
   "metadata": {},
   "source": [
    "- pm10      : median dari kelas 0 dan 1 terpaut cukup jauh, maka akan menggunakan kelas"
   ]
  },
  {
   "cell_type": "code",
   "execution_count": 26,
   "id": "dde4ff5c",
   "metadata": {},
   "outputs": [],
   "source": [
    "# Calculate median\n",
    "imputation_baik = int(train_set[train_set[params['label']] == params['label_categories'][0]].pm10.median())\n",
    "imputation_tidak_sehat = int(train_set[train_set[params['label']] == params['label_categories'][1]].pm10.median())"
   ]
  },
  {
   "cell_type": "code",
   "execution_count": 27,
   "id": "ad57f00a",
   "metadata": {},
   "outputs": [
    {
     "data": {
      "text/plain": [
       "(28, 57)"
      ]
     },
     "execution_count": 27,
     "metadata": {},
     "output_type": "execute_result"
    }
   ],
   "source": [
    "# Show mean\n",
    "imputation_baik, imputation_tidak_sehat"
   ]
  },
  {
   "cell_type": "markdown",
   "id": "68a2a816",
   "metadata": {},
   "source": [
    "1. Train set"
   ]
  },
  {
   "cell_type": "code",
   "execution_count": 28,
   "id": "a98ed5d0",
   "metadata": {},
   "outputs": [
    {
     "data": {
      "text/plain": [
       "(1, 14)"
      ]
     },
     "execution_count": 28,
     "metadata": {},
     "output_type": "execute_result"
    }
   ],
   "source": [
    "# Checking mising value proportion\n",
    "train_set[train_set[params['label']] == params['label_categories'][0]].pm10.isnull().sum(), train_set[train_set[params['label']] == params['label_categories'][1]].pm10.isnull().sum()"
   ]
  },
  {
   "cell_type": "code",
   "execution_count": 29,
   "id": "d8b1c77d",
   "metadata": {},
   "outputs": [],
   "source": [
    "# Missing value imputation\n",
    "train_set.loc[train_set[(train_set[params['label']] == params['label_categories'][0]) & (train_set['pm10'].isnull() == True)].index, \"pm10\"] = imputation_baik\n",
    "train_set.loc[train_set[(train_set[params['label']] == params['label_categories'][1]) & (train_set['pm10'].isnull() == True)].index, \"pm10\"] = imputation_tidak_sehat"
   ]
  },
  {
   "cell_type": "code",
   "execution_count": 30,
   "id": "170f4691",
   "metadata": {},
   "outputs": [
    {
     "data": {
      "text/plain": [
       "(0, 0)"
      ]
     },
     "execution_count": 30,
     "metadata": {},
     "output_type": "execute_result"
    }
   ],
   "source": [
    "# Checking mising value proportion\n",
    "train_set[train_set[params['label']] == params['label_categories'][0]].pm10.isnull().sum(), train_set[train_set[params['label']] == params['label_categories'][1]].pm10.isnull().sum()"
   ]
  },
  {
   "cell_type": "markdown",
   "id": "e4e47456",
   "metadata": {},
   "source": [
    "2. Validation set"
   ]
  },
  {
   "cell_type": "code",
   "execution_count": 31,
   "id": "fe5aed1c",
   "metadata": {},
   "outputs": [
    {
     "data": {
      "text/plain": [
       "(0, 4)"
      ]
     },
     "execution_count": 31,
     "metadata": {},
     "output_type": "execute_result"
    }
   ],
   "source": [
    "# Checking mising value proportion\n",
    "validation_set[validation_set[params['label']] == params['label_categories'][0]].pm10.isnull().sum(), validation_set[validation_set[params['label']] == params['label_categories'][1]].pm10.isnull().sum()"
   ]
  },
  {
   "cell_type": "code",
   "execution_count": 32,
   "id": "260d923e",
   "metadata": {},
   "outputs": [],
   "source": [
    "# Missing value imputation\n",
    "validation_set.loc[validation_set[(validation_set[params['label']] == params['label_categories'][0]) & (validation_set['pm10'].isnull() == True)].index, \"pm10\"] = imputation_baik\n",
    "validation_set.loc[validation_set[(validation_set[params['label']] == params['label_categories'][1]) & (validation_set['pm10'].isnull() == True)].index, \"pm10\"] = imputation_tidak_sehat"
   ]
  },
  {
   "cell_type": "code",
   "execution_count": 33,
   "id": "9d173746",
   "metadata": {},
   "outputs": [
    {
     "data": {
      "text/plain": [
       "(0, 0)"
      ]
     },
     "execution_count": 33,
     "metadata": {},
     "output_type": "execute_result"
    }
   ],
   "source": [
    "# Checking mising value proportion\n",
    "validation_set[validation_set[params['label']] == params['label_categories'][0]].pm10.isnull().sum(), validation_set[validation_set[params['label']] == params['label_categories'][1]].pm10.isnull().sum()"
   ]
  },
  {
   "cell_type": "markdown",
   "id": "3acb89b5",
   "metadata": {},
   "source": [
    "3. Test set"
   ]
  },
  {
   "cell_type": "code",
   "execution_count": 34,
   "id": "2ecf52b3",
   "metadata": {},
   "outputs": [
    {
     "data": {
      "text/plain": [
       "(0, 6)"
      ]
     },
     "execution_count": 34,
     "metadata": {},
     "output_type": "execute_result"
    }
   ],
   "source": [
    "# Checking mising value proportion\n",
    "testing_set[testing_set[params['label']] == params['label_categories'][0]].pm10.isnull().sum(), testing_set[testing_set[params['label']] == params['label_categories'][1]].pm10.isnull().sum()"
   ]
  },
  {
   "cell_type": "code",
   "execution_count": 35,
   "id": "4a070c3b",
   "metadata": {},
   "outputs": [],
   "source": [
    "# Missing value imputation\n",
    "testing_set.loc[testing_set[(testing_set[params['label']] == params['label_categories'][0]) & (testing_set['pm10'].isnull() == True)].index, \"pm10\"] = imputation_baik\n",
    "testing_set.loc[testing_set[(testing_set[params['label']] == params['label_categories'][1]) & (testing_set['pm10'].isnull() == True)].index, \"pm10\"] = imputation_tidak_sehat"
   ]
  },
  {
   "cell_type": "code",
   "execution_count": 36,
   "id": "09332a96",
   "metadata": {},
   "outputs": [
    {
     "data": {
      "text/plain": [
       "(0, 0)"
      ]
     },
     "execution_count": 36,
     "metadata": {},
     "output_type": "execute_result"
    }
   ],
   "source": [
    "# Checking mising value proportion\n",
    "testing_set[testing_set[params['label']] == params['label_categories'][0]].pm10.isnull().sum(), testing_set[testing_set[params['label']] == params['label_categories'][1]].pm10.isnull().sum()"
   ]
  },
  {
   "cell_type": "markdown",
   "id": "f3db7e79",
   "metadata": {},
   "source": [
    "- pm25      : mean dari kelas 0 dan 1 terpaut cukup jauh, maka akan menggunakan kelas"
   ]
  },
  {
   "cell_type": "code",
   "execution_count": 37,
   "id": "462dd337",
   "metadata": {},
   "outputs": [],
   "source": [
    "# Calculate mean\n",
    "imputation_baik = int(train_set[train_set[params['label']] == params['label_categories'][0]].pm25.mean())\n",
    "imputation_tidak_sehat = int(train_set[train_set[params['label']] == params['label_categories'][1]].pm25.mean())"
   ]
  },
  {
   "cell_type": "code",
   "execution_count": 38,
   "id": "0c720b05",
   "metadata": {},
   "outputs": [
    {
     "data": {
      "text/plain": [
       "(40, 85)"
      ]
     },
     "execution_count": 38,
     "metadata": {},
     "output_type": "execute_result"
    }
   ],
   "source": [
    "# Show mean\n",
    "imputation_baik, imputation_tidak_sehat"
   ]
  },
  {
   "cell_type": "markdown",
   "id": "5bf933fc",
   "metadata": {},
   "source": [
    "1. Train set"
   ]
  },
  {
   "cell_type": "code",
   "execution_count": 39,
   "id": "e154371b",
   "metadata": {},
   "outputs": [
    {
     "data": {
      "text/plain": [
       "(8, 5)"
      ]
     },
     "execution_count": 39,
     "metadata": {},
     "output_type": "execute_result"
    }
   ],
   "source": [
    "# Checking mising value proportion\n",
    "train_set[train_set[params['label']] == params['label_categories'][0]].pm25.isnull().sum(), train_set[train_set[params['label']] == params['label_categories'][1]].pm25.isnull().sum()"
   ]
  },
  {
   "cell_type": "code",
   "execution_count": 40,
   "id": "9963a6da",
   "metadata": {},
   "outputs": [],
   "source": [
    "# Missing value imputation\n",
    "train_set.loc[train_set[(train_set[params['label']] == params['label_categories'][0]) & (train_set['pm25'].isnull() == True)].index, \"pm25\"] = imputation_baik\n",
    "train_set.loc[train_set[(train_set[params['label']] == params['label_categories'][1]) & (train_set['pm25'].isnull() == True)].index, \"pm25\"] = imputation_tidak_sehat"
   ]
  },
  {
   "cell_type": "code",
   "execution_count": 41,
   "id": "e9d99fef",
   "metadata": {},
   "outputs": [
    {
     "data": {
      "text/plain": [
       "(0, 0)"
      ]
     },
     "execution_count": 41,
     "metadata": {},
     "output_type": "execute_result"
    }
   ],
   "source": [
    "# Checking mising value proportion\n",
    "train_set[train_set[params['label']] == params['label_categories'][0]].pm25.isnull().sum(), train_set[train_set[params['label']] == params['label_categories'][1]].pm25.isnull().sum()"
   ]
  },
  {
   "cell_type": "markdown",
   "id": "b8e77a67",
   "metadata": {},
   "source": [
    "2. Validation set"
   ]
  },
  {
   "cell_type": "code",
   "execution_count": 42,
   "id": "dad576cf",
   "metadata": {},
   "outputs": [
    {
     "data": {
      "text/plain": [
       "(0, 4)"
      ]
     },
     "execution_count": 42,
     "metadata": {},
     "output_type": "execute_result"
    }
   ],
   "source": [
    "# Checking mising value proportion\n",
    "validation_set[validation_set[params['label']] == params['label_categories'][0]].pm25.isnull().sum(), validation_set[validation_set[params['label']] == params['label_categories'][1]].pm25.isnull().sum()"
   ]
  },
  {
   "cell_type": "code",
   "execution_count": 43,
   "id": "23eebab2",
   "metadata": {},
   "outputs": [],
   "source": [
    "# Missing value imputation\n",
    "validation_set.loc[validation_set[(validation_set[params['label']] == params['label_categories'][0]) & (validation_set['pm25'].isnull() == True)].index, \"pm25\"] = imputation_baik\n",
    "validation_set.loc[validation_set[(validation_set[params['label']] == params['label_categories'][1]) & (validation_set['pm25'].isnull() == True)].index, \"pm25\"] = imputation_tidak_sehat"
   ]
  },
  {
   "cell_type": "code",
   "execution_count": 44,
   "id": "31934971",
   "metadata": {},
   "outputs": [
    {
     "data": {
      "text/plain": [
       "(0, 0)"
      ]
     },
     "execution_count": 44,
     "metadata": {},
     "output_type": "execute_result"
    }
   ],
   "source": [
    "# Checking mising value proportion\n",
    "validation_set[validation_set[params['label']] == params['label_categories'][0]].pm25.isnull().sum(), validation_set[validation_set[params['label']] == params['label_categories'][1]].pm25.isnull().sum()"
   ]
  },
  {
   "cell_type": "markdown",
   "id": "37e3b6bf",
   "metadata": {},
   "source": [
    "3. Test set"
   ]
  },
  {
   "cell_type": "code",
   "execution_count": 45,
   "id": "49166e12",
   "metadata": {},
   "outputs": [
    {
     "data": {
      "text/plain": [
       "(1, 2)"
      ]
     },
     "execution_count": 45,
     "metadata": {},
     "output_type": "execute_result"
    }
   ],
   "source": [
    "# Checking mising value proportion\n",
    "testing_set[testing_set[params['label']] == params['label_categories'][0]].pm25.isnull().sum(), testing_set[testing_set[params['label']] == params['label_categories'][1]].pm25.isnull().sum()"
   ]
  },
  {
   "cell_type": "code",
   "execution_count": 46,
   "id": "8ffdffba",
   "metadata": {},
   "outputs": [],
   "source": [
    "# Missing value imputation\n",
    "testing_set.loc[testing_set[(testing_set[params['label']] == params['label_categories'][0]) & (testing_set['pm25'].isnull() == True)].index, \"pm25\"] = imputation_baik\n",
    "testing_set.loc[testing_set[(testing_set[params['label']] == params['label_categories'][1]) & (testing_set['pm25'].isnull() == True)].index, \"pm25\"] = imputation_tidak_sehat"
   ]
  },
  {
   "cell_type": "code",
   "execution_count": 47,
   "id": "67258c46",
   "metadata": {},
   "outputs": [
    {
     "data": {
      "text/plain": [
       "(0, 0)"
      ]
     },
     "execution_count": 47,
     "metadata": {},
     "output_type": "execute_result"
    }
   ],
   "source": [
    "# Checking mising value proportion\n",
    "testing_set[testing_set[params['label']] == params['label_categories'][0]].pm25.isnull().sum(), testing_set[testing_set[params['label']] == params['label_categories'][1]].pm25.isnull().sum()"
   ]
  },
  {
   "cell_type": "markdown",
   "id": "8e403125",
   "metadata": {},
   "source": [
    "- so2       : mean dari kelas 0 dan 1 tidak terpaut cukup jauh, maka tidak akan menggunakan kelas\n",
    "- co        : median dari kelas 0 dan 1 tidak terpaut jauh, maka tidak akan menggunakan kelas\n",
    "- o3        : median dari kelas 0 dan 1 tidak terpaut cukup jauh, maka tidak akan menggunakan kelas\n",
    "- no2       : median dari kelas 0 dan 1 tidak terpaut cukup jauh, maka tidak akan menggunakan kelas"
   ]
  },
  {
   "cell_type": "code",
   "execution_count": 48,
   "id": "cb6240e5",
   "metadata": {},
   "outputs": [],
   "source": [
    "# Calculate mean and median\n",
    "imputation_so2 = int(train_set['so2'].mean())\n",
    "imputation_co = int(train_set['co'].median())\n",
    "imputation_o3 = int(train_set['o3'].median())\n",
    "imputation_no2 = int(train_set['no2'].median())"
   ]
  },
  {
   "cell_type": "code",
   "execution_count": 49,
   "id": "0b0764ef",
   "metadata": {},
   "outputs": [],
   "source": [
    "# Store into dictionary\n",
    "imputation_values = {\"so2\" : imputation_so2, \"co\" : imputation_co, \"o3\" : imputation_o3, \"no2\" : imputation_no2}"
   ]
  },
  {
   "cell_type": "code",
   "execution_count": 50,
   "id": "700eaee1",
   "metadata": {},
   "outputs": [
    {
     "data": {
      "text/plain": [
       "{'so2': 39, 'co': 11, 'o3': 28, 'no2': 20}"
      ]
     },
     "execution_count": 50,
     "metadata": {},
     "output_type": "execute_result"
    }
   ],
   "source": [
    "# Show dictionary\n",
    "imputation_values"
   ]
  },
  {
   "cell_type": "code",
   "execution_count": 51,
   "id": "61a8841a",
   "metadata": {},
   "outputs": [],
   "source": [
    "# Handling missing value\n",
    "\n",
    "# Train set\n",
    "train_set.fillna(value = imputation_values, inplace = True)\n",
    "\n",
    "# Validation set\n",
    "validation_set.fillna(value = imputation_values, inplace = True)\n",
    "\n",
    "# Test set\n",
    "testing_set.fillna(value = imputation_values, inplace = True)"
   ]
  },
  {
   "cell_type": "code",
   "execution_count": 52,
   "id": "3e83e6ea",
   "metadata": {},
   "outputs": [
    {
     "name": "stdout",
     "output_type": "stream",
     "text": [
      "Train set \n",
      "tanggal     0\n",
      "stasiun     0\n",
      "pm10        0\n",
      "pm25        0\n",
      "so2         0\n",
      "co          0\n",
      "o3          0\n",
      "no2         0\n",
      "max         0\n",
      "critical    0\n",
      "categori    0\n",
      "dtype: int64, \n",
      "------------- \n",
      "Validation set \n",
      "tanggal     0\n",
      "stasiun     0\n",
      "pm10        0\n",
      "pm25        0\n",
      "so2         0\n",
      "co          0\n",
      "o3          0\n",
      "no2         0\n",
      "max         0\n",
      "critical    0\n",
      "categori    0\n",
      "dtype: int64, \n",
      "------------- \n",
      "Test set \n",
      "tanggal     0\n",
      "stasiun     0\n",
      "pm10        0\n",
      "pm25        0\n",
      "so2         0\n",
      "co          0\n",
      "o3          0\n",
      "no2         0\n",
      "max         0\n",
      "critical    0\n",
      "categori    0\n",
      "dtype: int64\n"
     ]
    }
   ],
   "source": [
    "print(f\"Train set \\n{train_set.isna().sum()}, \\n------------- \\nValidation set \\n{validation_set.isna().sum()}, \\n------------- \\nTest set \\n{testing_set.isna().sum()}\")"
   ]
  },
  {
   "cell_type": "markdown",
   "id": "a6376ac9",
   "metadata": {},
   "source": [
    "**3. Encoding feature**"
   ]
  },
  {
   "cell_type": "markdown",
   "id": "c76e1be3",
   "metadata": {},
   "source": [
    "One Hot Encoding"
   ]
  },
  {
   "cell_type": "code",
   "execution_count": 53,
   "id": "3f053de1",
   "metadata": {},
   "outputs": [
    {
     "data": {
      "text/plain": [
       "DKI5 (Kebon Jeruk) Jakarta Barat    143\n",
       "DKI1 (Bunderan HI)                  139\n",
       "DKI3 (Jagakarsa)                    137\n",
       "DKI2 (Kelapa Gading)                136\n",
       "DKI4 (Lubang Buaya)                 134\n",
       "Name: stasiun, dtype: int64"
      ]
     },
     "execution_count": 53,
     "metadata": {},
     "output_type": "execute_result"
    }
   ],
   "source": [
    "# Check proportion of stasiun\n",
    "train_set['stasiun'].value_counts()"
   ]
  },
  {
   "cell_type": "code",
   "execution_count": 54,
   "id": "97c8f973",
   "metadata": {},
   "outputs": [
    {
     "data": {
      "text/plain": [
       "DKI1 (Bunderan HI)                  47\n",
       "DKI2 (Kelapa Gading)                39\n",
       "DKI3 (Jagakarsa)                    37\n",
       "DKI4 (Lubang Buaya)                 36\n",
       "DKI5 (Kebon Jeruk) Jakarta Barat    27\n",
       "Name: stasiun, dtype: int64"
      ]
     },
     "execution_count": 54,
     "metadata": {},
     "output_type": "execute_result"
    }
   ],
   "source": [
    "# Check proportion of stasiun\n",
    "testing_set['stasiun'].value_counts()"
   ]
  },
  {
   "cell_type": "code",
   "execution_count": 55,
   "id": "cdd18b29",
   "metadata": {},
   "outputs": [
    {
     "data": {
      "text/plain": [
       "DKI5 (Kebon Jeruk) Jakarta Barat    44\n",
       "DKI3 (Jagakarsa)                    39\n",
       "DKI2 (Kelapa Gading)                38\n",
       "DKI4 (Lubang Buaya)                 37\n",
       "DKI1 (Bunderan HI)                  28\n",
       "Name: stasiun, dtype: int64"
      ]
     },
     "execution_count": 55,
     "metadata": {},
     "output_type": "execute_result"
    }
   ],
   "source": [
    "# Check proportion of stasiun\n",
    "validation_set['stasiun'].value_counts()"
   ]
  },
  {
   "cell_type": "markdown",
   "id": "e607f8d6",
   "metadata": {},
   "source": [
    "Note that all of the sets contain five of the stasiun, then we can proceed with the One Hot Encoding without having to reduce one unique value within stasiun column."
   ]
  },
  {
   "cell_type": "code",
   "execution_count": 56,
   "id": "36cad52a",
   "metadata": {},
   "outputs": [
    {
     "name": "stdout",
     "output_type": "stream",
     "text": [
      "(689, 11) (186, 11) (186, 11)\n"
     ]
    }
   ],
   "source": [
    "# Sanity check\n",
    "print(train_set.shape, validation_set.shape, testing_set.shape)"
   ]
  },
  {
   "cell_type": "code",
   "execution_count": 57,
   "id": "8a0f6b14",
   "metadata": {},
   "outputs": [],
   "source": [
    "# Input output split\n",
    "# X_train, y_train = input_output_split(df = train_set, column = params['label'])\n",
    "# X_valid, y_valid = input_output_split(df = validation_set, column = params['label'])\n",
    "# X_test, y_test = input_output_split(df = testing_set, column = params['label'])"
   ]
  },
  {
   "cell_type": "code",
   "execution_count": 58,
   "id": "280d7849",
   "metadata": {},
   "outputs": [],
   "source": [
    "# Show row and column\n",
    "# print(X_train.shape, y_train.shape, X_valid.shape, y_valid.shape, X_test.shape, y_test.shape)"
   ]
  },
  {
   "cell_type": "code",
   "execution_count": 59,
   "id": "fd2de608",
   "metadata": {},
   "outputs": [],
   "source": [
    "# Create numerical (num) and categorical (cat) split function\n",
    "def num_cat_split(df, categorical_column):\n",
    "    \n",
    "    \"\"\"\n",
    "    This function is created to split categorical and numeric column\n",
    "    :param df: <pandas dataframe> data contain sample\n",
    "    :param categorical_column: <string> categorical column name\n",
    "    :return categorical_data: <pandas dataframe> categorical data\n",
    "    :return numerical_data: <pandas dataframe> numerical data\n",
    "    :return categorical_ohe: <pandas dataframe> categorical data applied one hot encoding \n",
    "    \"\"\"\n",
    "    categorical_data = df[categorical_column]\n",
    "    numerical_data = df.drop(categorical_column, axis = 1)\n",
    "    categorical_ohe = pd.get_dummies(categorical_data)\n",
    "      \n",
    "    return categorical_data, numerical_data, categorical_ohe"
   ]
  },
  {
   "cell_type": "code",
   "execution_count": 60,
   "id": "503a8960",
   "metadata": {},
   "outputs": [],
   "source": [
    "# One Hot Encoding\n",
    "# categorical_data_train, numerical_data_train, categorical_ohe_train = num_cat_split(X_train, params['object_columns'][0])\n",
    "# categorical_data_valid, numerical_data_valid, categorical_ohe_valid = num_cat_split(X_valid, params['object_columns'][0])\n",
    "# categorical_data_test, numerical_data_test, categorical_ohe_test = num_cat_split(X_test, params['object_columns'][0])"
   ]
  },
  {
   "cell_type": "code",
   "execution_count": 61,
   "id": "2d6d7420",
   "metadata": {},
   "outputs": [],
   "source": [
    "# One Hot Encoding\n",
    "categorical_data_train, numerical_data_train, categorical_ohe_train = num_cat_split(train_set, 'stasiun')\n",
    "categorical_data_valid, numerical_data_valid, categorical_ohe_valid = num_cat_split(validation_set, 'stasiun')\n",
    "categorical_data_test, numerical_data_test, categorical_ohe_test = num_cat_split(testing_set, 'stasiun')"
   ]
  },
  {
   "cell_type": "code",
   "execution_count": 62,
   "id": "2338432e",
   "metadata": {},
   "outputs": [],
   "source": [
    "# Concat\n",
    "train_set = pd.concat([categorical_ohe_train, numerical_data_train], axis = 1)\n",
    "validation_set = pd.concat([categorical_ohe_valid, numerical_data_valid], axis = 1)\n",
    "testing_set = pd.concat([categorical_ohe_test, numerical_data_test], axis = 1)"
   ]
  },
  {
   "cell_type": "code",
   "execution_count": 63,
   "id": "cf15b7b4",
   "metadata": {},
   "outputs": [
    {
     "name": "stdout",
     "output_type": "stream",
     "text": [
      "(689, 15) (186, 15) (186, 15)\n"
     ]
    }
   ],
   "source": [
    "# Sanity check\n",
    "print(train_set.shape, validation_set.shape, testing_set.shape)"
   ]
  },
  {
   "cell_type": "markdown",
   "id": "a73d5034",
   "metadata": {},
   "source": [
    "Label Encoding"
   ]
  },
  {
   "cell_type": "code",
   "execution_count": 64,
   "id": "fd9d8246",
   "metadata": {},
   "outputs": [
    {
     "data": {
      "text/plain": [
       "TIDAK SEHAT    648\n",
       "BAIK            41\n",
       "Name: categori, dtype: int64"
      ]
     },
     "execution_count": 64,
     "metadata": {},
     "output_type": "execute_result"
    }
   ],
   "source": [
    "train_set[params['label']].value_counts()"
   ]
  },
  {
   "cell_type": "code",
   "execution_count": 65,
   "id": "f8ca7485",
   "metadata": {},
   "outputs": [
    {
     "data": {
      "text/plain": [
       "TIDAK SEHAT    175\n",
       "BAIK            11\n",
       "Name: categori, dtype: int64"
      ]
     },
     "execution_count": 65,
     "metadata": {},
     "output_type": "execute_result"
    }
   ],
   "source": [
    "validation_set[params['label']].value_counts()"
   ]
  },
  {
   "cell_type": "code",
   "execution_count": 66,
   "id": "c4e99ab7",
   "metadata": {},
   "outputs": [
    {
     "data": {
      "text/plain": [
       "TIDAK SEHAT    175\n",
       "BAIK            11\n",
       "Name: categori, dtype: int64"
      ]
     },
     "execution_count": 66,
     "metadata": {},
     "output_type": "execute_result"
    }
   ],
   "source": [
    "testing_set[params['label']].value_counts()"
   ]
  },
  {
   "cell_type": "markdown",
   "id": "edd5e636",
   "metadata": {},
   "source": [
    "Train set"
   ]
  },
  {
   "cell_type": "code",
   "execution_count": 67,
   "id": "c490738e",
   "metadata": {},
   "outputs": [
    {
     "data": {
      "text/html": [
       "<div>\n",
       "<style scoped>\n",
       "    .dataframe tbody tr th:only-of-type {\n",
       "        vertical-align: middle;\n",
       "    }\n",
       "\n",
       "    .dataframe tbody tr th {\n",
       "        vertical-align: top;\n",
       "    }\n",
       "\n",
       "    .dataframe thead th {\n",
       "        text-align: right;\n",
       "    }\n",
       "</style>\n",
       "<table border=\"1\" class=\"dataframe\">\n",
       "  <thead>\n",
       "    <tr style=\"text-align: right;\">\n",
       "      <th></th>\n",
       "      <th>DKI1 (Bunderan HI)</th>\n",
       "      <th>DKI2 (Kelapa Gading)</th>\n",
       "      <th>DKI3 (Jagakarsa)</th>\n",
       "      <th>DKI4 (Lubang Buaya)</th>\n",
       "      <th>DKI5 (Kebon Jeruk) Jakarta Barat</th>\n",
       "      <th>tanggal</th>\n",
       "      <th>pm10</th>\n",
       "      <th>pm25</th>\n",
       "      <th>so2</th>\n",
       "      <th>co</th>\n",
       "      <th>o3</th>\n",
       "      <th>no2</th>\n",
       "      <th>max</th>\n",
       "      <th>critical</th>\n",
       "      <th>categori</th>\n",
       "    </tr>\n",
       "  </thead>\n",
       "  <tbody>\n",
       "    <tr>\n",
       "      <th>499</th>\n",
       "      <td>0</td>\n",
       "      <td>1</td>\n",
       "      <td>0</td>\n",
       "      <td>0</td>\n",
       "      <td>0</td>\n",
       "      <td>2021-09-10</td>\n",
       "      <td>58.0</td>\n",
       "      <td>77.0</td>\n",
       "      <td>53.0</td>\n",
       "      <td>9.0</td>\n",
       "      <td>32.0</td>\n",
       "      <td>20.0</td>\n",
       "      <td>77</td>\n",
       "      <td>PM25</td>\n",
       "      <td>TIDAK SEHAT</td>\n",
       "    </tr>\n",
       "    <tr>\n",
       "      <th>472</th>\n",
       "      <td>1</td>\n",
       "      <td>0</td>\n",
       "      <td>0</td>\n",
       "      <td>0</td>\n",
       "      <td>0</td>\n",
       "      <td>2021-09-13</td>\n",
       "      <td>51.0</td>\n",
       "      <td>64.0</td>\n",
       "      <td>29.0</td>\n",
       "      <td>8.0</td>\n",
       "      <td>23.0</td>\n",
       "      <td>21.0</td>\n",
       "      <td>64</td>\n",
       "      <td>PM25</td>\n",
       "      <td>TIDAK SEHAT</td>\n",
       "    </tr>\n",
       "    <tr>\n",
       "      <th>857</th>\n",
       "      <td>0</td>\n",
       "      <td>0</td>\n",
       "      <td>0</td>\n",
       "      <td>1</td>\n",
       "      <td>0</td>\n",
       "      <td>2021-11-03</td>\n",
       "      <td>51.0</td>\n",
       "      <td>83.0</td>\n",
       "      <td>42.0</td>\n",
       "      <td>12.0</td>\n",
       "      <td>73.0</td>\n",
       "      <td>17.0</td>\n",
       "      <td>83</td>\n",
       "      <td>PM25</td>\n",
       "      <td>TIDAK SEHAT</td>\n",
       "    </tr>\n",
       "    <tr>\n",
       "      <th>79</th>\n",
       "      <td>0</td>\n",
       "      <td>0</td>\n",
       "      <td>1</td>\n",
       "      <td>0</td>\n",
       "      <td>0</td>\n",
       "      <td>2021-06-20</td>\n",
       "      <td>80.0</td>\n",
       "      <td>111.0</td>\n",
       "      <td>52.0</td>\n",
       "      <td>7.0</td>\n",
       "      <td>24.0</td>\n",
       "      <td>29.0</td>\n",
       "      <td>111</td>\n",
       "      <td>PM25</td>\n",
       "      <td>TIDAK SEHAT</td>\n",
       "    </tr>\n",
       "    <tr>\n",
       "      <th>545</th>\n",
       "      <td>0</td>\n",
       "      <td>0</td>\n",
       "      <td>1</td>\n",
       "      <td>0</td>\n",
       "      <td>0</td>\n",
       "      <td>2021-09-26</td>\n",
       "      <td>54.0</td>\n",
       "      <td>74.0</td>\n",
       "      <td>50.0</td>\n",
       "      <td>10.0</td>\n",
       "      <td>27.0</td>\n",
       "      <td>13.0</td>\n",
       "      <td>74</td>\n",
       "      <td>PM25</td>\n",
       "      <td>TIDAK SEHAT</td>\n",
       "    </tr>\n",
       "    <tr>\n",
       "      <th>...</th>\n",
       "      <td>...</td>\n",
       "      <td>...</td>\n",
       "      <td>...</td>\n",
       "      <td>...</td>\n",
       "      <td>...</td>\n",
       "      <td>...</td>\n",
       "      <td>...</td>\n",
       "      <td>...</td>\n",
       "      <td>...</td>\n",
       "      <td>...</td>\n",
       "      <td>...</td>\n",
       "      <td>...</td>\n",
       "      <td>...</td>\n",
       "      <td>...</td>\n",
       "      <td>...</td>\n",
       "    </tr>\n",
       "    <tr>\n",
       "      <th>452</th>\n",
       "      <td>0</td>\n",
       "      <td>0</td>\n",
       "      <td>0</td>\n",
       "      <td>0</td>\n",
       "      <td>1</td>\n",
       "      <td>2021-08-24</td>\n",
       "      <td>60.0</td>\n",
       "      <td>97.0</td>\n",
       "      <td>31.0</td>\n",
       "      <td>7.0</td>\n",
       "      <td>32.0</td>\n",
       "      <td>12.0</td>\n",
       "      <td>97</td>\n",
       "      <td>PM25</td>\n",
       "      <td>TIDAK SEHAT</td>\n",
       "    </tr>\n",
       "    <tr>\n",
       "      <th>556</th>\n",
       "      <td>0</td>\n",
       "      <td>0</td>\n",
       "      <td>0</td>\n",
       "      <td>1</td>\n",
       "      <td>0</td>\n",
       "      <td>2021-09-07</td>\n",
       "      <td>56.0</td>\n",
       "      <td>86.0</td>\n",
       "      <td>42.0</td>\n",
       "      <td>8.0</td>\n",
       "      <td>21.0</td>\n",
       "      <td>21.0</td>\n",
       "      <td>86</td>\n",
       "      <td>PM25</td>\n",
       "      <td>TIDAK SEHAT</td>\n",
       "    </tr>\n",
       "    <tr>\n",
       "      <th>162</th>\n",
       "      <td>1</td>\n",
       "      <td>0</td>\n",
       "      <td>0</td>\n",
       "      <td>0</td>\n",
       "      <td>0</td>\n",
       "      <td>2021-07-13</td>\n",
       "      <td>63.0</td>\n",
       "      <td>89.0</td>\n",
       "      <td>33.0</td>\n",
       "      <td>10.0</td>\n",
       "      <td>18.0</td>\n",
       "      <td>24.0</td>\n",
       "      <td>89</td>\n",
       "      <td>PM25</td>\n",
       "      <td>TIDAK SEHAT</td>\n",
       "    </tr>\n",
       "    <tr>\n",
       "      <th>439</th>\n",
       "      <td>0</td>\n",
       "      <td>0</td>\n",
       "      <td>0</td>\n",
       "      <td>0</td>\n",
       "      <td>1</td>\n",
       "      <td>2021-08-11</td>\n",
       "      <td>54.0</td>\n",
       "      <td>92.0</td>\n",
       "      <td>29.0</td>\n",
       "      <td>11.0</td>\n",
       "      <td>25.0</td>\n",
       "      <td>25.0</td>\n",
       "      <td>92</td>\n",
       "      <td>PM25</td>\n",
       "      <td>TIDAK SEHAT</td>\n",
       "    </tr>\n",
       "    <tr>\n",
       "      <th>271</th>\n",
       "      <td>0</td>\n",
       "      <td>0</td>\n",
       "      <td>0</td>\n",
       "      <td>1</td>\n",
       "      <td>0</td>\n",
       "      <td>2021-07-29</td>\n",
       "      <td>66.0</td>\n",
       "      <td>130.0</td>\n",
       "      <td>40.0</td>\n",
       "      <td>12.0</td>\n",
       "      <td>25.0</td>\n",
       "      <td>25.0</td>\n",
       "      <td>130</td>\n",
       "      <td>PM25</td>\n",
       "      <td>TIDAK SEHAT</td>\n",
       "    </tr>\n",
       "  </tbody>\n",
       "</table>\n",
       "<p>689 rows × 15 columns</p>\n",
       "</div>"
      ],
      "text/plain": [
       "     DKI1 (Bunderan HI)  DKI2 (Kelapa Gading)  DKI3 (Jagakarsa)  \\\n",
       "499                   0                     1                 0   \n",
       "472                   1                     0                 0   \n",
       "857                   0                     0                 0   \n",
       "79                    0                     0                 1   \n",
       "545                   0                     0                 1   \n",
       "..                  ...                   ...               ...   \n",
       "452                   0                     0                 0   \n",
       "556                   0                     0                 0   \n",
       "162                   1                     0                 0   \n",
       "439                   0                     0                 0   \n",
       "271                   0                     0                 0   \n",
       "\n",
       "     DKI4 (Lubang Buaya)  DKI5 (Kebon Jeruk) Jakarta Barat    tanggal  pm10  \\\n",
       "499                    0                                 0 2021-09-10  58.0   \n",
       "472                    0                                 0 2021-09-13  51.0   \n",
       "857                    1                                 0 2021-11-03  51.0   \n",
       "79                     0                                 0 2021-06-20  80.0   \n",
       "545                    0                                 0 2021-09-26  54.0   \n",
       "..                   ...                               ...        ...   ...   \n",
       "452                    0                                 1 2021-08-24  60.0   \n",
       "556                    1                                 0 2021-09-07  56.0   \n",
       "162                    0                                 0 2021-07-13  63.0   \n",
       "439                    0                                 1 2021-08-11  54.0   \n",
       "271                    1                                 0 2021-07-29  66.0   \n",
       "\n",
       "      pm25   so2    co    o3   no2  max critical     categori  \n",
       "499   77.0  53.0   9.0  32.0  20.0   77     PM25  TIDAK SEHAT  \n",
       "472   64.0  29.0   8.0  23.0  21.0   64     PM25  TIDAK SEHAT  \n",
       "857   83.0  42.0  12.0  73.0  17.0   83     PM25  TIDAK SEHAT  \n",
       "79   111.0  52.0   7.0  24.0  29.0  111     PM25  TIDAK SEHAT  \n",
       "545   74.0  50.0  10.0  27.0  13.0   74     PM25  TIDAK SEHAT  \n",
       "..     ...   ...   ...   ...   ...  ...      ...          ...  \n",
       "452   97.0  31.0   7.0  32.0  12.0   97     PM25  TIDAK SEHAT  \n",
       "556   86.0  42.0   8.0  21.0  21.0   86     PM25  TIDAK SEHAT  \n",
       "162   89.0  33.0  10.0  18.0  24.0   89     PM25  TIDAK SEHAT  \n",
       "439   92.0  29.0  11.0  25.0  25.0   92     PM25  TIDAK SEHAT  \n",
       "271  130.0  40.0  12.0  25.0  25.0  130     PM25  TIDAK SEHAT  \n",
       "\n",
       "[689 rows x 15 columns]"
      ]
     },
     "execution_count": 67,
     "metadata": {},
     "output_type": "execute_result"
    }
   ],
   "source": [
    "# Replace value\n",
    "replace_value(data = train_set, \n",
    "              column = params['label'],\n",
    "              column_number = \"single\",\n",
    "              old_value = \"BAIK\",\n",
    "              replace_value = 1)"
   ]
  },
  {
   "cell_type": "code",
   "execution_count": 68,
   "id": "06627709",
   "metadata": {},
   "outputs": [
    {
     "data": {
      "text/html": [
       "<div>\n",
       "<style scoped>\n",
       "    .dataframe tbody tr th:only-of-type {\n",
       "        vertical-align: middle;\n",
       "    }\n",
       "\n",
       "    .dataframe tbody tr th {\n",
       "        vertical-align: top;\n",
       "    }\n",
       "\n",
       "    .dataframe thead th {\n",
       "        text-align: right;\n",
       "    }\n",
       "</style>\n",
       "<table border=\"1\" class=\"dataframe\">\n",
       "  <thead>\n",
       "    <tr style=\"text-align: right;\">\n",
       "      <th></th>\n",
       "      <th>DKI1 (Bunderan HI)</th>\n",
       "      <th>DKI2 (Kelapa Gading)</th>\n",
       "      <th>DKI3 (Jagakarsa)</th>\n",
       "      <th>DKI4 (Lubang Buaya)</th>\n",
       "      <th>DKI5 (Kebon Jeruk) Jakarta Barat</th>\n",
       "      <th>tanggal</th>\n",
       "      <th>pm10</th>\n",
       "      <th>pm25</th>\n",
       "      <th>so2</th>\n",
       "      <th>co</th>\n",
       "      <th>o3</th>\n",
       "      <th>no2</th>\n",
       "      <th>max</th>\n",
       "      <th>critical</th>\n",
       "      <th>categori</th>\n",
       "    </tr>\n",
       "  </thead>\n",
       "  <tbody>\n",
       "    <tr>\n",
       "      <th>499</th>\n",
       "      <td>0</td>\n",
       "      <td>1</td>\n",
       "      <td>0</td>\n",
       "      <td>0</td>\n",
       "      <td>0</td>\n",
       "      <td>2021-09-10</td>\n",
       "      <td>58.0</td>\n",
       "      <td>77.0</td>\n",
       "      <td>53.0</td>\n",
       "      <td>9.0</td>\n",
       "      <td>32.0</td>\n",
       "      <td>20.0</td>\n",
       "      <td>77</td>\n",
       "      <td>PM25</td>\n",
       "      <td>0</td>\n",
       "    </tr>\n",
       "    <tr>\n",
       "      <th>472</th>\n",
       "      <td>1</td>\n",
       "      <td>0</td>\n",
       "      <td>0</td>\n",
       "      <td>0</td>\n",
       "      <td>0</td>\n",
       "      <td>2021-09-13</td>\n",
       "      <td>51.0</td>\n",
       "      <td>64.0</td>\n",
       "      <td>29.0</td>\n",
       "      <td>8.0</td>\n",
       "      <td>23.0</td>\n",
       "      <td>21.0</td>\n",
       "      <td>64</td>\n",
       "      <td>PM25</td>\n",
       "      <td>0</td>\n",
       "    </tr>\n",
       "    <tr>\n",
       "      <th>857</th>\n",
       "      <td>0</td>\n",
       "      <td>0</td>\n",
       "      <td>0</td>\n",
       "      <td>1</td>\n",
       "      <td>0</td>\n",
       "      <td>2021-11-03</td>\n",
       "      <td>51.0</td>\n",
       "      <td>83.0</td>\n",
       "      <td>42.0</td>\n",
       "      <td>12.0</td>\n",
       "      <td>73.0</td>\n",
       "      <td>17.0</td>\n",
       "      <td>83</td>\n",
       "      <td>PM25</td>\n",
       "      <td>0</td>\n",
       "    </tr>\n",
       "    <tr>\n",
       "      <th>79</th>\n",
       "      <td>0</td>\n",
       "      <td>0</td>\n",
       "      <td>1</td>\n",
       "      <td>0</td>\n",
       "      <td>0</td>\n",
       "      <td>2021-06-20</td>\n",
       "      <td>80.0</td>\n",
       "      <td>111.0</td>\n",
       "      <td>52.0</td>\n",
       "      <td>7.0</td>\n",
       "      <td>24.0</td>\n",
       "      <td>29.0</td>\n",
       "      <td>111</td>\n",
       "      <td>PM25</td>\n",
       "      <td>0</td>\n",
       "    </tr>\n",
       "    <tr>\n",
       "      <th>545</th>\n",
       "      <td>0</td>\n",
       "      <td>0</td>\n",
       "      <td>1</td>\n",
       "      <td>0</td>\n",
       "      <td>0</td>\n",
       "      <td>2021-09-26</td>\n",
       "      <td>54.0</td>\n",
       "      <td>74.0</td>\n",
       "      <td>50.0</td>\n",
       "      <td>10.0</td>\n",
       "      <td>27.0</td>\n",
       "      <td>13.0</td>\n",
       "      <td>74</td>\n",
       "      <td>PM25</td>\n",
       "      <td>0</td>\n",
       "    </tr>\n",
       "    <tr>\n",
       "      <th>...</th>\n",
       "      <td>...</td>\n",
       "      <td>...</td>\n",
       "      <td>...</td>\n",
       "      <td>...</td>\n",
       "      <td>...</td>\n",
       "      <td>...</td>\n",
       "      <td>...</td>\n",
       "      <td>...</td>\n",
       "      <td>...</td>\n",
       "      <td>...</td>\n",
       "      <td>...</td>\n",
       "      <td>...</td>\n",
       "      <td>...</td>\n",
       "      <td>...</td>\n",
       "      <td>...</td>\n",
       "    </tr>\n",
       "    <tr>\n",
       "      <th>452</th>\n",
       "      <td>0</td>\n",
       "      <td>0</td>\n",
       "      <td>0</td>\n",
       "      <td>0</td>\n",
       "      <td>1</td>\n",
       "      <td>2021-08-24</td>\n",
       "      <td>60.0</td>\n",
       "      <td>97.0</td>\n",
       "      <td>31.0</td>\n",
       "      <td>7.0</td>\n",
       "      <td>32.0</td>\n",
       "      <td>12.0</td>\n",
       "      <td>97</td>\n",
       "      <td>PM25</td>\n",
       "      <td>0</td>\n",
       "    </tr>\n",
       "    <tr>\n",
       "      <th>556</th>\n",
       "      <td>0</td>\n",
       "      <td>0</td>\n",
       "      <td>0</td>\n",
       "      <td>1</td>\n",
       "      <td>0</td>\n",
       "      <td>2021-09-07</td>\n",
       "      <td>56.0</td>\n",
       "      <td>86.0</td>\n",
       "      <td>42.0</td>\n",
       "      <td>8.0</td>\n",
       "      <td>21.0</td>\n",
       "      <td>21.0</td>\n",
       "      <td>86</td>\n",
       "      <td>PM25</td>\n",
       "      <td>0</td>\n",
       "    </tr>\n",
       "    <tr>\n",
       "      <th>162</th>\n",
       "      <td>1</td>\n",
       "      <td>0</td>\n",
       "      <td>0</td>\n",
       "      <td>0</td>\n",
       "      <td>0</td>\n",
       "      <td>2021-07-13</td>\n",
       "      <td>63.0</td>\n",
       "      <td>89.0</td>\n",
       "      <td>33.0</td>\n",
       "      <td>10.0</td>\n",
       "      <td>18.0</td>\n",
       "      <td>24.0</td>\n",
       "      <td>89</td>\n",
       "      <td>PM25</td>\n",
       "      <td>0</td>\n",
       "    </tr>\n",
       "    <tr>\n",
       "      <th>439</th>\n",
       "      <td>0</td>\n",
       "      <td>0</td>\n",
       "      <td>0</td>\n",
       "      <td>0</td>\n",
       "      <td>1</td>\n",
       "      <td>2021-08-11</td>\n",
       "      <td>54.0</td>\n",
       "      <td>92.0</td>\n",
       "      <td>29.0</td>\n",
       "      <td>11.0</td>\n",
       "      <td>25.0</td>\n",
       "      <td>25.0</td>\n",
       "      <td>92</td>\n",
       "      <td>PM25</td>\n",
       "      <td>0</td>\n",
       "    </tr>\n",
       "    <tr>\n",
       "      <th>271</th>\n",
       "      <td>0</td>\n",
       "      <td>0</td>\n",
       "      <td>0</td>\n",
       "      <td>1</td>\n",
       "      <td>0</td>\n",
       "      <td>2021-07-29</td>\n",
       "      <td>66.0</td>\n",
       "      <td>130.0</td>\n",
       "      <td>40.0</td>\n",
       "      <td>12.0</td>\n",
       "      <td>25.0</td>\n",
       "      <td>25.0</td>\n",
       "      <td>130</td>\n",
       "      <td>PM25</td>\n",
       "      <td>0</td>\n",
       "    </tr>\n",
       "  </tbody>\n",
       "</table>\n",
       "<p>689 rows × 15 columns</p>\n",
       "</div>"
      ],
      "text/plain": [
       "     DKI1 (Bunderan HI)  DKI2 (Kelapa Gading)  DKI3 (Jagakarsa)  \\\n",
       "499                   0                     1                 0   \n",
       "472                   1                     0                 0   \n",
       "857                   0                     0                 0   \n",
       "79                    0                     0                 1   \n",
       "545                   0                     0                 1   \n",
       "..                  ...                   ...               ...   \n",
       "452                   0                     0                 0   \n",
       "556                   0                     0                 0   \n",
       "162                   1                     0                 0   \n",
       "439                   0                     0                 0   \n",
       "271                   0                     0                 0   \n",
       "\n",
       "     DKI4 (Lubang Buaya)  DKI5 (Kebon Jeruk) Jakarta Barat    tanggal  pm10  \\\n",
       "499                    0                                 0 2021-09-10  58.0   \n",
       "472                    0                                 0 2021-09-13  51.0   \n",
       "857                    1                                 0 2021-11-03  51.0   \n",
       "79                     0                                 0 2021-06-20  80.0   \n",
       "545                    0                                 0 2021-09-26  54.0   \n",
       "..                   ...                               ...        ...   ...   \n",
       "452                    0                                 1 2021-08-24  60.0   \n",
       "556                    1                                 0 2021-09-07  56.0   \n",
       "162                    0                                 0 2021-07-13  63.0   \n",
       "439                    0                                 1 2021-08-11  54.0   \n",
       "271                    1                                 0 2021-07-29  66.0   \n",
       "\n",
       "      pm25   so2    co    o3   no2  max critical  categori  \n",
       "499   77.0  53.0   9.0  32.0  20.0   77     PM25         0  \n",
       "472   64.0  29.0   8.0  23.0  21.0   64     PM25         0  \n",
       "857   83.0  42.0  12.0  73.0  17.0   83     PM25         0  \n",
       "79   111.0  52.0   7.0  24.0  29.0  111     PM25         0  \n",
       "545   74.0  50.0  10.0  27.0  13.0   74     PM25         0  \n",
       "..     ...   ...   ...   ...   ...  ...      ...       ...  \n",
       "452   97.0  31.0   7.0  32.0  12.0   97     PM25         0  \n",
       "556   86.0  42.0   8.0  21.0  21.0   86     PM25         0  \n",
       "162   89.0  33.0  10.0  18.0  24.0   89     PM25         0  \n",
       "439   92.0  29.0  11.0  25.0  25.0   92     PM25         0  \n",
       "271  130.0  40.0  12.0  25.0  25.0  130     PM25         0  \n",
       "\n",
       "[689 rows x 15 columns]"
      ]
     },
     "execution_count": 68,
     "metadata": {},
     "output_type": "execute_result"
    }
   ],
   "source": [
    "# Replace value\n",
    "replace_value(data = train_set, \n",
    "              column = params['label'],\n",
    "              column_number = \"single\",\n",
    "              old_value = \"TIDAK SEHAT\",\n",
    "              replace_value = 0)"
   ]
  },
  {
   "cell_type": "markdown",
   "id": "546cea35",
   "metadata": {},
   "source": [
    "Valid set"
   ]
  },
  {
   "cell_type": "code",
   "execution_count": 69,
   "id": "31db5199",
   "metadata": {},
   "outputs": [
    {
     "data": {
      "text/html": [
       "<div>\n",
       "<style scoped>\n",
       "    .dataframe tbody tr th:only-of-type {\n",
       "        vertical-align: middle;\n",
       "    }\n",
       "\n",
       "    .dataframe tbody tr th {\n",
       "        vertical-align: top;\n",
       "    }\n",
       "\n",
       "    .dataframe thead th {\n",
       "        text-align: right;\n",
       "    }\n",
       "</style>\n",
       "<table border=\"1\" class=\"dataframe\">\n",
       "  <thead>\n",
       "    <tr style=\"text-align: right;\">\n",
       "      <th></th>\n",
       "      <th>DKI1 (Bunderan HI)</th>\n",
       "      <th>DKI2 (Kelapa Gading)</th>\n",
       "      <th>DKI3 (Jagakarsa)</th>\n",
       "      <th>DKI4 (Lubang Buaya)</th>\n",
       "      <th>DKI5 (Kebon Jeruk) Jakarta Barat</th>\n",
       "      <th>tanggal</th>\n",
       "      <th>pm10</th>\n",
       "      <th>pm25</th>\n",
       "      <th>so2</th>\n",
       "      <th>co</th>\n",
       "      <th>o3</th>\n",
       "      <th>no2</th>\n",
       "      <th>max</th>\n",
       "      <th>critical</th>\n",
       "      <th>categori</th>\n",
       "    </tr>\n",
       "  </thead>\n",
       "  <tbody>\n",
       "    <tr>\n",
       "      <th>967</th>\n",
       "      <td>0</td>\n",
       "      <td>1</td>\n",
       "      <td>0</td>\n",
       "      <td>0</td>\n",
       "      <td>0</td>\n",
       "      <td>2021-12-22</td>\n",
       "      <td>65.0</td>\n",
       "      <td>94.0</td>\n",
       "      <td>36.0</td>\n",
       "      <td>21.0</td>\n",
       "      <td>54.0</td>\n",
       "      <td>49.0</td>\n",
       "      <td>94</td>\n",
       "      <td>PM25</td>\n",
       "      <td>TIDAK SEHAT</td>\n",
       "    </tr>\n",
       "    <tr>\n",
       "      <th>408</th>\n",
       "      <td>0</td>\n",
       "      <td>0</td>\n",
       "      <td>0</td>\n",
       "      <td>1</td>\n",
       "      <td>0</td>\n",
       "      <td>2021-08-11</td>\n",
       "      <td>56.0</td>\n",
       "      <td>102.0</td>\n",
       "      <td>39.0</td>\n",
       "      <td>11.0</td>\n",
       "      <td>27.0</td>\n",
       "      <td>23.0</td>\n",
       "      <td>102</td>\n",
       "      <td>PM25</td>\n",
       "      <td>TIDAK SEHAT</td>\n",
       "    </tr>\n",
       "    <tr>\n",
       "      <th>789</th>\n",
       "      <td>1</td>\n",
       "      <td>0</td>\n",
       "      <td>0</td>\n",
       "      <td>0</td>\n",
       "      <td>0</td>\n",
       "      <td>2021-11-25</td>\n",
       "      <td>39.0</td>\n",
       "      <td>57.0</td>\n",
       "      <td>34.0</td>\n",
       "      <td>10.0</td>\n",
       "      <td>11.0</td>\n",
       "      <td>7.0</td>\n",
       "      <td>57</td>\n",
       "      <td>PM25</td>\n",
       "      <td>TIDAK SEHAT</td>\n",
       "    </tr>\n",
       "    <tr>\n",
       "      <th>604</th>\n",
       "      <td>0</td>\n",
       "      <td>0</td>\n",
       "      <td>0</td>\n",
       "      <td>0</td>\n",
       "      <td>1</td>\n",
       "      <td>2021-09-25</td>\n",
       "      <td>45.0</td>\n",
       "      <td>64.0</td>\n",
       "      <td>39.0</td>\n",
       "      <td>4.0</td>\n",
       "      <td>24.0</td>\n",
       "      <td>12.0</td>\n",
       "      <td>64</td>\n",
       "      <td>PM25</td>\n",
       "      <td>TIDAK SEHAT</td>\n",
       "    </tr>\n",
       "    <tr>\n",
       "      <th>921</th>\n",
       "      <td>1</td>\n",
       "      <td>0</td>\n",
       "      <td>0</td>\n",
       "      <td>0</td>\n",
       "      <td>0</td>\n",
       "      <td>2021-12-07</td>\n",
       "      <td>30.0</td>\n",
       "      <td>31.0</td>\n",
       "      <td>34.0</td>\n",
       "      <td>12.0</td>\n",
       "      <td>16.0</td>\n",
       "      <td>9.0</td>\n",
       "      <td>34</td>\n",
       "      <td>SO2</td>\n",
       "      <td>1</td>\n",
       "    </tr>\n",
       "    <tr>\n",
       "      <th>...</th>\n",
       "      <td>...</td>\n",
       "      <td>...</td>\n",
       "      <td>...</td>\n",
       "      <td>...</td>\n",
       "      <td>...</td>\n",
       "      <td>...</td>\n",
       "      <td>...</td>\n",
       "      <td>...</td>\n",
       "      <td>...</td>\n",
       "      <td>...</td>\n",
       "      <td>...</td>\n",
       "      <td>...</td>\n",
       "      <td>...</td>\n",
       "      <td>...</td>\n",
       "      <td>...</td>\n",
       "    </tr>\n",
       "    <tr>\n",
       "      <th>65</th>\n",
       "      <td>0</td>\n",
       "      <td>0</td>\n",
       "      <td>1</td>\n",
       "      <td>0</td>\n",
       "      <td>0</td>\n",
       "      <td>2021-06-06</td>\n",
       "      <td>63.0</td>\n",
       "      <td>95.0</td>\n",
       "      <td>45.0</td>\n",
       "      <td>11.0</td>\n",
       "      <td>26.0</td>\n",
       "      <td>19.0</td>\n",
       "      <td>95</td>\n",
       "      <td>PM25</td>\n",
       "      <td>TIDAK SEHAT</td>\n",
       "    </tr>\n",
       "    <tr>\n",
       "      <th>1028</th>\n",
       "      <td>0</td>\n",
       "      <td>0</td>\n",
       "      <td>0</td>\n",
       "      <td>1</td>\n",
       "      <td>0</td>\n",
       "      <td>2021-12-21</td>\n",
       "      <td>62.0</td>\n",
       "      <td>85.0</td>\n",
       "      <td>42.0</td>\n",
       "      <td>17.0</td>\n",
       "      <td>13.0</td>\n",
       "      <td>27.0</td>\n",
       "      <td>62</td>\n",
       "      <td>PM10</td>\n",
       "      <td>TIDAK SEHAT</td>\n",
       "    </tr>\n",
       "    <tr>\n",
       "      <th>844</th>\n",
       "      <td>0</td>\n",
       "      <td>0</td>\n",
       "      <td>1</td>\n",
       "      <td>0</td>\n",
       "      <td>0</td>\n",
       "      <td>2021-11-20</td>\n",
       "      <td>37.0</td>\n",
       "      <td>53.0</td>\n",
       "      <td>43.0</td>\n",
       "      <td>6.0</td>\n",
       "      <td>31.0</td>\n",
       "      <td>8.0</td>\n",
       "      <td>53</td>\n",
       "      <td>PM25</td>\n",
       "      <td>TIDAK SEHAT</td>\n",
       "    </tr>\n",
       "    <tr>\n",
       "      <th>453</th>\n",
       "      <td>0</td>\n",
       "      <td>0</td>\n",
       "      <td>0</td>\n",
       "      <td>0</td>\n",
       "      <td>1</td>\n",
       "      <td>2021-08-25</td>\n",
       "      <td>63.0</td>\n",
       "      <td>95.0</td>\n",
       "      <td>31.0</td>\n",
       "      <td>10.0</td>\n",
       "      <td>29.0</td>\n",
       "      <td>20.0</td>\n",
       "      <td>95</td>\n",
       "      <td>PM25</td>\n",
       "      <td>TIDAK SEHAT</td>\n",
       "    </tr>\n",
       "    <tr>\n",
       "      <th>170</th>\n",
       "      <td>1</td>\n",
       "      <td>0</td>\n",
       "      <td>0</td>\n",
       "      <td>0</td>\n",
       "      <td>0</td>\n",
       "      <td>2021-07-21</td>\n",
       "      <td>48.0</td>\n",
       "      <td>66.0</td>\n",
       "      <td>27.0</td>\n",
       "      <td>7.0</td>\n",
       "      <td>26.0</td>\n",
       "      <td>17.0</td>\n",
       "      <td>66</td>\n",
       "      <td>PM25</td>\n",
       "      <td>TIDAK SEHAT</td>\n",
       "    </tr>\n",
       "  </tbody>\n",
       "</table>\n",
       "<p>186 rows × 15 columns</p>\n",
       "</div>"
      ],
      "text/plain": [
       "      DKI1 (Bunderan HI)  DKI2 (Kelapa Gading)  DKI3 (Jagakarsa)  \\\n",
       "967                    0                     1                 0   \n",
       "408                    0                     0                 0   \n",
       "789                    1                     0                 0   \n",
       "604                    0                     0                 0   \n",
       "921                    1                     0                 0   \n",
       "...                  ...                   ...               ...   \n",
       "65                     0                     0                 1   \n",
       "1028                   0                     0                 0   \n",
       "844                    0                     0                 1   \n",
       "453                    0                     0                 0   \n",
       "170                    1                     0                 0   \n",
       "\n",
       "      DKI4 (Lubang Buaya)  DKI5 (Kebon Jeruk) Jakarta Barat    tanggal  pm10  \\\n",
       "967                     0                                 0 2021-12-22  65.0   \n",
       "408                     1                                 0 2021-08-11  56.0   \n",
       "789                     0                                 0 2021-11-25  39.0   \n",
       "604                     0                                 1 2021-09-25  45.0   \n",
       "921                     0                                 0 2021-12-07  30.0   \n",
       "...                   ...                               ...        ...   ...   \n",
       "65                      0                                 0 2021-06-06  63.0   \n",
       "1028                    1                                 0 2021-12-21  62.0   \n",
       "844                     0                                 0 2021-11-20  37.0   \n",
       "453                     0                                 1 2021-08-25  63.0   \n",
       "170                     0                                 0 2021-07-21  48.0   \n",
       "\n",
       "       pm25   so2    co    o3   no2  max critical     categori  \n",
       "967    94.0  36.0  21.0  54.0  49.0   94     PM25  TIDAK SEHAT  \n",
       "408   102.0  39.0  11.0  27.0  23.0  102     PM25  TIDAK SEHAT  \n",
       "789    57.0  34.0  10.0  11.0   7.0   57     PM25  TIDAK SEHAT  \n",
       "604    64.0  39.0   4.0  24.0  12.0   64     PM25  TIDAK SEHAT  \n",
       "921    31.0  34.0  12.0  16.0   9.0   34      SO2            1  \n",
       "...     ...   ...   ...   ...   ...  ...      ...          ...  \n",
       "65     95.0  45.0  11.0  26.0  19.0   95     PM25  TIDAK SEHAT  \n",
       "1028   85.0  42.0  17.0  13.0  27.0   62     PM10  TIDAK SEHAT  \n",
       "844    53.0  43.0   6.0  31.0   8.0   53     PM25  TIDAK SEHAT  \n",
       "453    95.0  31.0  10.0  29.0  20.0   95     PM25  TIDAK SEHAT  \n",
       "170    66.0  27.0   7.0  26.0  17.0   66     PM25  TIDAK SEHAT  \n",
       "\n",
       "[186 rows x 15 columns]"
      ]
     },
     "execution_count": 69,
     "metadata": {},
     "output_type": "execute_result"
    }
   ],
   "source": [
    "# Replace value\n",
    "replace_value(data = validation_set, \n",
    "              column = params['label'],\n",
    "              column_number = \"single\",\n",
    "              old_value = \"BAIK\",\n",
    "              replace_value = 1)"
   ]
  },
  {
   "cell_type": "code",
   "execution_count": 70,
   "id": "1d4dbe6a",
   "metadata": {},
   "outputs": [
    {
     "data": {
      "text/html": [
       "<div>\n",
       "<style scoped>\n",
       "    .dataframe tbody tr th:only-of-type {\n",
       "        vertical-align: middle;\n",
       "    }\n",
       "\n",
       "    .dataframe tbody tr th {\n",
       "        vertical-align: top;\n",
       "    }\n",
       "\n",
       "    .dataframe thead th {\n",
       "        text-align: right;\n",
       "    }\n",
       "</style>\n",
       "<table border=\"1\" class=\"dataframe\">\n",
       "  <thead>\n",
       "    <tr style=\"text-align: right;\">\n",
       "      <th></th>\n",
       "      <th>DKI1 (Bunderan HI)</th>\n",
       "      <th>DKI2 (Kelapa Gading)</th>\n",
       "      <th>DKI3 (Jagakarsa)</th>\n",
       "      <th>DKI4 (Lubang Buaya)</th>\n",
       "      <th>DKI5 (Kebon Jeruk) Jakarta Barat</th>\n",
       "      <th>tanggal</th>\n",
       "      <th>pm10</th>\n",
       "      <th>pm25</th>\n",
       "      <th>so2</th>\n",
       "      <th>co</th>\n",
       "      <th>o3</th>\n",
       "      <th>no2</th>\n",
       "      <th>max</th>\n",
       "      <th>critical</th>\n",
       "      <th>categori</th>\n",
       "    </tr>\n",
       "  </thead>\n",
       "  <tbody>\n",
       "    <tr>\n",
       "      <th>967</th>\n",
       "      <td>0</td>\n",
       "      <td>1</td>\n",
       "      <td>0</td>\n",
       "      <td>0</td>\n",
       "      <td>0</td>\n",
       "      <td>2021-12-22</td>\n",
       "      <td>65.0</td>\n",
       "      <td>94.0</td>\n",
       "      <td>36.0</td>\n",
       "      <td>21.0</td>\n",
       "      <td>54.0</td>\n",
       "      <td>49.0</td>\n",
       "      <td>94</td>\n",
       "      <td>PM25</td>\n",
       "      <td>0</td>\n",
       "    </tr>\n",
       "    <tr>\n",
       "      <th>408</th>\n",
       "      <td>0</td>\n",
       "      <td>0</td>\n",
       "      <td>0</td>\n",
       "      <td>1</td>\n",
       "      <td>0</td>\n",
       "      <td>2021-08-11</td>\n",
       "      <td>56.0</td>\n",
       "      <td>102.0</td>\n",
       "      <td>39.0</td>\n",
       "      <td>11.0</td>\n",
       "      <td>27.0</td>\n",
       "      <td>23.0</td>\n",
       "      <td>102</td>\n",
       "      <td>PM25</td>\n",
       "      <td>0</td>\n",
       "    </tr>\n",
       "    <tr>\n",
       "      <th>789</th>\n",
       "      <td>1</td>\n",
       "      <td>0</td>\n",
       "      <td>0</td>\n",
       "      <td>0</td>\n",
       "      <td>0</td>\n",
       "      <td>2021-11-25</td>\n",
       "      <td>39.0</td>\n",
       "      <td>57.0</td>\n",
       "      <td>34.0</td>\n",
       "      <td>10.0</td>\n",
       "      <td>11.0</td>\n",
       "      <td>7.0</td>\n",
       "      <td>57</td>\n",
       "      <td>PM25</td>\n",
       "      <td>0</td>\n",
       "    </tr>\n",
       "    <tr>\n",
       "      <th>604</th>\n",
       "      <td>0</td>\n",
       "      <td>0</td>\n",
       "      <td>0</td>\n",
       "      <td>0</td>\n",
       "      <td>1</td>\n",
       "      <td>2021-09-25</td>\n",
       "      <td>45.0</td>\n",
       "      <td>64.0</td>\n",
       "      <td>39.0</td>\n",
       "      <td>4.0</td>\n",
       "      <td>24.0</td>\n",
       "      <td>12.0</td>\n",
       "      <td>64</td>\n",
       "      <td>PM25</td>\n",
       "      <td>0</td>\n",
       "    </tr>\n",
       "    <tr>\n",
       "      <th>921</th>\n",
       "      <td>1</td>\n",
       "      <td>0</td>\n",
       "      <td>0</td>\n",
       "      <td>0</td>\n",
       "      <td>0</td>\n",
       "      <td>2021-12-07</td>\n",
       "      <td>30.0</td>\n",
       "      <td>31.0</td>\n",
       "      <td>34.0</td>\n",
       "      <td>12.0</td>\n",
       "      <td>16.0</td>\n",
       "      <td>9.0</td>\n",
       "      <td>34</td>\n",
       "      <td>SO2</td>\n",
       "      <td>1</td>\n",
       "    </tr>\n",
       "    <tr>\n",
       "      <th>...</th>\n",
       "      <td>...</td>\n",
       "      <td>...</td>\n",
       "      <td>...</td>\n",
       "      <td>...</td>\n",
       "      <td>...</td>\n",
       "      <td>...</td>\n",
       "      <td>...</td>\n",
       "      <td>...</td>\n",
       "      <td>...</td>\n",
       "      <td>...</td>\n",
       "      <td>...</td>\n",
       "      <td>...</td>\n",
       "      <td>...</td>\n",
       "      <td>...</td>\n",
       "      <td>...</td>\n",
       "    </tr>\n",
       "    <tr>\n",
       "      <th>65</th>\n",
       "      <td>0</td>\n",
       "      <td>0</td>\n",
       "      <td>1</td>\n",
       "      <td>0</td>\n",
       "      <td>0</td>\n",
       "      <td>2021-06-06</td>\n",
       "      <td>63.0</td>\n",
       "      <td>95.0</td>\n",
       "      <td>45.0</td>\n",
       "      <td>11.0</td>\n",
       "      <td>26.0</td>\n",
       "      <td>19.0</td>\n",
       "      <td>95</td>\n",
       "      <td>PM25</td>\n",
       "      <td>0</td>\n",
       "    </tr>\n",
       "    <tr>\n",
       "      <th>1028</th>\n",
       "      <td>0</td>\n",
       "      <td>0</td>\n",
       "      <td>0</td>\n",
       "      <td>1</td>\n",
       "      <td>0</td>\n",
       "      <td>2021-12-21</td>\n",
       "      <td>62.0</td>\n",
       "      <td>85.0</td>\n",
       "      <td>42.0</td>\n",
       "      <td>17.0</td>\n",
       "      <td>13.0</td>\n",
       "      <td>27.0</td>\n",
       "      <td>62</td>\n",
       "      <td>PM10</td>\n",
       "      <td>0</td>\n",
       "    </tr>\n",
       "    <tr>\n",
       "      <th>844</th>\n",
       "      <td>0</td>\n",
       "      <td>0</td>\n",
       "      <td>1</td>\n",
       "      <td>0</td>\n",
       "      <td>0</td>\n",
       "      <td>2021-11-20</td>\n",
       "      <td>37.0</td>\n",
       "      <td>53.0</td>\n",
       "      <td>43.0</td>\n",
       "      <td>6.0</td>\n",
       "      <td>31.0</td>\n",
       "      <td>8.0</td>\n",
       "      <td>53</td>\n",
       "      <td>PM25</td>\n",
       "      <td>0</td>\n",
       "    </tr>\n",
       "    <tr>\n",
       "      <th>453</th>\n",
       "      <td>0</td>\n",
       "      <td>0</td>\n",
       "      <td>0</td>\n",
       "      <td>0</td>\n",
       "      <td>1</td>\n",
       "      <td>2021-08-25</td>\n",
       "      <td>63.0</td>\n",
       "      <td>95.0</td>\n",
       "      <td>31.0</td>\n",
       "      <td>10.0</td>\n",
       "      <td>29.0</td>\n",
       "      <td>20.0</td>\n",
       "      <td>95</td>\n",
       "      <td>PM25</td>\n",
       "      <td>0</td>\n",
       "    </tr>\n",
       "    <tr>\n",
       "      <th>170</th>\n",
       "      <td>1</td>\n",
       "      <td>0</td>\n",
       "      <td>0</td>\n",
       "      <td>0</td>\n",
       "      <td>0</td>\n",
       "      <td>2021-07-21</td>\n",
       "      <td>48.0</td>\n",
       "      <td>66.0</td>\n",
       "      <td>27.0</td>\n",
       "      <td>7.0</td>\n",
       "      <td>26.0</td>\n",
       "      <td>17.0</td>\n",
       "      <td>66</td>\n",
       "      <td>PM25</td>\n",
       "      <td>0</td>\n",
       "    </tr>\n",
       "  </tbody>\n",
       "</table>\n",
       "<p>186 rows × 15 columns</p>\n",
       "</div>"
      ],
      "text/plain": [
       "      DKI1 (Bunderan HI)  DKI2 (Kelapa Gading)  DKI3 (Jagakarsa)  \\\n",
       "967                    0                     1                 0   \n",
       "408                    0                     0                 0   \n",
       "789                    1                     0                 0   \n",
       "604                    0                     0                 0   \n",
       "921                    1                     0                 0   \n",
       "...                  ...                   ...               ...   \n",
       "65                     0                     0                 1   \n",
       "1028                   0                     0                 0   \n",
       "844                    0                     0                 1   \n",
       "453                    0                     0                 0   \n",
       "170                    1                     0                 0   \n",
       "\n",
       "      DKI4 (Lubang Buaya)  DKI5 (Kebon Jeruk) Jakarta Barat    tanggal  pm10  \\\n",
       "967                     0                                 0 2021-12-22  65.0   \n",
       "408                     1                                 0 2021-08-11  56.0   \n",
       "789                     0                                 0 2021-11-25  39.0   \n",
       "604                     0                                 1 2021-09-25  45.0   \n",
       "921                     0                                 0 2021-12-07  30.0   \n",
       "...                   ...                               ...        ...   ...   \n",
       "65                      0                                 0 2021-06-06  63.0   \n",
       "1028                    1                                 0 2021-12-21  62.0   \n",
       "844                     0                                 0 2021-11-20  37.0   \n",
       "453                     0                                 1 2021-08-25  63.0   \n",
       "170                     0                                 0 2021-07-21  48.0   \n",
       "\n",
       "       pm25   so2    co    o3   no2  max critical  categori  \n",
       "967    94.0  36.0  21.0  54.0  49.0   94     PM25         0  \n",
       "408   102.0  39.0  11.0  27.0  23.0  102     PM25         0  \n",
       "789    57.0  34.0  10.0  11.0   7.0   57     PM25         0  \n",
       "604    64.0  39.0   4.0  24.0  12.0   64     PM25         0  \n",
       "921    31.0  34.0  12.0  16.0   9.0   34      SO2         1  \n",
       "...     ...   ...   ...   ...   ...  ...      ...       ...  \n",
       "65     95.0  45.0  11.0  26.0  19.0   95     PM25         0  \n",
       "1028   85.0  42.0  17.0  13.0  27.0   62     PM10         0  \n",
       "844    53.0  43.0   6.0  31.0   8.0   53     PM25         0  \n",
       "453    95.0  31.0  10.0  29.0  20.0   95     PM25         0  \n",
       "170    66.0  27.0   7.0  26.0  17.0   66     PM25         0  \n",
       "\n",
       "[186 rows x 15 columns]"
      ]
     },
     "execution_count": 70,
     "metadata": {},
     "output_type": "execute_result"
    }
   ],
   "source": [
    "# Replace value\n",
    "replace_value(data = validation_set, \n",
    "              column = params['label'],\n",
    "              column_number = \"single\",\n",
    "              old_value = \"TIDAK SEHAT\",\n",
    "              replace_value = 0)"
   ]
  },
  {
   "cell_type": "markdown",
   "id": "b818b4e7",
   "metadata": {},
   "source": [
    "Test set"
   ]
  },
  {
   "cell_type": "code",
   "execution_count": 71,
   "id": "6fbad758",
   "metadata": {},
   "outputs": [
    {
     "data": {
      "text/html": [
       "<div>\n",
       "<style scoped>\n",
       "    .dataframe tbody tr th:only-of-type {\n",
       "        vertical-align: middle;\n",
       "    }\n",
       "\n",
       "    .dataframe tbody tr th {\n",
       "        vertical-align: top;\n",
       "    }\n",
       "\n",
       "    .dataframe thead th {\n",
       "        text-align: right;\n",
       "    }\n",
       "</style>\n",
       "<table border=\"1\" class=\"dataframe\">\n",
       "  <thead>\n",
       "    <tr style=\"text-align: right;\">\n",
       "      <th></th>\n",
       "      <th>DKI1 (Bunderan HI)</th>\n",
       "      <th>DKI2 (Kelapa Gading)</th>\n",
       "      <th>DKI3 (Jagakarsa)</th>\n",
       "      <th>DKI4 (Lubang Buaya)</th>\n",
       "      <th>DKI5 (Kebon Jeruk) Jakarta Barat</th>\n",
       "      <th>tanggal</th>\n",
       "      <th>pm10</th>\n",
       "      <th>pm25</th>\n",
       "      <th>so2</th>\n",
       "      <th>co</th>\n",
       "      <th>o3</th>\n",
       "      <th>no2</th>\n",
       "      <th>max</th>\n",
       "      <th>critical</th>\n",
       "      <th>categori</th>\n",
       "    </tr>\n",
       "  </thead>\n",
       "  <tbody>\n",
       "    <tr>\n",
       "      <th>168</th>\n",
       "      <td>1</td>\n",
       "      <td>0</td>\n",
       "      <td>0</td>\n",
       "      <td>0</td>\n",
       "      <td>0</td>\n",
       "      <td>2021-07-19</td>\n",
       "      <td>66.0</td>\n",
       "      <td>95.0</td>\n",
       "      <td>26.0</td>\n",
       "      <td>10.0</td>\n",
       "      <td>32.0</td>\n",
       "      <td>28.0</td>\n",
       "      <td>95</td>\n",
       "      <td>PM25</td>\n",
       "      <td>TIDAK SEHAT</td>\n",
       "    </tr>\n",
       "    <tr>\n",
       "      <th>622</th>\n",
       "      <td>1</td>\n",
       "      <td>0</td>\n",
       "      <td>0</td>\n",
       "      <td>0</td>\n",
       "      <td>0</td>\n",
       "      <td>2021-10-13</td>\n",
       "      <td>52.0</td>\n",
       "      <td>67.0</td>\n",
       "      <td>28.0</td>\n",
       "      <td>8.0</td>\n",
       "      <td>25.0</td>\n",
       "      <td>31.0</td>\n",
       "      <td>67</td>\n",
       "      <td>PM25</td>\n",
       "      <td>TIDAK SEHAT</td>\n",
       "    </tr>\n",
       "    <tr>\n",
       "      <th>621</th>\n",
       "      <td>1</td>\n",
       "      <td>0</td>\n",
       "      <td>0</td>\n",
       "      <td>0</td>\n",
       "      <td>0</td>\n",
       "      <td>2021-10-12</td>\n",
       "      <td>56.0</td>\n",
       "      <td>76.0</td>\n",
       "      <td>37.0</td>\n",
       "      <td>9.0</td>\n",
       "      <td>23.0</td>\n",
       "      <td>35.0</td>\n",
       "      <td>76</td>\n",
       "      <td>PM25</td>\n",
       "      <td>TIDAK SEHAT</td>\n",
       "    </tr>\n",
       "    <tr>\n",
       "      <th>176</th>\n",
       "      <td>1</td>\n",
       "      <td>0</td>\n",
       "      <td>0</td>\n",
       "      <td>0</td>\n",
       "      <td>0</td>\n",
       "      <td>2021-07-27</td>\n",
       "      <td>61.0</td>\n",
       "      <td>91.0</td>\n",
       "      <td>29.0</td>\n",
       "      <td>10.0</td>\n",
       "      <td>23.0</td>\n",
       "      <td>28.0</td>\n",
       "      <td>91</td>\n",
       "      <td>PM25</td>\n",
       "      <td>TIDAK SEHAT</td>\n",
       "    </tr>\n",
       "    <tr>\n",
       "      <th>668</th>\n",
       "      <td>0</td>\n",
       "      <td>1</td>\n",
       "      <td>0</td>\n",
       "      <td>0</td>\n",
       "      <td>0</td>\n",
       "      <td>2021-10-28</td>\n",
       "      <td>51.0</td>\n",
       "      <td>70.0</td>\n",
       "      <td>67.0</td>\n",
       "      <td>12.0</td>\n",
       "      <td>49.0</td>\n",
       "      <td>30.0</td>\n",
       "      <td>70</td>\n",
       "      <td>PM25</td>\n",
       "      <td>TIDAK SEHAT</td>\n",
       "    </tr>\n",
       "    <tr>\n",
       "      <th>...</th>\n",
       "      <td>...</td>\n",
       "      <td>...</td>\n",
       "      <td>...</td>\n",
       "      <td>...</td>\n",
       "      <td>...</td>\n",
       "      <td>...</td>\n",
       "      <td>...</td>\n",
       "      <td>...</td>\n",
       "      <td>...</td>\n",
       "      <td>...</td>\n",
       "      <td>...</td>\n",
       "      <td>...</td>\n",
       "      <td>...</td>\n",
       "      <td>...</td>\n",
       "      <td>...</td>\n",
       "    </tr>\n",
       "    <tr>\n",
       "      <th>420</th>\n",
       "      <td>0</td>\n",
       "      <td>0</td>\n",
       "      <td>0</td>\n",
       "      <td>1</td>\n",
       "      <td>0</td>\n",
       "      <td>2021-08-23</td>\n",
       "      <td>63.0</td>\n",
       "      <td>106.0</td>\n",
       "      <td>40.0</td>\n",
       "      <td>10.0</td>\n",
       "      <td>24.0</td>\n",
       "      <td>20.0</td>\n",
       "      <td>106</td>\n",
       "      <td>PM25</td>\n",
       "      <td>TIDAK SEHAT</td>\n",
       "    </tr>\n",
       "    <tr>\n",
       "      <th>697</th>\n",
       "      <td>0</td>\n",
       "      <td>0</td>\n",
       "      <td>1</td>\n",
       "      <td>0</td>\n",
       "      <td>0</td>\n",
       "      <td>2021-10-26</td>\n",
       "      <td>51.0</td>\n",
       "      <td>71.0</td>\n",
       "      <td>51.0</td>\n",
       "      <td>13.0</td>\n",
       "      <td>30.0</td>\n",
       "      <td>15.0</td>\n",
       "      <td>71</td>\n",
       "      <td>PM25</td>\n",
       "      <td>TIDAK SEHAT</td>\n",
       "    </tr>\n",
       "    <tr>\n",
       "      <th>480</th>\n",
       "      <td>1</td>\n",
       "      <td>0</td>\n",
       "      <td>0</td>\n",
       "      <td>0</td>\n",
       "      <td>0</td>\n",
       "      <td>2021-09-21</td>\n",
       "      <td>55.0</td>\n",
       "      <td>81.0</td>\n",
       "      <td>28.0</td>\n",
       "      <td>11.0</td>\n",
       "      <td>29.0</td>\n",
       "      <td>36.0</td>\n",
       "      <td>81</td>\n",
       "      <td>PM25</td>\n",
       "      <td>TIDAK SEHAT</td>\n",
       "    </tr>\n",
       "    <tr>\n",
       "      <th>12</th>\n",
       "      <td>1</td>\n",
       "      <td>0</td>\n",
       "      <td>0</td>\n",
       "      <td>0</td>\n",
       "      <td>0</td>\n",
       "      <td>2021-06-13</td>\n",
       "      <td>51.0</td>\n",
       "      <td>70.0</td>\n",
       "      <td>23.0</td>\n",
       "      <td>14.0</td>\n",
       "      <td>25.0</td>\n",
       "      <td>25.0</td>\n",
       "      <td>70</td>\n",
       "      <td>PM25</td>\n",
       "      <td>TIDAK SEHAT</td>\n",
       "    </tr>\n",
       "    <tr>\n",
       "      <th>647</th>\n",
       "      <td>0</td>\n",
       "      <td>1</td>\n",
       "      <td>0</td>\n",
       "      <td>0</td>\n",
       "      <td>0</td>\n",
       "      <td>2021-10-07</td>\n",
       "      <td>49.0</td>\n",
       "      <td>64.0</td>\n",
       "      <td>60.0</td>\n",
       "      <td>9.0</td>\n",
       "      <td>50.0</td>\n",
       "      <td>20.0</td>\n",
       "      <td>64</td>\n",
       "      <td>PM25</td>\n",
       "      <td>TIDAK SEHAT</td>\n",
       "    </tr>\n",
       "  </tbody>\n",
       "</table>\n",
       "<p>186 rows × 15 columns</p>\n",
       "</div>"
      ],
      "text/plain": [
       "     DKI1 (Bunderan HI)  DKI2 (Kelapa Gading)  DKI3 (Jagakarsa)  \\\n",
       "168                   1                     0                 0   \n",
       "622                   1                     0                 0   \n",
       "621                   1                     0                 0   \n",
       "176                   1                     0                 0   \n",
       "668                   0                     1                 0   \n",
       "..                  ...                   ...               ...   \n",
       "420                   0                     0                 0   \n",
       "697                   0                     0                 1   \n",
       "480                   1                     0                 0   \n",
       "12                    1                     0                 0   \n",
       "647                   0                     1                 0   \n",
       "\n",
       "     DKI4 (Lubang Buaya)  DKI5 (Kebon Jeruk) Jakarta Barat    tanggal  pm10  \\\n",
       "168                    0                                 0 2021-07-19  66.0   \n",
       "622                    0                                 0 2021-10-13  52.0   \n",
       "621                    0                                 0 2021-10-12  56.0   \n",
       "176                    0                                 0 2021-07-27  61.0   \n",
       "668                    0                                 0 2021-10-28  51.0   \n",
       "..                   ...                               ...        ...   ...   \n",
       "420                    1                                 0 2021-08-23  63.0   \n",
       "697                    0                                 0 2021-10-26  51.0   \n",
       "480                    0                                 0 2021-09-21  55.0   \n",
       "12                     0                                 0 2021-06-13  51.0   \n",
       "647                    0                                 0 2021-10-07  49.0   \n",
       "\n",
       "      pm25   so2    co    o3   no2  max critical     categori  \n",
       "168   95.0  26.0  10.0  32.0  28.0   95     PM25  TIDAK SEHAT  \n",
       "622   67.0  28.0   8.0  25.0  31.0   67     PM25  TIDAK SEHAT  \n",
       "621   76.0  37.0   9.0  23.0  35.0   76     PM25  TIDAK SEHAT  \n",
       "176   91.0  29.0  10.0  23.0  28.0   91     PM25  TIDAK SEHAT  \n",
       "668   70.0  67.0  12.0  49.0  30.0   70     PM25  TIDAK SEHAT  \n",
       "..     ...   ...   ...   ...   ...  ...      ...          ...  \n",
       "420  106.0  40.0  10.0  24.0  20.0  106     PM25  TIDAK SEHAT  \n",
       "697   71.0  51.0  13.0  30.0  15.0   71     PM25  TIDAK SEHAT  \n",
       "480   81.0  28.0  11.0  29.0  36.0   81     PM25  TIDAK SEHAT  \n",
       "12    70.0  23.0  14.0  25.0  25.0   70     PM25  TIDAK SEHAT  \n",
       "647   64.0  60.0   9.0  50.0  20.0   64     PM25  TIDAK SEHAT  \n",
       "\n",
       "[186 rows x 15 columns]"
      ]
     },
     "execution_count": 71,
     "metadata": {},
     "output_type": "execute_result"
    }
   ],
   "source": [
    "# Replace value\n",
    "replace_value(data = testing_set, \n",
    "              column = params['label'],\n",
    "              column_number = \"single\",\n",
    "              old_value = \"BAIK\",\n",
    "              replace_value = 1)"
   ]
  },
  {
   "cell_type": "code",
   "execution_count": 72,
   "id": "5814057c",
   "metadata": {},
   "outputs": [
    {
     "data": {
      "text/html": [
       "<div>\n",
       "<style scoped>\n",
       "    .dataframe tbody tr th:only-of-type {\n",
       "        vertical-align: middle;\n",
       "    }\n",
       "\n",
       "    .dataframe tbody tr th {\n",
       "        vertical-align: top;\n",
       "    }\n",
       "\n",
       "    .dataframe thead th {\n",
       "        text-align: right;\n",
       "    }\n",
       "</style>\n",
       "<table border=\"1\" class=\"dataframe\">\n",
       "  <thead>\n",
       "    <tr style=\"text-align: right;\">\n",
       "      <th></th>\n",
       "      <th>DKI1 (Bunderan HI)</th>\n",
       "      <th>DKI2 (Kelapa Gading)</th>\n",
       "      <th>DKI3 (Jagakarsa)</th>\n",
       "      <th>DKI4 (Lubang Buaya)</th>\n",
       "      <th>DKI5 (Kebon Jeruk) Jakarta Barat</th>\n",
       "      <th>tanggal</th>\n",
       "      <th>pm10</th>\n",
       "      <th>pm25</th>\n",
       "      <th>so2</th>\n",
       "      <th>co</th>\n",
       "      <th>o3</th>\n",
       "      <th>no2</th>\n",
       "      <th>max</th>\n",
       "      <th>critical</th>\n",
       "      <th>categori</th>\n",
       "    </tr>\n",
       "  </thead>\n",
       "  <tbody>\n",
       "    <tr>\n",
       "      <th>168</th>\n",
       "      <td>1</td>\n",
       "      <td>0</td>\n",
       "      <td>0</td>\n",
       "      <td>0</td>\n",
       "      <td>0</td>\n",
       "      <td>2021-07-19</td>\n",
       "      <td>66.0</td>\n",
       "      <td>95.0</td>\n",
       "      <td>26.0</td>\n",
       "      <td>10.0</td>\n",
       "      <td>32.0</td>\n",
       "      <td>28.0</td>\n",
       "      <td>95</td>\n",
       "      <td>PM25</td>\n",
       "      <td>0</td>\n",
       "    </tr>\n",
       "    <tr>\n",
       "      <th>622</th>\n",
       "      <td>1</td>\n",
       "      <td>0</td>\n",
       "      <td>0</td>\n",
       "      <td>0</td>\n",
       "      <td>0</td>\n",
       "      <td>2021-10-13</td>\n",
       "      <td>52.0</td>\n",
       "      <td>67.0</td>\n",
       "      <td>28.0</td>\n",
       "      <td>8.0</td>\n",
       "      <td>25.0</td>\n",
       "      <td>31.0</td>\n",
       "      <td>67</td>\n",
       "      <td>PM25</td>\n",
       "      <td>0</td>\n",
       "    </tr>\n",
       "    <tr>\n",
       "      <th>621</th>\n",
       "      <td>1</td>\n",
       "      <td>0</td>\n",
       "      <td>0</td>\n",
       "      <td>0</td>\n",
       "      <td>0</td>\n",
       "      <td>2021-10-12</td>\n",
       "      <td>56.0</td>\n",
       "      <td>76.0</td>\n",
       "      <td>37.0</td>\n",
       "      <td>9.0</td>\n",
       "      <td>23.0</td>\n",
       "      <td>35.0</td>\n",
       "      <td>76</td>\n",
       "      <td>PM25</td>\n",
       "      <td>0</td>\n",
       "    </tr>\n",
       "    <tr>\n",
       "      <th>176</th>\n",
       "      <td>1</td>\n",
       "      <td>0</td>\n",
       "      <td>0</td>\n",
       "      <td>0</td>\n",
       "      <td>0</td>\n",
       "      <td>2021-07-27</td>\n",
       "      <td>61.0</td>\n",
       "      <td>91.0</td>\n",
       "      <td>29.0</td>\n",
       "      <td>10.0</td>\n",
       "      <td>23.0</td>\n",
       "      <td>28.0</td>\n",
       "      <td>91</td>\n",
       "      <td>PM25</td>\n",
       "      <td>0</td>\n",
       "    </tr>\n",
       "    <tr>\n",
       "      <th>668</th>\n",
       "      <td>0</td>\n",
       "      <td>1</td>\n",
       "      <td>0</td>\n",
       "      <td>0</td>\n",
       "      <td>0</td>\n",
       "      <td>2021-10-28</td>\n",
       "      <td>51.0</td>\n",
       "      <td>70.0</td>\n",
       "      <td>67.0</td>\n",
       "      <td>12.0</td>\n",
       "      <td>49.0</td>\n",
       "      <td>30.0</td>\n",
       "      <td>70</td>\n",
       "      <td>PM25</td>\n",
       "      <td>0</td>\n",
       "    </tr>\n",
       "    <tr>\n",
       "      <th>...</th>\n",
       "      <td>...</td>\n",
       "      <td>...</td>\n",
       "      <td>...</td>\n",
       "      <td>...</td>\n",
       "      <td>...</td>\n",
       "      <td>...</td>\n",
       "      <td>...</td>\n",
       "      <td>...</td>\n",
       "      <td>...</td>\n",
       "      <td>...</td>\n",
       "      <td>...</td>\n",
       "      <td>...</td>\n",
       "      <td>...</td>\n",
       "      <td>...</td>\n",
       "      <td>...</td>\n",
       "    </tr>\n",
       "    <tr>\n",
       "      <th>420</th>\n",
       "      <td>0</td>\n",
       "      <td>0</td>\n",
       "      <td>0</td>\n",
       "      <td>1</td>\n",
       "      <td>0</td>\n",
       "      <td>2021-08-23</td>\n",
       "      <td>63.0</td>\n",
       "      <td>106.0</td>\n",
       "      <td>40.0</td>\n",
       "      <td>10.0</td>\n",
       "      <td>24.0</td>\n",
       "      <td>20.0</td>\n",
       "      <td>106</td>\n",
       "      <td>PM25</td>\n",
       "      <td>0</td>\n",
       "    </tr>\n",
       "    <tr>\n",
       "      <th>697</th>\n",
       "      <td>0</td>\n",
       "      <td>0</td>\n",
       "      <td>1</td>\n",
       "      <td>0</td>\n",
       "      <td>0</td>\n",
       "      <td>2021-10-26</td>\n",
       "      <td>51.0</td>\n",
       "      <td>71.0</td>\n",
       "      <td>51.0</td>\n",
       "      <td>13.0</td>\n",
       "      <td>30.0</td>\n",
       "      <td>15.0</td>\n",
       "      <td>71</td>\n",
       "      <td>PM25</td>\n",
       "      <td>0</td>\n",
       "    </tr>\n",
       "    <tr>\n",
       "      <th>480</th>\n",
       "      <td>1</td>\n",
       "      <td>0</td>\n",
       "      <td>0</td>\n",
       "      <td>0</td>\n",
       "      <td>0</td>\n",
       "      <td>2021-09-21</td>\n",
       "      <td>55.0</td>\n",
       "      <td>81.0</td>\n",
       "      <td>28.0</td>\n",
       "      <td>11.0</td>\n",
       "      <td>29.0</td>\n",
       "      <td>36.0</td>\n",
       "      <td>81</td>\n",
       "      <td>PM25</td>\n",
       "      <td>0</td>\n",
       "    </tr>\n",
       "    <tr>\n",
       "      <th>12</th>\n",
       "      <td>1</td>\n",
       "      <td>0</td>\n",
       "      <td>0</td>\n",
       "      <td>0</td>\n",
       "      <td>0</td>\n",
       "      <td>2021-06-13</td>\n",
       "      <td>51.0</td>\n",
       "      <td>70.0</td>\n",
       "      <td>23.0</td>\n",
       "      <td>14.0</td>\n",
       "      <td>25.0</td>\n",
       "      <td>25.0</td>\n",
       "      <td>70</td>\n",
       "      <td>PM25</td>\n",
       "      <td>0</td>\n",
       "    </tr>\n",
       "    <tr>\n",
       "      <th>647</th>\n",
       "      <td>0</td>\n",
       "      <td>1</td>\n",
       "      <td>0</td>\n",
       "      <td>0</td>\n",
       "      <td>0</td>\n",
       "      <td>2021-10-07</td>\n",
       "      <td>49.0</td>\n",
       "      <td>64.0</td>\n",
       "      <td>60.0</td>\n",
       "      <td>9.0</td>\n",
       "      <td>50.0</td>\n",
       "      <td>20.0</td>\n",
       "      <td>64</td>\n",
       "      <td>PM25</td>\n",
       "      <td>0</td>\n",
       "    </tr>\n",
       "  </tbody>\n",
       "</table>\n",
       "<p>186 rows × 15 columns</p>\n",
       "</div>"
      ],
      "text/plain": [
       "     DKI1 (Bunderan HI)  DKI2 (Kelapa Gading)  DKI3 (Jagakarsa)  \\\n",
       "168                   1                     0                 0   \n",
       "622                   1                     0                 0   \n",
       "621                   1                     0                 0   \n",
       "176                   1                     0                 0   \n",
       "668                   0                     1                 0   \n",
       "..                  ...                   ...               ...   \n",
       "420                   0                     0                 0   \n",
       "697                   0                     0                 1   \n",
       "480                   1                     0                 0   \n",
       "12                    1                     0                 0   \n",
       "647                   0                     1                 0   \n",
       "\n",
       "     DKI4 (Lubang Buaya)  DKI5 (Kebon Jeruk) Jakarta Barat    tanggal  pm10  \\\n",
       "168                    0                                 0 2021-07-19  66.0   \n",
       "622                    0                                 0 2021-10-13  52.0   \n",
       "621                    0                                 0 2021-10-12  56.0   \n",
       "176                    0                                 0 2021-07-27  61.0   \n",
       "668                    0                                 0 2021-10-28  51.0   \n",
       "..                   ...                               ...        ...   ...   \n",
       "420                    1                                 0 2021-08-23  63.0   \n",
       "697                    0                                 0 2021-10-26  51.0   \n",
       "480                    0                                 0 2021-09-21  55.0   \n",
       "12                     0                                 0 2021-06-13  51.0   \n",
       "647                    0                                 0 2021-10-07  49.0   \n",
       "\n",
       "      pm25   so2    co    o3   no2  max critical  categori  \n",
       "168   95.0  26.0  10.0  32.0  28.0   95     PM25         0  \n",
       "622   67.0  28.0   8.0  25.0  31.0   67     PM25         0  \n",
       "621   76.0  37.0   9.0  23.0  35.0   76     PM25         0  \n",
       "176   91.0  29.0  10.0  23.0  28.0   91     PM25         0  \n",
       "668   70.0  67.0  12.0  49.0  30.0   70     PM25         0  \n",
       "..     ...   ...   ...   ...   ...  ...      ...       ...  \n",
       "420  106.0  40.0  10.0  24.0  20.0  106     PM25         0  \n",
       "697   71.0  51.0  13.0  30.0  15.0   71     PM25         0  \n",
       "480   81.0  28.0  11.0  29.0  36.0   81     PM25         0  \n",
       "12    70.0  23.0  14.0  25.0  25.0   70     PM25         0  \n",
       "647   64.0  60.0   9.0  50.0  20.0   64     PM25         0  \n",
       "\n",
       "[186 rows x 15 columns]"
      ]
     },
     "execution_count": 72,
     "metadata": {},
     "output_type": "execute_result"
    }
   ],
   "source": [
    "# Replace value\n",
    "replace_value(data = testing_set, \n",
    "              column = params['label'],\n",
    "              column_number = \"single\",\n",
    "              old_value = \"TIDAK SEHAT\",\n",
    "              replace_value = 0)"
   ]
  },
  {
   "cell_type": "markdown",
   "id": "193b4573",
   "metadata": {},
   "source": [
    "**4. Feature Engineering**"
   ]
  },
  {
   "cell_type": "markdown",
   "id": "1f0080b8",
   "metadata": {},
   "source": [
    "Remove max and critical due to redundancy and tanggal due to irrelevant"
   ]
  },
  {
   "cell_type": "code",
   "execution_count": 73,
   "id": "6c071d19",
   "metadata": {},
   "outputs": [],
   "source": [
    "# Create function to drop specified column\n",
    "def drop_column(df,columns):\n",
    "    \n",
    "    \"\"\"\n",
    "    This function is used to drop specified column within dataframe\n",
    "    \n",
    "    :param df: <pandas dataframe> data contain sample\n",
    "    :param columns: <string> column name\n",
    "    :return churn_data: <pandas dataframe> data contain sample\n",
    "    \"\"\"\n",
    "    \n",
    "    dataset = df.drop(columns, axis = 1)\n",
    "    \n",
    "    return dataset"
   ]
  },
  {
   "cell_type": "code",
   "execution_count": 74,
   "id": "435ced50",
   "metadata": {},
   "outputs": [],
   "source": [
    "train_set = drop_column(train_set, ['tanggal','max', 'critical'])\n",
    "validation_set = drop_column(validation_set, ['tanggal','max', 'critical'])\n",
    "testing_set = drop_column(testing_set, ['tanggal', 'max', 'critical'])"
   ]
  },
  {
   "cell_type": "code",
   "execution_count": 75,
   "id": "c74625c9",
   "metadata": {},
   "outputs": [
    {
     "name": "stdout",
     "output_type": "stream",
     "text": [
      "(689, 12) (186, 12) (186, 12)\n"
     ]
    }
   ],
   "source": [
    "# Sanity check\n",
    "print(train_set.shape, validation_set.shape, testing_set.shape)"
   ]
  },
  {
   "cell_type": "markdown",
   "id": "90463435",
   "metadata": {},
   "source": [
    "**5. Balancing label**"
   ]
  },
  {
   "cell_type": "markdown",
   "id": "591def97",
   "metadata": {},
   "source": [
    "Undersampling"
   ]
  },
  {
   "cell_type": "code",
   "execution_count": 76,
   "id": "68911f14",
   "metadata": {},
   "outputs": [],
   "source": [
    "# Undersampling\n",
    "rus = RandomUnderSampler(random_state = 123)"
   ]
  },
  {
   "cell_type": "code",
   "execution_count": 77,
   "id": "8671e71f",
   "metadata": {},
   "outputs": [],
   "source": [
    "X_rus, y_rus = rus.fit_resample(train_set.drop(params['label'], axis = 1), train_set[params['label']])"
   ]
  },
  {
   "cell_type": "code",
   "execution_count": 78,
   "id": "00424ba8",
   "metadata": {},
   "outputs": [],
   "source": [
    "train_set_rus = pd.concat([X_rus, y_rus], axis = 1)"
   ]
  },
  {
   "cell_type": "code",
   "execution_count": 79,
   "id": "27e82844",
   "metadata": {},
   "outputs": [
    {
     "data": {
      "text/plain": [
       "<AxesSubplot:xlabel='categori', ylabel='Count'>"
      ]
     },
     "execution_count": 79,
     "metadata": {},
     "output_type": "execute_result"
    },
    {
     "data": {
      "image/png": "[encoded data removed]",
      "text/plain": [
       "<Figure size 640x480 with 1 Axes>"
      ]
     },
     "metadata": {},
     "output_type": "display_data"
    }
   ],
   "source": [
    "sns.histplot(train_set_rus, x = params['label'], hue = params['label'])"
   ]
  },
  {
   "cell_type": "code",
   "execution_count": 80,
   "id": "84a1a6bd",
   "metadata": {},
   "outputs": [
    {
     "data": {
      "text/plain": [
       "0    41\n",
       "1    41\n",
       "Name: categori, dtype: int64"
      ]
     },
     "execution_count": 80,
     "metadata": {},
     "output_type": "execute_result"
    }
   ],
   "source": [
    "train_set_rus[params['label']].value_counts()"
   ]
  },
  {
   "cell_type": "markdown",
   "id": "7233722f",
   "metadata": {},
   "source": [
    "Oversampling"
   ]
  },
  {
   "cell_type": "code",
   "execution_count": 81,
   "id": "459fb2c8",
   "metadata": {},
   "outputs": [],
   "source": [
    "ros = RandomOverSampler(random_state = 123)"
   ]
  },
  {
   "cell_type": "code",
   "execution_count": 82,
   "id": "e5878762",
   "metadata": {},
   "outputs": [],
   "source": [
    "X_ros, y_ros = ros.fit_resample(train_set.drop(params['label'], axis = 1), train_set[params['label']])"
   ]
  },
  {
   "cell_type": "code",
   "execution_count": 83,
   "id": "9c14f10c",
   "metadata": {},
   "outputs": [],
   "source": [
    "train_set_ros = pd.concat([X_ros, y_ros], axis = 1)"
   ]
  },
  {
   "cell_type": "code",
   "execution_count": 84,
   "id": "3d262833",
   "metadata": {},
   "outputs": [
    {
     "data": {
      "text/plain": [
       "<AxesSubplot:xlabel='categori', ylabel='Count'>"
      ]
     },
     "execution_count": 84,
     "metadata": {},
     "output_type": "execute_result"
    },
    {
     "data": {
      "image/png": "[encoded data removed]",
      "text/plain": [
       "<Figure size 640x480 with 1 Axes>"
      ]
     },
     "metadata": {},
     "output_type": "display_data"
    }
   ],
   "source": [
    "sns.histplot(train_set_ros, x = params['label'], hue = params['label'])"
   ]
  },
  {
   "cell_type": "code",
   "execution_count": 85,
   "id": "e4011e76",
   "metadata": {},
   "outputs": [
    {
     "data": {
      "text/plain": [
       "0    648\n",
       "1    648\n",
       "Name: categori, dtype: int64"
      ]
     },
     "execution_count": 85,
     "metadata": {},
     "output_type": "execute_result"
    }
   ],
   "source": [
    "train_set_ros[params['label']].value_counts()"
   ]
  },
  {
   "cell_type": "markdown",
   "id": "df3019ec",
   "metadata": {},
   "source": [
    "SMOTE"
   ]
  },
  {
   "cell_type": "code",
   "execution_count": 86,
   "id": "ffc065c5",
   "metadata": {},
   "outputs": [],
   "source": [
    "sm = SMOTE(random_state = 123)"
   ]
  },
  {
   "cell_type": "code",
   "execution_count": 87,
   "id": "d5be9d54",
   "metadata": {},
   "outputs": [],
   "source": [
    "X_sm, y_sm = sm.fit_resample(train_set.drop(params['label'], axis = 1), train_set[params['label']])"
   ]
  },
  {
   "cell_type": "code",
   "execution_count": 88,
   "id": "7b6aecd1",
   "metadata": {},
   "outputs": [],
   "source": [
    "train_set_sm = pd.concat([X_sm, y_sm], axis = 1)"
   ]
  },
  {
   "cell_type": "code",
   "execution_count": 89,
   "id": "bf0a9614",
   "metadata": {},
   "outputs": [
    {
     "data": {
      "text/plain": [
       "<AxesSubplot:xlabel='categori', ylabel='Count'>"
      ]
     },
     "execution_count": 89,
     "metadata": {},
     "output_type": "execute_result"
    },
    {
     "data": {
      "image/png": "[encoded data removed]",
      "text/plain": [
       "<Figure size 640x480 with 1 Axes>"
      ]
     },
     "metadata": {},
     "output_type": "display_data"
    }
   ],
   "source": [
    "sns.histplot(train_set_sm, x = params['label'], hue = params['label'])"
   ]
  },
  {
   "cell_type": "code",
   "execution_count": 90,
   "id": "8d076b75",
   "metadata": {},
   "outputs": [
    {
     "data": {
      "text/plain": [
       "0    648\n",
       "1    648\n",
       "Name: categori, dtype: int64"
      ]
     },
     "execution_count": 90,
     "metadata": {},
     "output_type": "execute_result"
    }
   ],
   "source": [
    "train_set_sm[params['label']].value_counts()"
   ]
  },
  {
   "cell_type": "markdown",
   "id": "a362d972",
   "metadata": {},
   "source": [
    "# Feature Selection"
   ]
  },
  {
   "cell_type": "code",
   "execution_count": 91,
   "id": "f04810a6",
   "metadata": {},
   "outputs": [],
   "source": [
    "# Input-Output split function\n",
    "def input_output_split(df, column):\n",
    "    \n",
    "    \"\"\"\n",
    "    This function is created to split input and output column\n",
    "    :param df: <pandas dataframe> data contain sample\n",
    "    :param columns: <string> column name\n",
    "    :return X: <pandas dataframe> data contain input\n",
    "    :return y: <pandas dataframe> data contain output\n",
    "    \"\"\"\n",
    "    \n",
    "    X = df.drop(column, axis = 1)\n",
    "    y = df[column]\n",
    "    \n",
    "    return X,y"
   ]
  },
  {
   "cell_type": "markdown",
   "id": "dd8506fb",
   "metadata": {},
   "source": [
    "Kendall's rank"
   ]
  },
  {
   "cell_type": "code",
   "execution_count": 92,
   "id": "2870c434",
   "metadata": {},
   "outputs": [],
   "source": [
    "# Input output split\n",
    "X_train_set, y_train_set = input_output_split(df = train_set, column = params['label'])"
   ]
  },
  {
   "cell_type": "code",
   "execution_count": 93,
   "id": "c6ba8de7",
   "metadata": {},
   "outputs": [],
   "source": [
    "# cat num split\n",
    "X_train_cat, X_train_num, X_train_OHE = num_cat_split(X_train_set, params['range_stasiun'])"
   ]
  },
  {
   "cell_type": "code",
   "execution_count": 94,
   "id": "52ca2a75",
   "metadata": {},
   "outputs": [],
   "source": [
    "# Create Kendall's rank coefficient and p-value calculation function\n",
    "def kendall_rank(input, output):\n",
    "    \n",
    "    \"\"\"\n",
    "    This function is created to calculate the level of significance between numeric type input data and object type output data \n",
    "    using kendall's rank\n",
    "    \n",
    "    :param input: <pandas dataframe> data contain input\n",
    "    :param output: <pandas dataframe> data contain output  \n",
    "    :return kendall_rank: <dictionary> collection of coefficient and p_value\n",
    "    \"\"\"\n",
    "    \n",
    "    # Create an empty dictionary to store the results\n",
    "    kendall_rank = {}\n",
    "    \n",
    "    # Loop over each column in the numerical data DataFrame\n",
    "    for col in input.columns:\n",
    "        \n",
    "        # Calculate Kendall's rank correlation coefficient    \n",
    "        coefficient, p_value = kendalltau(input[col], output)\n",
    "        \n",
    "        # Store the results in the dictionary\n",
    "        kendall_rank[col] = (coefficient, p_value)\n",
    "    \n",
    "    return kendall_rank"
   ]
  },
  {
   "cell_type": "code",
   "execution_count": 95,
   "id": "76dc173d",
   "metadata": {},
   "outputs": [
    {
     "data": {
      "text/plain": [
       "{'pm10': (-0.32534019336378767, 5.714175574392051e-25),\n",
       " 'pm25': (-0.32781799967805947, 1.3675662452688476e-25),\n",
       " 'so2': (-0.14375662949466622, 5.565420724704569e-06),\n",
       " 'co': (-0.24077415273630728, 8.341768138014866e-14),\n",
       " 'o3': (-0.10664815573269286, 0.0007290076140834427),\n",
       " 'no2': (-0.26351799849686386, 8.568258551507013e-17)}"
      ]
     },
     "execution_count": 95,
     "metadata": {},
     "output_type": "execute_result"
    }
   ],
   "source": [
    "# Show Kendall's rank coefficient and p-value\n",
    "kendall_rank(input = X_train_num, output = y_train_set)"
   ]
  },
  {
   "cell_type": "markdown",
   "id": "d06ccd69",
   "metadata": {},
   "source": [
    "Chi square test"
   ]
  },
  {
   "cell_type": "code",
   "execution_count": 96,
   "id": "bb6ad46a",
   "metadata": {},
   "outputs": [],
   "source": [
    "# Create contingency table and chi-square calculation function\n",
    "def chi_square_test(input, output):\n",
    "    \n",
    "    \"\"\"\n",
    "    This function is created to calculate the level of significance between object type input data and object type \n",
    "    output data using chi-squared test\n",
    "    \n",
    "    :param input: <pandas dataframe> data contain input\n",
    "    :param output: <pandas dataframe> data contain output\n",
    "    :return contingency_tables: <dictionary> collection of distribution of a set of categorical variables\n",
    "    :return p_values_chi2: <dictionary> collection of p-value\n",
    "    \"\"\"\n",
    "    \n",
    "    # Create an empty dictionary to store the contingency tables\n",
    "    contingency_tables = {}\n",
    "    \n",
    "    # Loop over each column in the boolean or categorical DataFrame\n",
    "    for col in input.columns:\n",
    "        \n",
    "        # Create the contingency table\n",
    "        contingency_table = pd.crosstab(output, input[col])\n",
    "        \n",
    "        # Store the contingency table in the dictionary\n",
    "        contingency_tables[col] = contingency_table\n",
    "        \n",
    "    # Print the contingency tables\n",
    "    for col, contingency_table in contingency_tables.items():\n",
    "        print(f\"{col}:\")\n",
    "        print(contingency_table)\n",
    "\n",
    "    print(\"----------\")    \n",
    "        \n",
    "    # Create an empty dictionary to store the p-values\n",
    "    p_values_chi2 = {}\n",
    "    \n",
    "    # Loop over each contingency table\n",
    "    for col, contingency_table in contingency_tables.items():\n",
    "        \n",
    "        # Calculate the chi-squared test statistic and p-value\n",
    "        chi2, p, dof, expected = chi2_contingency(contingency_table)\n",
    "        \n",
    "        # Store the p-value in the dictionary\n",
    "        p_values_chi2[col] = p\n",
    "        \n",
    "    # Print the p-values\n",
    "    for col, p in p_values_chi2.items():\n",
    "        print(f\"{col}: {p:.7f}\")"
   ]
  },
  {
   "cell_type": "code",
   "execution_count": 97,
   "id": "dccd350f",
   "metadata": {},
   "outputs": [
    {
     "name": "stdout",
     "output_type": "stream",
     "text": [
      "DKI1 (Bunderan HI):\n",
      "DKI1 (Bunderan HI)    0    1\n",
      "categori                    \n",
      "0                   521  127\n",
      "1                    29   12\n",
      "DKI2 (Kelapa Gading):\n",
      "DKI2 (Kelapa Gading)    0    1\n",
      "categori                      \n",
      "0                     520  128\n",
      "1                      33    8\n",
      "DKI3 (Jagakarsa):\n",
      "DKI3 (Jagakarsa)    0    1\n",
      "categori                  \n",
      "0                 519  129\n",
      "1                  33    8\n",
      "DKI4 (Lubang Buaya):\n",
      "DKI4 (Lubang Buaya)    0    1\n",
      "categori                     \n",
      "0                    517  131\n",
      "1                     38    3\n",
      "DKI5 (Kebon Jeruk) Jakarta Barat:\n",
      "DKI5 (Kebon Jeruk) Jakarta Barat    0    1\n",
      "categori                                  \n",
      "0                                 515  133\n",
      "1                                  31   10\n",
      "----------\n",
      "DKI1 (Bunderan HI): 0.1951103\n",
      "DKI2 (Kelapa Gading): 1.0000000\n",
      "DKI3 (Jagakarsa): 1.0000000\n",
      "DKI4 (Lubang Buaya): 0.0687188\n",
      "DKI5 (Kebon Jeruk) Jakarta Barat: 0.6940681\n"
     ]
    }
   ],
   "source": [
    "# Show contingency table and p_value\n",
    "chi_square_test(input = X_train_cat, output = y_train_set)"
   ]
  },
  {
   "cell_type": "code",
   "execution_count": 98,
   "id": "859eb3ad",
   "metadata": {},
   "outputs": [
    {
     "name": "stdout",
     "output_type": "stream",
     "text": [
      "DKI1 (Bunderan HI) = 0.20174165457184326\n",
      "DKI2 (Kelapa Gading) = 0.19738751814223512\n",
      "DKI3 (Jagakarsa) = 0.1988388969521045\n",
      "DKI4 (Lubang Buaya) = 0.19448476052249636\n",
      "DKI5 (Kebon Jeruk) Jakarta Barat = 0.20754716981132076\n"
     ]
    }
   ],
   "source": [
    "# Probability of each station\n",
    "for col in params['range_stasiun']:\n",
    "    prob = X_train_set[col].sum() / len(X_train_set)\n",
    "    print(f\"{col} = {prob}\")"
   ]
  },
  {
   "cell_type": "markdown",
   "id": "734992d4",
   "metadata": {},
   "source": [
    "There is no correlation between station and categori (with evidence of probability and p-value). Therefore, this study will try to find correlation on the subset (per station)"
   ]
  },
  {
   "cell_type": "code",
   "execution_count": 99,
   "id": "a9f100ca",
   "metadata": {},
   "outputs": [],
   "source": [
    "# Split to subset\n",
    "train_set_1 = train_set[train_set[params['range_stasiun'][0]] != 0]\n",
    "train_set_2 = train_set[train_set[params['range_stasiun'][1]] != 0]\n",
    "train_set_3 = train_set[train_set[params['range_stasiun'][2]] != 0]\n",
    "train_set_4 = train_set[train_set[params['range_stasiun'][3]] != 0]\n",
    "train_set_5 = train_set[train_set[params['range_stasiun'][4]] != 0]"
   ]
  },
  {
   "cell_type": "code",
   "execution_count": 100,
   "id": "669fc47f",
   "metadata": {},
   "outputs": [
    {
     "name": "stdout",
     "output_type": "stream",
     "text": [
      "(139, 12) (136, 12) (137, 12) (134, 12) (143, 12)\n"
     ]
    }
   ],
   "source": [
    "# Sanity check\n",
    "print(train_set_1.shape, train_set_2.shape, train_set_3.shape, train_set_4.shape, train_set_5.shape)"
   ]
  },
  {
   "cell_type": "code",
   "execution_count": 101,
   "id": "f1d5e6e7",
   "metadata": {},
   "outputs": [],
   "source": [
    "# Input output split\n",
    "X_train_set_1, y_train_set_1 = input_output_split(df = train_set_1, column = params['label'])\n",
    "X_train_set_2, y_train_set_2 = input_output_split(df = train_set_2, column = params['label'])\n",
    "X_train_set_3, y_train_set_3 = input_output_split(df = train_set_3, column = params['label'])\n",
    "X_train_set_4, y_train_set_4 = input_output_split(df = train_set_4, column = params['label'])\n",
    "X_train_set_5, y_train_set_5 = input_output_split(df = train_set_5, column = params['label'])"
   ]
  },
  {
   "cell_type": "code",
   "execution_count": 102,
   "id": "a63c24e6",
   "metadata": {},
   "outputs": [],
   "source": [
    "# cat num split\n",
    "X_train_cat_1, X_train_num_1, X_train_OHE_1 = num_cat_split(X_train_set_1, params['range_stasiun'])\n",
    "X_train_cat_2, X_train_num_2, X_train_OHE_2 = num_cat_split(X_train_set_2, params['range_stasiun'])\n",
    "X_train_cat_3, X_train_num_3, X_train_OHE_3 = num_cat_split(X_train_set_3, params['range_stasiun'])\n",
    "X_train_cat_4, X_train_num_4, X_train_OHE_4 = num_cat_split(X_train_set_4, params['range_stasiun'])\n",
    "X_train_cat_5, X_train_num_5, X_train_OHE_5 = num_cat_split(X_train_set_5, params['range_stasiun'])"
   ]
  },
  {
   "cell_type": "code",
   "execution_count": 103,
   "id": "68de46d9",
   "metadata": {},
   "outputs": [
    {
     "data": {
      "text/plain": [
       "{'pm10': (-0.4025057527312432, 1.3002197561783117e-08),\n",
       " 'pm25': (-0.40083966897087514, 1.2129257028866782e-08),\n",
       " 'so2': (0.10469919307942581, 0.1453854447425431),\n",
       " 'co': (-0.3094470816151512, 1.755552011834772e-05),\n",
       " 'o3': (-0.265294519889513, 0.00019712116809485832),\n",
       " 'no2': (-0.37700746685530484, 9.508454637837417e-08)}"
      ]
     },
     "execution_count": 103,
     "metadata": {},
     "output_type": "execute_result"
    }
   ],
   "source": [
    "# Show Kendall's rank coefficient and p-value\n",
    "kendall_rank(input = X_train_num_1, output = y_train_set_1)"
   ]
  },
  {
   "cell_type": "code",
   "execution_count": 104,
   "id": "355aa015",
   "metadata": {},
   "outputs": [
    {
     "data": {
      "text/plain": [
       "{'pm10': (-0.3212402195099181, 6.458723143889684e-06),\n",
       " 'pm25': (-0.3364880934940289, 2.1729497610044198e-06),\n",
       " 'so2': (-0.30421495934829273, 2.496959623032551e-05),\n",
       " 'co': (-0.2727334252797733, 0.00022290435958134875),\n",
       " 'o3': (-0.1482900700849267, 0.03774318261969487),\n",
       " 'no2': (-0.20138117626901295, 0.005088077476989224)}"
      ]
     },
     "execution_count": 104,
     "metadata": {},
     "output_type": "execute_result"
    }
   ],
   "source": [
    "# Show Kendall's rank coefficient and p-value\n",
    "kendall_rank(input = X_train_num_2, output = y_train_set_2)"
   ]
  },
  {
   "cell_type": "code",
   "execution_count": 105,
   "id": "554bd1e3",
   "metadata": {},
   "outputs": [
    {
     "data": {
      "text/plain": [
       "{'pm10': (-0.2869428654296746, 5.416001047233396e-05),\n",
       " 'pm25': (-0.294452461171451, 3.1302725637842985e-05),\n",
       " 'so2': (-0.1749345475721581, 0.01616733988847593),\n",
       " 'co': (-0.1682166247309214, 0.02052117021748047),\n",
       " 'o3': (0.03299443917669568, 0.6456971746338108),\n",
       " 'no2': (-0.20054345380946098, 0.0058436639989615175)}"
      ]
     },
     "execution_count": 105,
     "metadata": {},
     "output_type": "execute_result"
    }
   ],
   "source": [
    "# Show Kendall's rank coefficient and p-value\n",
    "kendall_rank(input = X_train_num_3, output = y_train_set_3)"
   ]
  },
  {
   "cell_type": "code",
   "execution_count": 106,
   "id": "e1e8c5e6",
   "metadata": {},
   "outputs": [
    {
     "data": {
      "text/plain": [
       "{'pm10': (-0.2117975088285261, 0.0032546371436074795),\n",
       " 'pm25': (-0.21135099481614691, 0.0031175108672005193),\n",
       " 'so2': (-0.0626387336094909, 0.3972691706657486),\n",
       " 'co': (-0.16063619136436086, 0.0291070903749937),\n",
       " 'o3': (-0.06416305904564472, 0.3743941784244115),\n",
       " 'no2': (-0.17680943473850583, 0.015506375768125373)}"
      ]
     },
     "execution_count": 106,
     "metadata": {},
     "output_type": "execute_result"
    }
   ],
   "source": [
    "# Show Kendall's rank coefficient and p-value\n",
    "kendall_rank(input = X_train_num_4, output = y_train_set_4)"
   ]
  },
  {
   "cell_type": "code",
   "execution_count": 107,
   "id": "581e41a3",
   "metadata": {},
   "outputs": [
    {
     "data": {
      "text/plain": [
       "{'pm10': (-0.36436159911828625, 1.6757495203252932e-07),\n",
       " 'pm25': (-0.3644002468935802, 1.4009480808586985e-07),\n",
       " 'so2': (-0.19033272928838949, 0.00862065141007356),\n",
       " 'co': (-0.36432627389986605, 2.6197803145280886e-07),\n",
       " 'o3': (-0.2532133354513332, 0.0002975798018591553),\n",
       " 'no2': (-0.31175832058160613, 7.373415860365638e-06)}"
      ]
     },
     "execution_count": 107,
     "metadata": {},
     "output_type": "execute_result"
    }
   ],
   "source": [
    "# Show Kendall's rank coefficient and p-value\n",
    "kendall_rank(input = X_train_num_5, output = y_train_set_5)"
   ]
  },
  {
   "cell_type": "markdown",
   "id": "adbc6328",
   "metadata": {},
   "source": [
    "The predictor variable in each station mostly have significant correlation when being compared to categori column. Therefore, no feature will be removed."
   ]
  },
  {
   "cell_type": "code",
   "execution_count": 108,
   "id": "b63ea2b5",
   "metadata": {},
   "outputs": [
    {
     "data": {
      "text/plain": [
       "['processed/y_test_feng.pkl']"
      ]
     },
     "execution_count": 108,
     "metadata": {},
     "output_type": "execute_result"
    }
   ],
   "source": [
    "joblib.dump(X_train_set, \"processed/X_train_feng.pkl\")\n",
    "joblib.dump(y_train_set, \"processed/y_train_feng.pkl\")\n",
    "\n",
    "joblib.dump(X_rus, \"processed/X_rus.pkl\")\n",
    "joblib.dump(y_rus, \"processed/y_rus.pkl\")\n",
    "\n",
    "joblib.dump(X_ros, \"processed/X_ros.pkl\")\n",
    "joblib.dump(y_ros, \"processed/y_ros.pkl\")\n",
    "\n",
    "joblib.dump(X_sm, \"processed/X_sm.pkl\")\n",
    "joblib.dump(y_sm, \"processed/y_sm.pkl\")\n",
    "\n",
    "joblib.dump(validation_set.drop(columns = \"categori\"), \"processed/X_valid_feng.pkl\")\n",
    "joblib.dump(validation_set.categori, \"processed/y_valid_feng.pkl\")\n",
    "\n",
    "joblib.dump(testing_set.drop(columns = \"categori\"), \"processed/X_test_feng.pkl\")\n",
    "joblib.dump(testing_set.categori, \"processed/y_test_feng.pkl\")"
   ]
  }
 ],
 "metadata": {
  "kernelspec": {
   "display_name": "Python 3 (ipykernel)",
   "language": "python",
   "name": "python3"
  },
  "language_info": {
   "codemirror_mode": {
    "name": "ipython",
    "version": 3
   },
   "file_extension": ".py",
   "mimetype": "text/x-python",
   "name": "python",
   "nbconvert_exporter": "python",
   "pygments_lexer": "ipython3",
   "version": "3.9.13"
  }
 },
 "nbformat": 4,
 "nbformat_minor": 5
}

{
 "cells": [
  {
   "cell_type": "code",
   "execution_count": 1,
   "id": "4f4dd42e",
   "metadata": {},
   "outputs": [],
   "source": [
    "# Import necessary library\n",
    "from sklearn.linear_model import LogisticRegression\n",
    "from sklearn.tree import DecisionTreeClassifier\n",
    "from sklearn.ensemble import RandomForestClassifier\n",
    "from sklearn.neighbors import KNeighborsClassifier\n",
    "from xgboost import XGBClassifier\n",
    "\n",
    "from sklearn.metrics import classification_report, ConfusionMatrixDisplay, roc_curve, roc_auc_score\n",
    "from sklearn.model_selection import RandomizedSearchCV, GridSearchCV\n",
    "\n",
    "from datetime import datetime\n",
    "from tqdm import tqdm\n",
    "import yaml\n",
    "import joblib\n",
    "import json\n",
    "import pandas as pd\n",
    "import matplotlib.pyplot as plt\n",
    "import seaborn as sns\n",
    "import copy\n",
    "import hashlib"
   ]
  },
  {
   "cell_type": "code",
   "execution_count": 2,
   "id": "7eece3bc",
   "metadata": {},
   "outputs": [],
   "source": [
    "def load_parameter(parameter_direction):\n",
    "    with open(parameter_direction,'r') as file:\n",
    "        params = yaml.safe_load(file)\n",
    "    \n",
    "    return params"
   ]
  },
  {
   "cell_type": "code",
   "execution_count": 3,
   "id": "54831dbe",
   "metadata": {},
   "outputs": [],
   "source": [
    "params = load_parameter(\"config/configuration_file_1.yaml\")"
   ]
  },
  {
   "cell_type": "code",
   "execution_count": 4,
   "id": "097697a0",
   "metadata": {},
   "outputs": [
    {
     "data": {
      "text/plain": [
       "{'data_direction': 'data/indeks-standar-pencemar-udara-di-spku-bulan-juni-sampai-desember-tahun-2021_1.xlsx',\n",
       " 'datetime_columns': ['tanggal'],\n",
       " 'int32_columns': ['pm10', 'pm25', 'so2', 'co', 'o3', 'no2', 'max'],\n",
       " 'label': 'categori',\n",
       " 'label_categories': ['BAIK', 'TIDAK SEHAT'],\n",
       " 'object_columns': ['stasiun', 'critical', 'categori'],\n",
       " 'predictors': ['stasiun', 'pm10', 'pm25', 'so2', 'co', 'o3', 'no2'],\n",
       " 'range_co': [-1, 100],\n",
       " 'range_no2': [-1, 100],\n",
       " 'range_o3': [-1, 160],\n",
       " 'range_pm10': [-1, 800],\n",
       " 'range_pm25': [-1, 400],\n",
       " 'range_so2': [-1, 500],\n",
       " 'range_stasiun': ['DKI1 (Bunderan HI)',\n",
       "  'DKI2 (Kelapa Gading)',\n",
       "  'DKI3 (Jagakarsa)',\n",
       "  'DKI4 (Lubang Buaya)',\n",
       "  'DKI5 (Kebon Jeruk) Jakarta Barat']}"
      ]
     },
     "execution_count": 4,
     "metadata": {},
     "output_type": "execute_result"
    }
   ],
   "source": [
    "params"
   ]
  },
  {
   "cell_type": "markdown",
   "id": "d68a7fcd",
   "metadata": {},
   "source": [
    "# Modeling"
   ]
  },
  {
   "cell_type": "code",
   "execution_count": 5,
   "id": "c71c1f73",
   "metadata": {},
   "outputs": [],
   "source": [
    "X_rus = joblib.load(\"processed/X_rus.pkl\")\n",
    "y_rus = joblib.load(\"processed/y_rus.pkl\")\n",
    "\n",
    "X_ros = joblib.load(\"processed/X_ros.pkl\")\n",
    "y_ros = joblib.load(\"processed/y_ros.pkl\")\n",
    "\n",
    "X_sm = joblib.load(\"processed/X_sm.pkl\")\n",
    "y_sm = joblib.load(\"processed/y_sm.pkl\")\n",
    "\n",
    "X_train = joblib.load(\"processed/X_train_feng.pkl\")\n",
    "y_train = joblib.load(\"processed/y_train_feng.pkl\")\n",
    " \n",
    "X_valid = joblib.load(\"processed/X_valid_feng.pkl\")\n",
    "y_valid = joblib.load(\"processed/y_valid_feng.pkl\")\n",
    "\n",
    "X_test = joblib.load(\"processed/X_test_feng.pkl\")\n",
    "y_test = joblib.load(\"processed/y_test_feng.pkl\")"
   ]
  },
  {
   "cell_type": "markdown",
   "id": "51758993",
   "metadata": {},
   "source": [
    "Create a baseline performance"
   ]
  },
  {
   "cell_type": "code",
   "execution_count": 6,
   "id": "0998f26d",
   "metadata": {},
   "outputs": [
    {
     "data": {
      "text/plain": [
       "0    0.940493\n",
       "1    0.059507\n",
       "Name: categori, dtype: float64"
      ]
     },
     "execution_count": 6,
     "metadata": {},
     "output_type": "execute_result"
    }
   ],
   "source": [
    "# Create a baseline model\n",
    "y_train.value_counts(normalize = True)"
   ]
  },
  {
   "cell_type": "code",
   "execution_count": 7,
   "id": "e14803cc",
   "metadata": {},
   "outputs": [
    {
     "name": "stdout",
     "output_type": "stream",
     "text": [
      "(82, 11) (1296, 11) (1296, 11) (186, 11) (186, 11)\n"
     ]
    }
   ],
   "source": [
    "# Sanity check\n",
    "print(X_rus.shape, X_ros.shape, X_sm.shape, X_valid.shape, X_test.shape)"
   ]
  },
  {
   "cell_type": "markdown",
   "id": "80421841",
   "metadata": {},
   "source": [
    "Create log template"
   ]
  },
  {
   "cell_type": "code",
   "execution_count": 8,
   "id": "77fd5e05",
   "metadata": {},
   "outputs": [],
   "source": [
    "# Create time stamp for current date and time\n",
    "def time_stamp():\n",
    "    return datetime.now()"
   ]
  },
  {
   "cell_type": "code",
   "execution_count": 9,
   "id": "f8a500ba",
   "metadata": {},
   "outputs": [],
   "source": [
    "# Create log template\n",
    "def create_log_template():\n",
    "    \n",
    "    \"\"\"\n",
    "    This function is to create a log template to store the training log.\n",
    "    \n",
    "    :return logger: <dictionary> an empty log template\n",
    "    \"\"\"\n",
    "    \n",
    "    logger = {\n",
    "        \"model_name\" : [],\n",
    "        \"model_uid\" : [],\n",
    "        \"training_time\" : [],\n",
    "        \"training_date\" : [],\n",
    "        \"performance\" : [],\n",
    "        \"f1_score_avg\" : [],\n",
    "        \"data_configurations\" : [],\n",
    "    }\n",
    "\n",
    "    return logger"
   ]
  },
  {
   "cell_type": "code",
   "execution_count": 10,
   "id": "7593e180",
   "metadata": {},
   "outputs": [],
   "source": [
    "def training_log_updater(current_log, log_path):\n",
    "    current_log = current_log.copy()\n",
    "    \n",
    "    \"\"\"\n",
    "    This function updates the training log file with the current log data.\n",
    "\n",
    "    :param current_log: <dictionary> dictionary containing the current training log data\n",
    "    :param log_path: <str> path to the training log file\n",
    "    :return last_log: <list> updated training log\n",
    "    \"\"\"\n",
    "\n",
    "    try:\n",
    "        with open(log_path, \"r\") as file:\n",
    "            last_log = json.load(file)\n",
    "        file.close()\n",
    "    except FileNotFoundError as ffe:\n",
    "        with open(log_path, \"w\") as file:\n",
    "            file.write(\"[]\")\n",
    "        file.close()\n",
    "        with open(log_path, \"r\") as file:\n",
    "            last_log = json.load(file)\n",
    "        file.close()\n",
    "    \n",
    "    last_log.append(current_log)\n",
    "\n",
    "    with open(log_path, \"w\") as file:\n",
    "        json.dump(last_log, file)\n",
    "        file.close()\n",
    "\n",
    "    return last_log"
   ]
  },
  {
   "cell_type": "code",
   "execution_count": 11,
   "id": "5fec67ba",
   "metadata": {},
   "outputs": [],
   "source": [
    "# Create model object\n",
    "lgr_baseline = LogisticRegression()\n",
    "dct_baseline = DecisionTreeClassifier()\n",
    "rfc_baseline = RandomForestClassifier()\n",
    "knn_baseline = KNeighborsClassifier()\n",
    "xgb_baseline = XGBClassifier()"
   ]
  },
  {
   "cell_type": "code",
   "execution_count": 12,
   "id": "18ffcd3b",
   "metadata": {},
   "outputs": [],
   "source": [
    "# Create dictionary\n",
    "list_of_model = {\n",
    "    \"normal\" : [\n",
    "        { \"model_name\": lgr_baseline.__class__.__name__, \"model_object\": lgr_baseline, \"model_uid\": \"\"},\n",
    "        { \"model_name\": dct_baseline.__class__.__name__, \"model_object\": dct_baseline, \"model_uid\": \"\"},\n",
    "        { \"model_name\": rfc_baseline.__class__.__name__, \"model_object\": rfc_baseline, \"model_uid\": \"\"},\n",
    "        { \"model_name\": knn_baseline.__class__.__name__, \"model_object\": knn_baseline, \"model_uid\": \"\"},\n",
    "        { \"model_name\": xgb_baseline.__class__.__name__, \"model_object\": xgb_baseline, \"model_uid\": \"\"}\n",
    "        ],\n",
    "    \"undersampling\" : [\n",
    "        { \"model_name\": lgr_baseline.__class__.__name__, \"model_object\": lgr_baseline, \"model_uid\": \"\"},\n",
    "        { \"model_name\": dct_baseline.__class__.__name__, \"model_object\": dct_baseline, \"model_uid\": \"\"},\n",
    "        { \"model_name\": rfc_baseline.__class__.__name__, \"model_object\": rfc_baseline, \"model_uid\": \"\"},\n",
    "        { \"model_name\": knn_baseline.__class__.__name__, \"model_object\": knn_baseline, \"model_uid\": \"\"},\n",
    "        { \"model_name\": xgb_baseline.__class__.__name__, \"model_object\": xgb_baseline, \"model_uid\": \"\"}\n",
    "        ],\n",
    "    \"oversampling\" : [\n",
    "        { \"model_name\": lgr_baseline.__class__.__name__, \"model_object\": lgr_baseline, \"model_uid\": \"\"},\n",
    "        { \"model_name\": dct_baseline.__class__.__name__, \"model_object\": dct_baseline, \"model_uid\": \"\"},\n",
    "        { \"model_name\": rfc_baseline.__class__.__name__, \"model_object\": rfc_baseline, \"model_uid\": \"\"},\n",
    "        { \"model_name\": knn_baseline.__class__.__name__, \"model_object\": knn_baseline, \"model_uid\": \"\"},\n",
    "        { \"model_name\": xgb_baseline.__class__.__name__, \"model_object\": xgb_baseline, \"model_uid\": \"\"}\n",
    "        ],\n",
    "    \"smote\" : [\n",
    "        { \"model_name\": lgr_baseline.__class__.__name__, \"model_object\": lgr_baseline, \"model_uid\": \"\"},\n",
    "        { \"model_name\": dct_baseline.__class__.__name__, \"model_object\": dct_baseline, \"model_uid\": \"\"},\n",
    "        { \"model_name\": rfc_baseline.__class__.__name__, \"model_object\": rfc_baseline, \"model_uid\": \"\"},\n",
    "        { \"model_name\": knn_baseline.__class__.__name__, \"model_object\": knn_baseline, \"model_uid\": \"\"},\n",
    "        { \"model_name\": xgb_baseline.__class__.__name__, \"model_object\": xgb_baseline, \"model_uid\": \"\"}\n",
    "        ],\n",
    "    }"
   ]
  },
  {
   "cell_type": "code",
   "execution_count": 13,
   "id": "b4646024",
   "metadata": {},
   "outputs": [],
   "source": [
    "def train_eval_model(list_of_model, prefix_model_name, X_train, y_train, data_configuration_name, X_valid, y_valid, log_path):\n",
    "\n",
    "    \"\"\"\n",
    "    This function trains and evaluates a list of machine learning models, logs their performance, \n",
    "    and returns the updated training log and list of models.\n",
    "\n",
    "    :param list_of_model: <list> list of dictionaries containing model name, model object, and other information\n",
    "    :param prefix_model_name: <str> prefix to be added to the model name\n",
    "    :param X_train: <pandas DataFrame> training dataset features\n",
    "    :param y_train: <pandas DataFrame> training dataset labels\n",
    "    :param data_configuration_name: <str> name of the data configuration used for training\n",
    "    :param X_valid: <pandas DataFrame> validation dataset features\n",
    "    :param y_valid: <pandas DataFrame> validation dataset labels\n",
    "    :param log_path: <str> path to the training log file\n",
    "    :return training_log: <list> updated training log\n",
    "    :return list_of_model: <list> list of trained models\n",
    "    \"\"\"\n",
    "    \n",
    "    list_of_model = copy.deepcopy(list_of_model)\n",
    "    logger = create_log_template()\n",
    "\n",
    "    for model in tqdm(list_of_model):    \n",
    "        model_name = prefix_model_name + \"-\" + model[\"model_name\"]\n",
    "\n",
    "        start_time = time_stamp()\n",
    "        model[\"model_object\"].fit(X_train, y_train)\n",
    "        finished_time = time_stamp()\n",
    "\n",
    "        elapsed_time = finished_time - start_time\n",
    "        elapsed_time = elapsed_time.total_seconds()\n",
    "\n",
    "        y_pred = model[\"model_object\"].predict(X_valid)\n",
    "        performance = classification_report(y_valid, y_pred, output_dict = True)\n",
    "\n",
    "        plain_id = str(start_time) + str(finished_time)\n",
    "        chiper_id = hashlib.md5(plain_id.encode()).hexdigest()\n",
    "\n",
    "        model[\"model_uid\"] = chiper_id\n",
    "\n",
    "        logger[\"model_name\"].append(model_name)\n",
    "        logger[\"model_uid\"].append(chiper_id)\n",
    "        logger[\"training_time\"].append(elapsed_time)\n",
    "        logger[\"training_date\"].append(str(start_time))\n",
    "        logger[\"performance\"].append(performance)\n",
    "        logger[\"f1_score_avg\"].append(performance[\"macro avg\"][\"f1-score\"])\n",
    "        logger[\"data_configurations\"].append(data_configuration_name)\n",
    "\n",
    "    training_log = training_log_updater(logger, log_path)\n",
    "\n",
    "    return training_log, list_of_model"
   ]
  },
  {
   "cell_type": "markdown",
   "id": "5d57dcbc",
   "metadata": {},
   "source": [
    "1. Normal"
   ]
  },
  {
   "cell_type": "code",
   "execution_count": 14,
   "id": "2b9366c5",
   "metadata": {},
   "outputs": [
    {
     "name": "stderr",
     "output_type": "stream",
     "text": [
      "  0%|          | 0/5 [00:00<?, ?it/s]C:\\Users\\62821\\anaconda3\\lib\\site-packages\\sklearn\\linear_model\\_logistic.py:814: ConvergenceWarning: lbfgs failed to converge (status=1):\n",
      "STOP: TOTAL NO. of ITERATIONS REACHED LIMIT.\n",
      "\n",
      "Increase the number of iterations (max_iter) or scale the data as shown in:\n",
      "    https://scikit-learn.org/stable/modules/preprocessing.html\n",
      "Please also refer to the documentation for alternative solver options:\n",
      "    https://scikit-learn.org/stable/modules/linear_model.html#logistic-regression\n",
      "  n_iter_i = _check_optimize_result(\n",
      " 60%|██████    | 3/5 [00:00<00:00, 21.74it/s]C:\\Users\\62821\\anaconda3\\lib\\site-packages\\sklearn\\neighbors\\_classification.py:228: FutureWarning: Unlike other reduction functions (e.g. `skew`, `kurtosis`), the default behavior of `mode` typically preserves the axis it acts along. In SciPy 1.11.0, this behavior will change: the default value of `keepdims` will become False, the `axis` over which the statistic is taken will be eliminated, and the value None will no longer be accepted. Set `keepdims` to True or False to avoid this warning.\n",
      "  mode, _ = stats.mode(_y[neigh_ind, k], axis=1)\n",
      "100%|██████████| 5/5 [00:00<00:00, 23.53it/s]\n"
     ]
    }
   ],
   "source": [
    "# Checking performance using different model on a normal condition\n",
    "training_log, list_of_model_nor = train_eval_model(list_of_model[\"normal\"], \n",
    "                                                   \"baseline_model\",\n",
    "                                                   X_train,\n",
    "                                                   y_train,\n",
    "                                                   \"normal\",\n",
    "                                                   X_valid,\n",
    "                                                   y_valid,\n",
    "                                                   \"log/training_log.json\")"
   ]
  },
  {
   "cell_type": "code",
   "execution_count": 15,
   "id": "df70e438",
   "metadata": {},
   "outputs": [],
   "source": [
    "# Update list of model\n",
    "list_of_model[\"normal\"] = copy.deepcopy(list_of_model_nor)"
   ]
  },
  {
   "cell_type": "markdown",
   "id": "2e5bd207",
   "metadata": {},
   "source": [
    "2. Undersampling"
   ]
  },
  {
   "cell_type": "code",
   "execution_count": 16,
   "id": "d3481494",
   "metadata": {},
   "outputs": [
    {
     "name": "stderr",
     "output_type": "stream",
     "text": [
      "  0%|          | 0/5 [00:00<?, ?it/s]C:\\Users\\62821\\anaconda3\\lib\\site-packages\\sklearn\\linear_model\\_logistic.py:814: ConvergenceWarning: lbfgs failed to converge (status=1):\n",
      "STOP: TOTAL NO. of ITERATIONS REACHED LIMIT.\n",
      "\n",
      "Increase the number of iterations (max_iter) or scale the data as shown in:\n",
      "    https://scikit-learn.org/stable/modules/preprocessing.html\n",
      "Please also refer to the documentation for alternative solver options:\n",
      "    https://scikit-learn.org/stable/modules/linear_model.html#logistic-regression\n",
      "  n_iter_i = _check_optimize_result(\n",
      " 60%|██████    | 3/5 [00:00<00:00, 24.89it/s]C:\\Users\\62821\\anaconda3\\lib\\site-packages\\sklearn\\neighbors\\_classification.py:228: FutureWarning: Unlike other reduction functions (e.g. `skew`, `kurtosis`), the default behavior of `mode` typically preserves the axis it acts along. In SciPy 1.11.0, this behavior will change: the default value of `keepdims` will become False, the `axis` over which the statistic is taken will be eliminated, and the value None will no longer be accepted. Set `keepdims` to True or False to avoid this warning.\n",
      "  mode, _ = stats.mode(_y[neigh_ind, k], axis=1)\n",
      "100%|██████████| 5/5 [00:00<00:00, 32.57it/s]\n"
     ]
    }
   ],
   "source": [
    "# Checking performance using different model after undersampling\n",
    "training_log, list_of_model_rus = train_eval_model(list_of_model[\"undersampling\"], \n",
    "                                                   \"baseline_model\",\n",
    "                                                   X_rus,\n",
    "                                                   y_rus,\n",
    "                                                   \"undersampling\",\n",
    "                                                   X_valid,\n",
    "                                                   y_valid,\n",
    "                                                   \"log/training_log.json\")"
   ]
  },
  {
   "cell_type": "code",
   "execution_count": 17,
   "id": "90a94fdf",
   "metadata": {},
   "outputs": [],
   "source": [
    "# Update list of model\n",
    "list_of_model[\"undersampling\"] = copy.deepcopy(list_of_model_rus)"
   ]
  },
  {
   "cell_type": "markdown",
   "id": "740e8c50",
   "metadata": {},
   "source": [
    "3. Oversampling"
   ]
  },
  {
   "cell_type": "code",
   "execution_count": 18,
   "id": "7f846935",
   "metadata": {},
   "outputs": [
    {
     "name": "stderr",
     "output_type": "stream",
     "text": [
      "  0%|          | 0/5 [00:00<?, ?it/s]C:\\Users\\62821\\anaconda3\\lib\\site-packages\\sklearn\\linear_model\\_logistic.py:814: ConvergenceWarning: lbfgs failed to converge (status=1):\n",
      "STOP: TOTAL NO. of ITERATIONS REACHED LIMIT.\n",
      "\n",
      "Increase the number of iterations (max_iter) or scale the data as shown in:\n",
      "    https://scikit-learn.org/stable/modules/preprocessing.html\n",
      "Please also refer to the documentation for alternative solver options:\n",
      "    https://scikit-learn.org/stable/modules/linear_model.html#logistic-regression\n",
      "  n_iter_i = _check_optimize_result(\n",
      " 60%|██████    | 3/5 [00:00<00:00, 18.75it/s]C:\\Users\\62821\\anaconda3\\lib\\site-packages\\sklearn\\neighbors\\_classification.py:228: FutureWarning: Unlike other reduction functions (e.g. `skew`, `kurtosis`), the default behavior of `mode` typically preserves the axis it acts along. In SciPy 1.11.0, this behavior will change: the default value of `keepdims` will become False, the `axis` over which the statistic is taken will be eliminated, and the value None will no longer be accepted. Set `keepdims` to True or False to avoid this warning.\n",
      "  mode, _ = stats.mode(_y[neigh_ind, k], axis=1)\n",
      "100%|██████████| 5/5 [00:00<00:00, 23.81it/s]\n"
     ]
    }
   ],
   "source": [
    "# Checking performance using different model after oversampling\n",
    "training_log, list_of_model_ros = train_eval_model(list_of_model[\"oversampling\"], \n",
    "                                                   \"baseline_model\",\n",
    "                                                   X_ros,\n",
    "                                                   y_ros,\n",
    "                                                   \"oversampling\",\n",
    "                                                   X_valid,\n",
    "                                                   y_valid,\n",
    "                                                   \"log/training_log.json\")"
   ]
  },
  {
   "cell_type": "code",
   "execution_count": 19,
   "id": "27d8eabe",
   "metadata": {},
   "outputs": [],
   "source": [
    "# Update list of model\n",
    "list_of_model[\"oversampling\"] = copy.deepcopy(list_of_model_ros)"
   ]
  },
  {
   "cell_type": "markdown",
   "id": "37887688",
   "metadata": {},
   "source": [
    "4. SMOTE"
   ]
  },
  {
   "cell_type": "code",
   "execution_count": 20,
   "id": "814178d0",
   "metadata": {},
   "outputs": [
    {
     "name": "stderr",
     "output_type": "stream",
     "text": [
      "  0%|          | 0/5 [00:00<?, ?it/s]C:\\Users\\62821\\anaconda3\\lib\\site-packages\\sklearn\\linear_model\\_logistic.py:814: ConvergenceWarning: lbfgs failed to converge (status=1):\n",
      "STOP: TOTAL NO. of ITERATIONS REACHED LIMIT.\n",
      "\n",
      "Increase the number of iterations (max_iter) or scale the data as shown in:\n",
      "    https://scikit-learn.org/stable/modules/preprocessing.html\n",
      "Please also refer to the documentation for alternative solver options:\n",
      "    https://scikit-learn.org/stable/modules/linear_model.html#logistic-regression\n",
      "  n_iter_i = _check_optimize_result(\n",
      " 60%|██████    | 3/5 [00:00<00:00, 16.79it/s]C:\\Users\\62821\\anaconda3\\lib\\site-packages\\sklearn\\neighbors\\_classification.py:228: FutureWarning: Unlike other reduction functions (e.g. `skew`, `kurtosis`), the default behavior of `mode` typically preserves the axis it acts along. In SciPy 1.11.0, this behavior will change: the default value of `keepdims` will become False, the `axis` over which the statistic is taken will be eliminated, and the value None will no longer be accepted. Set `keepdims` to True or False to avoid this warning.\n",
      "  mode, _ = stats.mode(_y[neigh_ind, k], axis=1)\n",
      "100%|██████████| 5/5 [00:00<00:00, 21.68it/s]\n"
     ]
    }
   ],
   "source": [
    "# Checking performance using different model after SMOTE\n",
    "training_log, list_of_model_sm = train_eval_model(list_of_model[\"smote\"], \n",
    "                                                  \"baseline_model\",\n",
    "                                                  X_sm,\n",
    "                                                  y_sm,\n",
    "                                                  \"smote\",\n",
    "                                                  X_valid,\n",
    "                                                  y_valid,\n",
    "                                                  \"log/training_log.json\")"
   ]
  },
  {
   "cell_type": "code",
   "execution_count": 21,
   "id": "0fd7148a",
   "metadata": {},
   "outputs": [],
   "source": [
    "# Update list of model\n",
    "list_of_model[\"smote\"] = copy.deepcopy(list_of_model_sm)"
   ]
  },
  {
   "cell_type": "markdown",
   "id": "1504de46",
   "metadata": {},
   "source": [
    "5. Best performance"
   ]
  },
  {
   "cell_type": "code",
   "execution_count": 22,
   "id": "bf5409f4",
   "metadata": {},
   "outputs": [],
   "source": [
    "def training_log_to_df(training_log):\n",
    "    \n",
    "    \"\"\"\n",
    "    This function takes in the training log and returns a pandas dataframe containing\n",
    "    all training logs sorted based on f1-score and training time.\n",
    "\n",
    "    :param training_log: <list> list of training logs\n",
    "    :return training_res: <pandas dataframe> dataframe containing training logs\n",
    "    \"\"\"\n",
    "    \n",
    "    training_res = pd.DataFrame()\n",
    "\n",
    "    for log in tqdm(training_log):\n",
    "        training_res = pd.concat([training_res, pd.DataFrame(log)])\n",
    "    \n",
    "    training_res.sort_values([\"f1_score_avg\", \"training_time\"], ascending = [False, True], inplace = True)\n",
    "    training_res.reset_index(inplace = True, drop = True)\n",
    "    \n",
    "    return training_res"
   ]
  },
  {
   "cell_type": "code",
   "execution_count": 23,
   "id": "e648acf3",
   "metadata": {},
   "outputs": [
    {
     "name": "stderr",
     "output_type": "stream",
     "text": [
      "100%|██████████| 4/4 [00:00<00:00, 666.82it/s]\n"
     ]
    }
   ],
   "source": [
    "# Store training log to dataframe\n",
    "training_res = training_log_to_df(training_log)"
   ]
  },
  {
   "cell_type": "code",
   "execution_count": 24,
   "id": "9a322a6e",
   "metadata": {
    "scrolled": false
   },
   "outputs": [
    {
     "data": {
      "text/html": [
       "<div>\n",
       "<style scoped>\n",
       "    .dataframe tbody tr th:only-of-type {\n",
       "        vertical-align: middle;\n",
       "    }\n",
       "\n",
       "    .dataframe tbody tr th {\n",
       "        vertical-align: top;\n",
       "    }\n",
       "\n",
       "    .dataframe thead th {\n",
       "        text-align: right;\n",
       "    }\n",
       "</style>\n",
       "<table border=\"1\" class=\"dataframe\">\n",
       "  <thead>\n",
       "    <tr style=\"text-align: right;\">\n",
       "      <th></th>\n",
       "      <th>model_name</th>\n",
       "      <th>model_uid</th>\n",
       "      <th>training_time</th>\n",
       "      <th>training_date</th>\n",
       "      <th>performance</th>\n",
       "      <th>f1_score_avg</th>\n",
       "      <th>data_configurations</th>\n",
       "    </tr>\n",
       "  </thead>\n",
       "  <tbody>\n",
       "    <tr>\n",
       "      <th>0</th>\n",
       "      <td>baseline_model-DecisionTreeClassifier</td>\n",
       "      <td>5444d51566b59bac4af44f80c22c3bd1</td>\n",
       "      <td>0.000999</td>\n",
       "      <td>2023-04-20 13:39:25.666649</td>\n",
       "      <td>{'0': {'precision': 1.0, 'recall': 1.0, 'f1-sc...</td>\n",
       "      <td>1.000000</td>\n",
       "      <td>oversampling</td>\n",
       "    </tr>\n",
       "    <tr>\n",
       "      <th>1</th>\n",
       "      <td>baseline_model-DecisionTreeClassifier</td>\n",
       "      <td>089c87c7d95023fe42e26aeabbbcae14</td>\n",
       "      <td>0.002999</td>\n",
       "      <td>2023-04-20 13:39:25.936180</td>\n",
       "      <td>{'0': {'precision': 1.0, 'recall': 1.0, 'f1-sc...</td>\n",
       "      <td>1.000000</td>\n",
       "      <td>smote</td>\n",
       "    </tr>\n",
       "    <tr>\n",
       "      <th>2</th>\n",
       "      <td>baseline_model-XGBClassifier</td>\n",
       "      <td>726b6d4717917240af7533bccc117917</td>\n",
       "      <td>0.032996</td>\n",
       "      <td>2023-04-20 13:39:26.096862</td>\n",
       "      <td>{'0': {'precision': 1.0, 'recall': 1.0, 'f1-sc...</td>\n",
       "      <td>1.000000</td>\n",
       "      <td>smote</td>\n",
       "    </tr>\n",
       "    <tr>\n",
       "      <th>3</th>\n",
       "      <td>baseline_model-XGBClassifier</td>\n",
       "      <td>548ba57c8bb1ad6567aa83d5ff583978</td>\n",
       "      <td>0.032997</td>\n",
       "      <td>2023-04-20 13:39:25.806666</td>\n",
       "      <td>{'0': {'precision': 1.0, 'recall': 1.0, 'f1-sc...</td>\n",
       "      <td>1.000000</td>\n",
       "      <td>oversampling</td>\n",
       "    </tr>\n",
       "    <tr>\n",
       "      <th>4</th>\n",
       "      <td>baseline_model-XGBClassifier</td>\n",
       "      <td>c5a9eedbbe57e0bc0c86532a47df6b43</td>\n",
       "      <td>0.054958</td>\n",
       "      <td>2023-04-20 13:39:25.314639</td>\n",
       "      <td>{'0': {'precision': 1.0, 'recall': 1.0, 'f1-sc...</td>\n",
       "      <td>1.000000</td>\n",
       "      <td>normal</td>\n",
       "    </tr>\n",
       "    <tr>\n",
       "      <th>5</th>\n",
       "      <td>baseline_model-DecisionTreeClassifier</td>\n",
       "      <td>4f0d910d875c44ee32ea2be95407261c</td>\n",
       "      <td>0.001001</td>\n",
       "      <td>2023-04-20 13:39:25.194086</td>\n",
       "      <td>{'0': {'precision': 0.9943181818181818, 'recal...</td>\n",
       "      <td>0.974766</td>\n",
       "      <td>normal</td>\n",
       "    </tr>\n",
       "    <tr>\n",
       "      <th>6</th>\n",
       "      <td>baseline_model-LogisticRegression</td>\n",
       "      <td>4300e98f4a2babaf18bef78ee87703b0</td>\n",
       "      <td>0.028508</td>\n",
       "      <td>2023-04-20 13:39:25.162576</td>\n",
       "      <td>{'0': {'precision': 0.9943181818181818, 'recal...</td>\n",
       "      <td>0.974766</td>\n",
       "      <td>normal</td>\n",
       "    </tr>\n",
       "    <tr>\n",
       "      <th>7</th>\n",
       "      <td>baseline_model-RandomForestClassifier</td>\n",
       "      <td>7bc12571e820dd76c0d67e79ae0c0aee</td>\n",
       "      <td>0.093504</td>\n",
       "      <td>2023-04-20 13:39:25.198086</td>\n",
       "      <td>{'0': {'precision': 0.9943181818181818, 'recal...</td>\n",
       "      <td>0.974766</td>\n",
       "      <td>normal</td>\n",
       "    </tr>\n",
       "    <tr>\n",
       "      <th>8</th>\n",
       "      <td>baseline_model-RandomForestClassifier</td>\n",
       "      <td>d262665d128c2633680e6b24f9bb7fef</td>\n",
       "      <td>0.112015</td>\n",
       "      <td>2023-04-20 13:39:25.671649</td>\n",
       "      <td>{'0': {'precision': 0.9943181818181818, 'recal...</td>\n",
       "      <td>0.974766</td>\n",
       "      <td>oversampling</td>\n",
       "    </tr>\n",
       "    <tr>\n",
       "      <th>9</th>\n",
       "      <td>baseline_model-RandomForestClassifier</td>\n",
       "      <td>1803334ee65c80cecf87ba6b3a04a46b</td>\n",
       "      <td>0.128532</td>\n",
       "      <td>2023-04-20 13:39:25.942178</td>\n",
       "      <td>{'0': {'precision': 0.9943181818181818, 'recal...</td>\n",
       "      <td>0.974766</td>\n",
       "      <td>smote</td>\n",
       "    </tr>\n",
       "    <tr>\n",
       "      <th>10</th>\n",
       "      <td>baseline_model-KNeighborsClassifier</td>\n",
       "      <td>9a1734645e6de82ce22b0f0136c74547</td>\n",
       "      <td>0.002000</td>\n",
       "      <td>2023-04-20 13:39:25.301592</td>\n",
       "      <td>{'0': {'precision': 0.9942857142857143, 'recal...</td>\n",
       "      <td>0.951688</td>\n",
       "      <td>normal</td>\n",
       "    </tr>\n",
       "    <tr>\n",
       "      <th>11</th>\n",
       "      <td>baseline_model-LogisticRegression</td>\n",
       "      <td>9e56bbb58b070724a2a270d86e371a6f</td>\n",
       "      <td>0.029000</td>\n",
       "      <td>2023-04-20 13:39:25.903180</td>\n",
       "      <td>{'0': {'precision': 0.9942528735632183, 'recal...</td>\n",
       "      <td>0.930485</td>\n",
       "      <td>smote</td>\n",
       "    </tr>\n",
       "    <tr>\n",
       "      <th>12</th>\n",
       "      <td>baseline_model-XGBClassifier</td>\n",
       "      <td>fb337ec8be197a3215526f52fd58e9a2</td>\n",
       "      <td>0.020001</td>\n",
       "      <td>2023-04-20 13:39:25.554619</td>\n",
       "      <td>{'0': {'precision': 1.0, 'recall': 0.977142857...</td>\n",
       "      <td>0.917297</td>\n",
       "      <td>undersampling</td>\n",
       "    </tr>\n",
       "    <tr>\n",
       "      <th>13</th>\n",
       "      <td>baseline_model-KNeighborsClassifier</td>\n",
       "      <td>4a2a0c0b3fed11ec13a080052a5f06d7</td>\n",
       "      <td>0.002996</td>\n",
       "      <td>2023-04-20 13:39:25.794667</td>\n",
       "      <td>{'0': {'precision': 0.9942196531791907, 'recal...</td>\n",
       "      <td>0.910920</td>\n",
       "      <td>oversampling</td>\n",
       "    </tr>\n",
       "    <tr>\n",
       "      <th>14</th>\n",
       "      <td>baseline_model-KNeighborsClassifier</td>\n",
       "      <td>f8b8a7597dd41c818d18e32c3ea17567</td>\n",
       "      <td>0.002999</td>\n",
       "      <td>2023-04-20 13:39:26.081859</td>\n",
       "      <td>{'0': {'precision': 0.9942196531791907, 'recal...</td>\n",
       "      <td>0.910920</td>\n",
       "      <td>smote</td>\n",
       "    </tr>\n",
       "    <tr>\n",
       "      <th>15</th>\n",
       "      <td>baseline_model-RandomForestClassifier</td>\n",
       "      <td>a1aaac596558e9ffdb4a00894266ceac</td>\n",
       "      <td>0.085519</td>\n",
       "      <td>2023-04-20 13:39:25.452107</td>\n",
       "      <td>{'0': {'precision': 1.0, 'recall': 0.971428571...</td>\n",
       "      <td>0.900161</td>\n",
       "      <td>undersampling</td>\n",
       "    </tr>\n",
       "    <tr>\n",
       "      <th>16</th>\n",
       "      <td>baseline_model-LogisticRegression</td>\n",
       "      <td>46412681d47e39efc28445fd69720914</td>\n",
       "      <td>0.029003</td>\n",
       "      <td>2023-04-20 13:39:25.633646</td>\n",
       "      <td>{'0': {'precision': 0.9941860465116279, 'recal...</td>\n",
       "      <td>0.892795</td>\n",
       "      <td>oversampling</td>\n",
       "    </tr>\n",
       "    <tr>\n",
       "      <th>17</th>\n",
       "      <td>baseline_model-LogisticRegression</td>\n",
       "      <td>625f52919b2d1cd8c2e6f874a6353d39</td>\n",
       "      <td>0.017001</td>\n",
       "      <td>2023-04-20 13:39:25.426108</td>\n",
       "      <td>{'0': {'precision': 0.9941176470588236, 'recal...</td>\n",
       "      <td>0.860225</td>\n",
       "      <td>undersampling</td>\n",
       "    </tr>\n",
       "    <tr>\n",
       "      <th>18</th>\n",
       "      <td>baseline_model-KNeighborsClassifier</td>\n",
       "      <td>b3251507f900fc876d8890f7b12aa55c</td>\n",
       "      <td>0.000995</td>\n",
       "      <td>2023-04-20 13:39:25.547629</td>\n",
       "      <td>{'0': {'precision': 1.0, 'recall': 0.948571428...</td>\n",
       "      <td>0.841642</td>\n",
       "      <td>undersampling</td>\n",
       "    </tr>\n",
       "    <tr>\n",
       "      <th>19</th>\n",
       "      <td>baseline_model-DecisionTreeClassifier</td>\n",
       "      <td>f5f85a010c7ae7604091a72fcdbe2eae</td>\n",
       "      <td>0.001999</td>\n",
       "      <td>2023-04-20 13:39:25.447108</td>\n",
       "      <td>{'0': {'precision': 0.9826589595375722, 'recal...</td>\n",
       "      <td>0.821839</td>\n",
       "      <td>undersampling</td>\n",
       "    </tr>\n",
       "  </tbody>\n",
       "</table>\n",
       "</div>"
      ],
      "text/plain": [
       "                               model_name                         model_uid  \\\n",
       "0   baseline_model-DecisionTreeClassifier  5444d51566b59bac4af44f80c22c3bd1   \n",
       "1   baseline_model-DecisionTreeClassifier  089c87c7d95023fe42e26aeabbbcae14   \n",
       "2            baseline_model-XGBClassifier  726b6d4717917240af7533bccc117917   \n",
       "3            baseline_model-XGBClassifier  548ba57c8bb1ad6567aa83d5ff583978   \n",
       "4            baseline_model-XGBClassifier  c5a9eedbbe57e0bc0c86532a47df6b43   \n",
       "5   baseline_model-DecisionTreeClassifier  4f0d910d875c44ee32ea2be95407261c   \n",
       "6       baseline_model-LogisticRegression  4300e98f4a2babaf18bef78ee87703b0   \n",
       "7   baseline_model-RandomForestClassifier  7bc12571e820dd76c0d67e79ae0c0aee   \n",
       "8   baseline_model-RandomForestClassifier  d262665d128c2633680e6b24f9bb7fef   \n",
       "9   baseline_model-RandomForestClassifier  1803334ee65c80cecf87ba6b3a04a46b   \n",
       "10    baseline_model-KNeighborsClassifier  9a1734645e6de82ce22b0f0136c74547   \n",
       "11      baseline_model-LogisticRegression  9e56bbb58b070724a2a270d86e371a6f   \n",
       "12           baseline_model-XGBClassifier  fb337ec8be197a3215526f52fd58e9a2   \n",
       "13    baseline_model-KNeighborsClassifier  4a2a0c0b3fed11ec13a080052a5f06d7   \n",
       "14    baseline_model-KNeighborsClassifier  f8b8a7597dd41c818d18e32c3ea17567   \n",
       "15  baseline_model-RandomForestClassifier  a1aaac596558e9ffdb4a00894266ceac   \n",
       "16      baseline_model-LogisticRegression  46412681d47e39efc28445fd69720914   \n",
       "17      baseline_model-LogisticRegression  625f52919b2d1cd8c2e6f874a6353d39   \n",
       "18    baseline_model-KNeighborsClassifier  b3251507f900fc876d8890f7b12aa55c   \n",
       "19  baseline_model-DecisionTreeClassifier  f5f85a010c7ae7604091a72fcdbe2eae   \n",
       "\n",
       "    training_time               training_date  \\\n",
       "0        0.000999  2023-04-20 13:39:25.666649   \n",
       "1        0.002999  2023-04-20 13:39:25.936180   \n",
       "2        0.032996  2023-04-20 13:39:26.096862   \n",
       "3        0.032997  2023-04-20 13:39:25.806666   \n",
       "4        0.054958  2023-04-20 13:39:25.314639   \n",
       "5        0.001001  2023-04-20 13:39:25.194086   \n",
       "6        0.028508  2023-04-20 13:39:25.162576   \n",
       "7        0.093504  2023-04-20 13:39:25.198086   \n",
       "8        0.112015  2023-04-20 13:39:25.671649   \n",
       "9        0.128532  2023-04-20 13:39:25.942178   \n",
       "10       0.002000  2023-04-20 13:39:25.301592   \n",
       "11       0.029000  2023-04-20 13:39:25.903180   \n",
       "12       0.020001  2023-04-20 13:39:25.554619   \n",
       "13       0.002996  2023-04-20 13:39:25.794667   \n",
       "14       0.002999  2023-04-20 13:39:26.081859   \n",
       "15       0.085519  2023-04-20 13:39:25.452107   \n",
       "16       0.029003  2023-04-20 13:39:25.633646   \n",
       "17       0.017001  2023-04-20 13:39:25.426108   \n",
       "18       0.000995  2023-04-20 13:39:25.547629   \n",
       "19       0.001999  2023-04-20 13:39:25.447108   \n",
       "\n",
       "                                          performance  f1_score_avg  \\\n",
       "0   {'0': {'precision': 1.0, 'recall': 1.0, 'f1-sc...      1.000000   \n",
       "1   {'0': {'precision': 1.0, 'recall': 1.0, 'f1-sc...      1.000000   \n",
       "2   {'0': {'precision': 1.0, 'recall': 1.0, 'f1-sc...      1.000000   \n",
       "3   {'0': {'precision': 1.0, 'recall': 1.0, 'f1-sc...      1.000000   \n",
       "4   {'0': {'precision': 1.0, 'recall': 1.0, 'f1-sc...      1.000000   \n",
       "5   {'0': {'precision': 0.9943181818181818, 'recal...      0.974766   \n",
       "6   {'0': {'precision': 0.9943181818181818, 'recal...      0.974766   \n",
       "7   {'0': {'precision': 0.9943181818181818, 'recal...      0.974766   \n",
       "8   {'0': {'precision': 0.9943181818181818, 'recal...      0.974766   \n",
       "9   {'0': {'precision': 0.9943181818181818, 'recal...      0.974766   \n",
       "10  {'0': {'precision': 0.9942857142857143, 'recal...      0.951688   \n",
       "11  {'0': {'precision': 0.9942528735632183, 'recal...      0.930485   \n",
       "12  {'0': {'precision': 1.0, 'recall': 0.977142857...      0.917297   \n",
       "13  {'0': {'precision': 0.9942196531791907, 'recal...      0.910920   \n",
       "14  {'0': {'precision': 0.9942196531791907, 'recal...      0.910920   \n",
       "15  {'0': {'precision': 1.0, 'recall': 0.971428571...      0.900161   \n",
       "16  {'0': {'precision': 0.9941860465116279, 'recal...      0.892795   \n",
       "17  {'0': {'precision': 0.9941176470588236, 'recal...      0.860225   \n",
       "18  {'0': {'precision': 1.0, 'recall': 0.948571428...      0.841642   \n",
       "19  {'0': {'precision': 0.9826589595375722, 'recal...      0.821839   \n",
       "\n",
       "   data_configurations  \n",
       "0         oversampling  \n",
       "1                smote  \n",
       "2                smote  \n",
       "3         oversampling  \n",
       "4               normal  \n",
       "5               normal  \n",
       "6               normal  \n",
       "7               normal  \n",
       "8         oversampling  \n",
       "9                smote  \n",
       "10              normal  \n",
       "11               smote  \n",
       "12       undersampling  \n",
       "13        oversampling  \n",
       "14               smote  \n",
       "15       undersampling  \n",
       "16        oversampling  \n",
       "17       undersampling  \n",
       "18       undersampling  \n",
       "19       undersampling  "
      ]
     },
     "execution_count": 24,
     "metadata": {},
     "output_type": "execute_result"
    }
   ],
   "source": [
    "# Show dataframe\n",
    "training_res"
   ]
  },
  {
   "cell_type": "code",
   "execution_count": 25,
   "id": "496e13aa",
   "metadata": {},
   "outputs": [],
   "source": [
    "def get_best_model(training_log_df, list_of_model):\n",
    "\n",
    "    \"\"\"\n",
    "    This function takes in the training log dataframe and list of model objects and\n",
    "    returns the best model object based on f1-score and training time.\n",
    "    \n",
    "    :param training_log_df: <pandas dataframe> dataframe containing training logs\n",
    "    :param list_of_model: <dict> dictionary containing list of model objects for each data configuration\n",
    "    :return model_object: <object> the best performing model object\n",
    "    :raise RuntimeError: If the best model is not found in the list of model objects\n",
    "    \"\"\"\n",
    "    \n",
    "    model_object = None\n",
    "\n",
    "    best_model_info = training_log_df.sort_values([\"f1_score_avg\", \"training_time\"], ascending = [False, True]).iloc[0]\n",
    "    \n",
    "    for configuration_data in list_of_model:\n",
    "        for model_data in list_of_model[configuration_data]:\n",
    "            if model_data[\"model_uid\"] == best_model_info[\"model_uid\"]:\n",
    "                model_object = model_data[\"model_object\"]\n",
    "                break\n",
    "    \n",
    "    if model_object == None:\n",
    "        raise RuntimeError(\"The best model not found in your list of model.\")\n",
    "    \n",
    "    return model_object"
   ]
  },
  {
   "cell_type": "code",
   "execution_count": 26,
   "id": "22e81845",
   "metadata": {},
   "outputs": [],
   "source": [
    "# Get the best model object\n",
    "model = get_best_model(training_res, list_of_model)"
   ]
  },
  {
   "cell_type": "code",
   "execution_count": 27,
   "id": "7ab6e1c0",
   "metadata": {},
   "outputs": [
    {
     "data": {
      "text/plain": [
       "DecisionTreeClassifier()"
      ]
     },
     "execution_count": 27,
     "metadata": {},
     "output_type": "execute_result"
    }
   ],
   "source": [
    "# Show best model\n",
    "model"
   ]
  },
  {
   "cell_type": "markdown",
   "id": "53ad97f9",
   "metadata": {},
   "source": [
    "Based on the above, the training finds that K-Nearest Neighbour's performance did not contain within the top 10 of training, therefore hyperparameter tuning may need to be performed."
   ]
  },
  {
   "cell_type": "code",
   "execution_count": 28,
   "id": "192c1ddd",
   "metadata": {},
   "outputs": [],
   "source": [
    "dist_params_knn = {\n",
    "    \"algorithm\" : [\"ball_tree\", \"kd_tree\", \"brute\"],\n",
    "    \"n_neighbors\" : [2, 3, 4, 5, 6, 10, 15, 20, 25],\n",
    "    \"leaf_size\" : [2, 3, 4, 5, 6, 10, 15, 20, 25],\n",
    "}"
   ]
  },
  {
   "cell_type": "code",
   "execution_count": 29,
   "id": "a0c75240",
   "metadata": {},
   "outputs": [],
   "source": [
    "knn_enhance = GridSearchCV(KNeighborsClassifier(), dist_params_knn, n_jobs = -1, verbose = 420, cv = 5)"
   ]
  },
  {
   "cell_type": "code",
   "execution_count": 30,
   "id": "6d9f9964",
   "metadata": {},
   "outputs": [],
   "source": [
    "list_of_model[\"normal\"].append({\"model_name\": knn_enhance.__class__.__name__ + \"-\" + knn_enhance.estimator.__class__.__name__, \"model_object\": copy.deepcopy(knn_enhance), \"model_uid\": \"\"})\n",
    "list_of_model[\"undersampling\"].append({\"model_name\": knn_enhance.__class__.__name__ + \"-\" + knn_enhance.estimator.__class__.__name__, \"model_object\": copy.deepcopy(knn_enhance), \"model_uid\": \"\"})\n",
    "list_of_model[\"oversampling\"].append({\"model_name\": knn_enhance.__class__.__name__ + \"-\" + knn_enhance.estimator.__class__.__name__, \"model_object\": copy.deepcopy(knn_enhance), \"model_uid\": \"\"})\n",
    "list_of_model[\"smote\"].append({\"model_name\": knn_enhance.__class__.__name__ + \"-\" + knn_enhance.estimator.__class__.__name__, \"model_object\": copy.deepcopy(knn_enhance), \"model_uid\": \"\"})"
   ]
  },
  {
   "cell_type": "markdown",
   "id": "702c8b00",
   "metadata": {},
   "source": [
    "1. Normal"
   ]
  },
  {
   "cell_type": "code",
   "execution_count": 31,
   "id": "01f99a87",
   "metadata": {},
   "outputs": [
    {
     "name": "stderr",
     "output_type": "stream",
     "text": [
      "\r",
      "  0%|          | 0/1 [00:00<?, ?it/s]"
     ]
    },
    {
     "name": "stdout",
     "output_type": "stream",
     "text": [
      "Fitting 5 folds for each of 243 candidates, totalling 1215 fits\n"
     ]
    },
    {
     "name": "stderr",
     "output_type": "stream",
     "text": [
      "C:\\Users\\62821\\anaconda3\\lib\\site-packages\\sklearn\\neighbors\\_classification.py:228: FutureWarning: Unlike other reduction functions (e.g. `skew`, `kurtosis`), the default behavior of `mode` typically preserves the axis it acts along. In SciPy 1.11.0, this behavior will change: the default value of `keepdims` will become False, the `axis` over which the statistic is taken will be eliminated, and the value None will no longer be accepted. Set `keepdims` to True or False to avoid this warning.\n",
      "  mode, _ = stats.mode(_y[neigh_ind, k], axis=1)\n",
      "100%|██████████| 1/1 [00:04<00:00,  4.74s/it]\n"
     ]
    }
   ],
   "source": [
    "training_log, list_of_model_nor_enhanced = train_eval_model([list_of_model[\"normal\"][-1]],\n",
    "                                                            \"hyperparams\",\n",
    "                                                            X_train,\n",
    "                                                            y_train,\n",
    "                                                            \"normal\",\n",
    "                                                            X_valid,\n",
    "                                                            y_valid,\n",
    "                                                            \"log/training_log.json\")"
   ]
  },
  {
   "cell_type": "code",
   "execution_count": 32,
   "id": "b9726806",
   "metadata": {},
   "outputs": [],
   "source": [
    "list_of_model[\"normal\"][-1] = copy.deepcopy(list_of_model_nor_enhanced[0])"
   ]
  },
  {
   "cell_type": "markdown",
   "id": "7ca07e66",
   "metadata": {},
   "source": [
    "2. Undersampling"
   ]
  },
  {
   "cell_type": "code",
   "execution_count": 33,
   "id": "88e09c92",
   "metadata": {},
   "outputs": [
    {
     "name": "stderr",
     "output_type": "stream",
     "text": [
      "\r",
      "  0%|          | 0/1 [00:00<?, ?it/s]"
     ]
    },
    {
     "name": "stdout",
     "output_type": "stream",
     "text": [
      "Fitting 5 folds for each of 243 candidates, totalling 1215 fits\n"
     ]
    },
    {
     "name": "stderr",
     "output_type": "stream",
     "text": [
      "C:\\Users\\62821\\anaconda3\\lib\\site-packages\\sklearn\\neighbors\\_classification.py:228: FutureWarning: Unlike other reduction functions (e.g. `skew`, `kurtosis`), the default behavior of `mode` typically preserves the axis it acts along. In SciPy 1.11.0, this behavior will change: the default value of `keepdims` will become False, the `axis` over which the statistic is taken will be eliminated, and the value None will no longer be accepted. Set `keepdims` to True or False to avoid this warning.\n",
      "  mode, _ = stats.mode(_y[neigh_ind, k], axis=1)\n",
      "100%|██████████| 1/1 [00:00<00:00,  1.44it/s]\n"
     ]
    }
   ],
   "source": [
    "training_log, list_of_model_rus_enhanced = train_eval_model([list_of_model[\"undersampling\"][-1]],\n",
    "                                                            \"hyperparams\",\n",
    "                                                            X_rus,\n",
    "                                                            y_rus,\n",
    "                                                            \"undersampling\",\n",
    "                                                            X_valid,\n",
    "                                                            y_valid,\n",
    "                                                            \"log/training_log.json\")"
   ]
  },
  {
   "cell_type": "code",
   "execution_count": 34,
   "id": "4684ca74",
   "metadata": {},
   "outputs": [],
   "source": [
    "list_of_model[\"undersampling\"][-1] = copy.deepcopy(list_of_model_rus_enhanced[0])"
   ]
  },
  {
   "cell_type": "markdown",
   "id": "41f79471",
   "metadata": {},
   "source": [
    "3. Oversampling"
   ]
  },
  {
   "cell_type": "code",
   "execution_count": 35,
   "id": "a2287a32",
   "metadata": {},
   "outputs": [
    {
     "name": "stderr",
     "output_type": "stream",
     "text": [
      "\r",
      "  0%|          | 0/1 [00:00<?, ?it/s]"
     ]
    },
    {
     "name": "stdout",
     "output_type": "stream",
     "text": [
      "Fitting 5 folds for each of 243 candidates, totalling 1215 fits\n"
     ]
    },
    {
     "name": "stderr",
     "output_type": "stream",
     "text": [
      "C:\\Users\\62821\\anaconda3\\lib\\site-packages\\sklearn\\neighbors\\_classification.py:228: FutureWarning: Unlike other reduction functions (e.g. `skew`, `kurtosis`), the default behavior of `mode` typically preserves the axis it acts along. In SciPy 1.11.0, this behavior will change: the default value of `keepdims` will become False, the `axis` over which the statistic is taken will be eliminated, and the value None will no longer be accepted. Set `keepdims` to True or False to avoid this warning.\n",
      "  mode, _ = stats.mode(_y[neigh_ind, k], axis=1)\n",
      "100%|██████████| 1/1 [00:02<00:00,  2.30s/it]\n"
     ]
    }
   ],
   "source": [
    "training_log, list_of_model_ros_enhanced = train_eval_model([list_of_model[\"oversampling\"][-1]],\n",
    "                                                            \"hyperparams\",\n",
    "                                                            X_ros,\n",
    "                                                            y_ros,\n",
    "                                                            \"oversampling\",\n",
    "                                                            X_valid,\n",
    "                                                            y_valid,\n",
    "                                                            \"log/training_log.json\")"
   ]
  },
  {
   "cell_type": "code",
   "execution_count": 36,
   "id": "96c4b31a",
   "metadata": {},
   "outputs": [],
   "source": [
    "list_of_model[\"oversampling\"][-1] = copy.deepcopy(list_of_model_ros_enhanced[0])"
   ]
  },
  {
   "cell_type": "markdown",
   "id": "bd09e53c",
   "metadata": {},
   "source": [
    "4. SMOTE"
   ]
  },
  {
   "cell_type": "code",
   "execution_count": 37,
   "id": "8786408d",
   "metadata": {},
   "outputs": [
    {
     "name": "stderr",
     "output_type": "stream",
     "text": [
      "\r",
      "  0%|          | 0/1 [00:00<?, ?it/s]"
     ]
    },
    {
     "name": "stdout",
     "output_type": "stream",
     "text": [
      "Fitting 5 folds for each of 243 candidates, totalling 1215 fits\n"
     ]
    },
    {
     "name": "stderr",
     "output_type": "stream",
     "text": [
      "C:\\Users\\62821\\anaconda3\\lib\\site-packages\\sklearn\\neighbors\\_classification.py:228: FutureWarning: Unlike other reduction functions (e.g. `skew`, `kurtosis`), the default behavior of `mode` typically preserves the axis it acts along. In SciPy 1.11.0, this behavior will change: the default value of `keepdims` will become False, the `axis` over which the statistic is taken will be eliminated, and the value None will no longer be accepted. Set `keepdims` to True or False to avoid this warning.\n",
      "  mode, _ = stats.mode(_y[neigh_ind, k], axis=1)\n",
      "100%|██████████| 1/1 [00:02<00:00,  2.42s/it]\n"
     ]
    }
   ],
   "source": [
    "training_log, list_of_model_sm_enhanced = train_eval_model([list_of_model[\"smote\"][-1]],\n",
    "                                                           \"hyperparams\",\n",
    "                                                           X_sm,\n",
    "                                                           y_sm,\n",
    "                                                           \"smote\",\n",
    "                                                           X_valid,\n",
    "                                                           y_valid,\n",
    "                                                           \"log/training_log.json\")"
   ]
  },
  {
   "cell_type": "code",
   "execution_count": 38,
   "id": "7a595d91",
   "metadata": {},
   "outputs": [],
   "source": [
    "list_of_model[\"smote\"][-1] = copy.deepcopy(list_of_model_sm_enhanced[0])"
   ]
  },
  {
   "cell_type": "code",
   "execution_count": 39,
   "id": "bdc5e676",
   "metadata": {},
   "outputs": [
    {
     "name": "stderr",
     "output_type": "stream",
     "text": [
      "100%|██████████| 8/8 [00:00<00:00, 666.71it/s]\n"
     ]
    },
    {
     "data": {
      "text/html": [
       "<div>\n",
       "<style scoped>\n",
       "    .dataframe tbody tr th:only-of-type {\n",
       "        vertical-align: middle;\n",
       "    }\n",
       "\n",
       "    .dataframe tbody tr th {\n",
       "        vertical-align: top;\n",
       "    }\n",
       "\n",
       "    .dataframe thead th {\n",
       "        text-align: right;\n",
       "    }\n",
       "</style>\n",
       "<table border=\"1\" class=\"dataframe\">\n",
       "  <thead>\n",
       "    <tr style=\"text-align: right;\">\n",
       "      <th></th>\n",
       "      <th>model_name</th>\n",
       "      <th>model_uid</th>\n",
       "      <th>training_time</th>\n",
       "      <th>training_date</th>\n",
       "      <th>performance</th>\n",
       "      <th>f1_score_avg</th>\n",
       "      <th>data_configurations</th>\n",
       "    </tr>\n",
       "  </thead>\n",
       "  <tbody>\n",
       "    <tr>\n",
       "      <th>0</th>\n",
       "      <td>baseline_model-DecisionTreeClassifier</td>\n",
       "      <td>5444d51566b59bac4af44f80c22c3bd1</td>\n",
       "      <td>0.000999</td>\n",
       "      <td>2023-04-20 13:39:25.666649</td>\n",
       "      <td>{'0': {'precision': 1.0, 'recall': 1.0, 'f1-sc...</td>\n",
       "      <td>1.000000</td>\n",
       "      <td>oversampling</td>\n",
       "    </tr>\n",
       "    <tr>\n",
       "      <th>1</th>\n",
       "      <td>baseline_model-DecisionTreeClassifier</td>\n",
       "      <td>089c87c7d95023fe42e26aeabbbcae14</td>\n",
       "      <td>0.002999</td>\n",
       "      <td>2023-04-20 13:39:25.936180</td>\n",
       "      <td>{'0': {'precision': 1.0, 'recall': 1.0, 'f1-sc...</td>\n",
       "      <td>1.000000</td>\n",
       "      <td>smote</td>\n",
       "    </tr>\n",
       "    <tr>\n",
       "      <th>2</th>\n",
       "      <td>baseline_model-XGBClassifier</td>\n",
       "      <td>726b6d4717917240af7533bccc117917</td>\n",
       "      <td>0.032996</td>\n",
       "      <td>2023-04-20 13:39:26.096862</td>\n",
       "      <td>{'0': {'precision': 1.0, 'recall': 1.0, 'f1-sc...</td>\n",
       "      <td>1.000000</td>\n",
       "      <td>smote</td>\n",
       "    </tr>\n",
       "    <tr>\n",
       "      <th>3</th>\n",
       "      <td>baseline_model-XGBClassifier</td>\n",
       "      <td>548ba57c8bb1ad6567aa83d5ff583978</td>\n",
       "      <td>0.032997</td>\n",
       "      <td>2023-04-20 13:39:25.806666</td>\n",
       "      <td>{'0': {'precision': 1.0, 'recall': 1.0, 'f1-sc...</td>\n",
       "      <td>1.000000</td>\n",
       "      <td>oversampling</td>\n",
       "    </tr>\n",
       "    <tr>\n",
       "      <th>4</th>\n",
       "      <td>baseline_model-XGBClassifier</td>\n",
       "      <td>c5a9eedbbe57e0bc0c86532a47df6b43</td>\n",
       "      <td>0.054958</td>\n",
       "      <td>2023-04-20 13:39:25.314639</td>\n",
       "      <td>{'0': {'precision': 1.0, 'recall': 1.0, 'f1-sc...</td>\n",
       "      <td>1.000000</td>\n",
       "      <td>normal</td>\n",
       "    </tr>\n",
       "    <tr>\n",
       "      <th>5</th>\n",
       "      <td>baseline_model-DecisionTreeClassifier</td>\n",
       "      <td>4f0d910d875c44ee32ea2be95407261c</td>\n",
       "      <td>0.001001</td>\n",
       "      <td>2023-04-20 13:39:25.194086</td>\n",
       "      <td>{'0': {'precision': 0.9943181818181818, 'recal...</td>\n",
       "      <td>0.974766</td>\n",
       "      <td>normal</td>\n",
       "    </tr>\n",
       "    <tr>\n",
       "      <th>6</th>\n",
       "      <td>baseline_model-LogisticRegression</td>\n",
       "      <td>4300e98f4a2babaf18bef78ee87703b0</td>\n",
       "      <td>0.028508</td>\n",
       "      <td>2023-04-20 13:39:25.162576</td>\n",
       "      <td>{'0': {'precision': 0.9943181818181818, 'recal...</td>\n",
       "      <td>0.974766</td>\n",
       "      <td>normal</td>\n",
       "    </tr>\n",
       "    <tr>\n",
       "      <th>7</th>\n",
       "      <td>baseline_model-RandomForestClassifier</td>\n",
       "      <td>7bc12571e820dd76c0d67e79ae0c0aee</td>\n",
       "      <td>0.093504</td>\n",
       "      <td>2023-04-20 13:39:25.198086</td>\n",
       "      <td>{'0': {'precision': 0.9943181818181818, 'recal...</td>\n",
       "      <td>0.974766</td>\n",
       "      <td>normal</td>\n",
       "    </tr>\n",
       "    <tr>\n",
       "      <th>8</th>\n",
       "      <td>baseline_model-RandomForestClassifier</td>\n",
       "      <td>d262665d128c2633680e6b24f9bb7fef</td>\n",
       "      <td>0.112015</td>\n",
       "      <td>2023-04-20 13:39:25.671649</td>\n",
       "      <td>{'0': {'precision': 0.9943181818181818, 'recal...</td>\n",
       "      <td>0.974766</td>\n",
       "      <td>oversampling</td>\n",
       "    </tr>\n",
       "    <tr>\n",
       "      <th>9</th>\n",
       "      <td>baseline_model-RandomForestClassifier</td>\n",
       "      <td>1803334ee65c80cecf87ba6b3a04a46b</td>\n",
       "      <td>0.128532</td>\n",
       "      <td>2023-04-20 13:39:25.942178</td>\n",
       "      <td>{'0': {'precision': 0.9943181818181818, 'recal...</td>\n",
       "      <td>0.974766</td>\n",
       "      <td>smote</td>\n",
       "    </tr>\n",
       "    <tr>\n",
       "      <th>10</th>\n",
       "      <td>baseline_model-KNeighborsClassifier</td>\n",
       "      <td>9a1734645e6de82ce22b0f0136c74547</td>\n",
       "      <td>0.002000</td>\n",
       "      <td>2023-04-20 13:39:25.301592</td>\n",
       "      <td>{'0': {'precision': 0.9942857142857143, 'recal...</td>\n",
       "      <td>0.951688</td>\n",
       "      <td>normal</td>\n",
       "    </tr>\n",
       "    <tr>\n",
       "      <th>11</th>\n",
       "      <td>hyperparams-GridSearchCV-KNeighborsClassifier</td>\n",
       "      <td>0d424697e6393e05a0b99856feac1ed1</td>\n",
       "      <td>2.285012</td>\n",
       "      <td>2023-04-20 13:39:31.897176</td>\n",
       "      <td>{'0': {'precision': 0.9942857142857143, 'recal...</td>\n",
       "      <td>0.951688</td>\n",
       "      <td>oversampling</td>\n",
       "    </tr>\n",
       "    <tr>\n",
       "      <th>12</th>\n",
       "      <td>hyperparams-GridSearchCV-KNeighborsClassifier</td>\n",
       "      <td>5b363a1528a2f132c16e637e5fec8eb1</td>\n",
       "      <td>2.404612</td>\n",
       "      <td>2023-04-20 13:39:34.229186</td>\n",
       "      <td>{'0': {'precision': 0.9942857142857143, 'recal...</td>\n",
       "      <td>0.951688</td>\n",
       "      <td>smote</td>\n",
       "    </tr>\n",
       "    <tr>\n",
       "      <th>13</th>\n",
       "      <td>hyperparams-GridSearchCV-KNeighborsClassifier</td>\n",
       "      <td>a5adcd5f6734a8ffa3fff28ed4538440</td>\n",
       "      <td>4.729855</td>\n",
       "      <td>2023-04-20 13:39:26.376901</td>\n",
       "      <td>{'0': {'precision': 0.9942857142857143, 'recal...</td>\n",
       "      <td>0.951688</td>\n",
       "      <td>normal</td>\n",
       "    </tr>\n",
       "    <tr>\n",
       "      <th>14</th>\n",
       "      <td>baseline_model-LogisticRegression</td>\n",
       "      <td>9e56bbb58b070724a2a270d86e371a6f</td>\n",
       "      <td>0.029000</td>\n",
       "      <td>2023-04-20 13:39:25.903180</td>\n",
       "      <td>{'0': {'precision': 0.9942528735632183, 'recal...</td>\n",
       "      <td>0.930485</td>\n",
       "      <td>smote</td>\n",
       "    </tr>\n",
       "    <tr>\n",
       "      <th>15</th>\n",
       "      <td>baseline_model-XGBClassifier</td>\n",
       "      <td>fb337ec8be197a3215526f52fd58e9a2</td>\n",
       "      <td>0.020001</td>\n",
       "      <td>2023-04-20 13:39:25.554619</td>\n",
       "      <td>{'0': {'precision': 1.0, 'recall': 0.977142857...</td>\n",
       "      <td>0.917297</td>\n",
       "      <td>undersampling</td>\n",
       "    </tr>\n",
       "    <tr>\n",
       "      <th>16</th>\n",
       "      <td>baseline_model-KNeighborsClassifier</td>\n",
       "      <td>4a2a0c0b3fed11ec13a080052a5f06d7</td>\n",
       "      <td>0.002996</td>\n",
       "      <td>2023-04-20 13:39:25.794667</td>\n",
       "      <td>{'0': {'precision': 0.9942196531791907, 'recal...</td>\n",
       "      <td>0.910920</td>\n",
       "      <td>oversampling</td>\n",
       "    </tr>\n",
       "    <tr>\n",
       "      <th>17</th>\n",
       "      <td>baseline_model-KNeighborsClassifier</td>\n",
       "      <td>f8b8a7597dd41c818d18e32c3ea17567</td>\n",
       "      <td>0.002999</td>\n",
       "      <td>2023-04-20 13:39:26.081859</td>\n",
       "      <td>{'0': {'precision': 0.9942196531791907, 'recal...</td>\n",
       "      <td>0.910920</td>\n",
       "      <td>smote</td>\n",
       "    </tr>\n",
       "    <tr>\n",
       "      <th>18</th>\n",
       "      <td>baseline_model-RandomForestClassifier</td>\n",
       "      <td>a1aaac596558e9ffdb4a00894266ceac</td>\n",
       "      <td>0.085519</td>\n",
       "      <td>2023-04-20 13:39:25.452107</td>\n",
       "      <td>{'0': {'precision': 1.0, 'recall': 0.971428571...</td>\n",
       "      <td>0.900161</td>\n",
       "      <td>undersampling</td>\n",
       "    </tr>\n",
       "    <tr>\n",
       "      <th>19</th>\n",
       "      <td>baseline_model-LogisticRegression</td>\n",
       "      <td>46412681d47e39efc28445fd69720914</td>\n",
       "      <td>0.029003</td>\n",
       "      <td>2023-04-20 13:39:25.633646</td>\n",
       "      <td>{'0': {'precision': 0.9941860465116279, 'recal...</td>\n",
       "      <td>0.892795</td>\n",
       "      <td>oversampling</td>\n",
       "    </tr>\n",
       "    <tr>\n",
       "      <th>20</th>\n",
       "      <td>baseline_model-LogisticRegression</td>\n",
       "      <td>625f52919b2d1cd8c2e6f874a6353d39</td>\n",
       "      <td>0.017001</td>\n",
       "      <td>2023-04-20 13:39:25.426108</td>\n",
       "      <td>{'0': {'precision': 0.9941176470588236, 'recal...</td>\n",
       "      <td>0.860225</td>\n",
       "      <td>undersampling</td>\n",
       "    </tr>\n",
       "    <tr>\n",
       "      <th>21</th>\n",
       "      <td>hyperparams-GridSearchCV-KNeighborsClassifier</td>\n",
       "      <td>244148b320c12ffed7e23a7d932c1a7d</td>\n",
       "      <td>0.687716</td>\n",
       "      <td>2023-04-20 13:39:31.154747</td>\n",
       "      <td>{'0': {'precision': 1.0, 'recall': 0.954285714...</td>\n",
       "      <td>0.854971</td>\n",
       "      <td>undersampling</td>\n",
       "    </tr>\n",
       "    <tr>\n",
       "      <th>22</th>\n",
       "      <td>baseline_model-KNeighborsClassifier</td>\n",
       "      <td>b3251507f900fc876d8890f7b12aa55c</td>\n",
       "      <td>0.000995</td>\n",
       "      <td>2023-04-20 13:39:25.547629</td>\n",
       "      <td>{'0': {'precision': 1.0, 'recall': 0.948571428...</td>\n",
       "      <td>0.841642</td>\n",
       "      <td>undersampling</td>\n",
       "    </tr>\n",
       "    <tr>\n",
       "      <th>23</th>\n",
       "      <td>baseline_model-DecisionTreeClassifier</td>\n",
       "      <td>f5f85a010c7ae7604091a72fcdbe2eae</td>\n",
       "      <td>0.001999</td>\n",
       "      <td>2023-04-20 13:39:25.447108</td>\n",
       "      <td>{'0': {'precision': 0.9826589595375722, 'recal...</td>\n",
       "      <td>0.821839</td>\n",
       "      <td>undersampling</td>\n",
       "    </tr>\n",
       "  </tbody>\n",
       "</table>\n",
       "</div>"
      ],
      "text/plain": [
       "                                       model_name  \\\n",
       "0           baseline_model-DecisionTreeClassifier   \n",
       "1           baseline_model-DecisionTreeClassifier   \n",
       "2                    baseline_model-XGBClassifier   \n",
       "3                    baseline_model-XGBClassifier   \n",
       "4                    baseline_model-XGBClassifier   \n",
       "5           baseline_model-DecisionTreeClassifier   \n",
       "6               baseline_model-LogisticRegression   \n",
       "7           baseline_model-RandomForestClassifier   \n",
       "8           baseline_model-RandomForestClassifier   \n",
       "9           baseline_model-RandomForestClassifier   \n",
       "10            baseline_model-KNeighborsClassifier   \n",
       "11  hyperparams-GridSearchCV-KNeighborsClassifier   \n",
       "12  hyperparams-GridSearchCV-KNeighborsClassifier   \n",
       "13  hyperparams-GridSearchCV-KNeighborsClassifier   \n",
       "14              baseline_model-LogisticRegression   \n",
       "15                   baseline_model-XGBClassifier   \n",
       "16            baseline_model-KNeighborsClassifier   \n",
       "17            baseline_model-KNeighborsClassifier   \n",
       "18          baseline_model-RandomForestClassifier   \n",
       "19              baseline_model-LogisticRegression   \n",
       "20              baseline_model-LogisticRegression   \n",
       "21  hyperparams-GridSearchCV-KNeighborsClassifier   \n",
       "22            baseline_model-KNeighborsClassifier   \n",
       "23          baseline_model-DecisionTreeClassifier   \n",
       "\n",
       "                           model_uid  training_time  \\\n",
       "0   5444d51566b59bac4af44f80c22c3bd1       0.000999   \n",
       "1   089c87c7d95023fe42e26aeabbbcae14       0.002999   \n",
       "2   726b6d4717917240af7533bccc117917       0.032996   \n",
       "3   548ba57c8bb1ad6567aa83d5ff583978       0.032997   \n",
       "4   c5a9eedbbe57e0bc0c86532a47df6b43       0.054958   \n",
       "5   4f0d910d875c44ee32ea2be95407261c       0.001001   \n",
       "6   4300e98f4a2babaf18bef78ee87703b0       0.028508   \n",
       "7   7bc12571e820dd76c0d67e79ae0c0aee       0.093504   \n",
       "8   d262665d128c2633680e6b24f9bb7fef       0.112015   \n",
       "9   1803334ee65c80cecf87ba6b3a04a46b       0.128532   \n",
       "10  9a1734645e6de82ce22b0f0136c74547       0.002000   \n",
       "11  0d424697e6393e05a0b99856feac1ed1       2.285012   \n",
       "12  5b363a1528a2f132c16e637e5fec8eb1       2.404612   \n",
       "13  a5adcd5f6734a8ffa3fff28ed4538440       4.729855   \n",
       "14  9e56bbb58b070724a2a270d86e371a6f       0.029000   \n",
       "15  fb337ec8be197a3215526f52fd58e9a2       0.020001   \n",
       "16  4a2a0c0b3fed11ec13a080052a5f06d7       0.002996   \n",
       "17  f8b8a7597dd41c818d18e32c3ea17567       0.002999   \n",
       "18  a1aaac596558e9ffdb4a00894266ceac       0.085519   \n",
       "19  46412681d47e39efc28445fd69720914       0.029003   \n",
       "20  625f52919b2d1cd8c2e6f874a6353d39       0.017001   \n",
       "21  244148b320c12ffed7e23a7d932c1a7d       0.687716   \n",
       "22  b3251507f900fc876d8890f7b12aa55c       0.000995   \n",
       "23  f5f85a010c7ae7604091a72fcdbe2eae       0.001999   \n",
       "\n",
       "                 training_date  \\\n",
       "0   2023-04-20 13:39:25.666649   \n",
       "1   2023-04-20 13:39:25.936180   \n",
       "2   2023-04-20 13:39:26.096862   \n",
       "3   2023-04-20 13:39:25.806666   \n",
       "4   2023-04-20 13:39:25.314639   \n",
       "5   2023-04-20 13:39:25.194086   \n",
       "6   2023-04-20 13:39:25.162576   \n",
       "7   2023-04-20 13:39:25.198086   \n",
       "8   2023-04-20 13:39:25.671649   \n",
       "9   2023-04-20 13:39:25.942178   \n",
       "10  2023-04-20 13:39:25.301592   \n",
       "11  2023-04-20 13:39:31.897176   \n",
       "12  2023-04-20 13:39:34.229186   \n",
       "13  2023-04-20 13:39:26.376901   \n",
       "14  2023-04-20 13:39:25.903180   \n",
       "15  2023-04-20 13:39:25.554619   \n",
       "16  2023-04-20 13:39:25.794667   \n",
       "17  2023-04-20 13:39:26.081859   \n",
       "18  2023-04-20 13:39:25.452107   \n",
       "19  2023-04-20 13:39:25.633646   \n",
       "20  2023-04-20 13:39:25.426108   \n",
       "21  2023-04-20 13:39:31.154747   \n",
       "22  2023-04-20 13:39:25.547629   \n",
       "23  2023-04-20 13:39:25.447108   \n",
       "\n",
       "                                          performance  f1_score_avg  \\\n",
       "0   {'0': {'precision': 1.0, 'recall': 1.0, 'f1-sc...      1.000000   \n",
       "1   {'0': {'precision': 1.0, 'recall': 1.0, 'f1-sc...      1.000000   \n",
       "2   {'0': {'precision': 1.0, 'recall': 1.0, 'f1-sc...      1.000000   \n",
       "3   {'0': {'precision': 1.0, 'recall': 1.0, 'f1-sc...      1.000000   \n",
       "4   {'0': {'precision': 1.0, 'recall': 1.0, 'f1-sc...      1.000000   \n",
       "5   {'0': {'precision': 0.9943181818181818, 'recal...      0.974766   \n",
       "6   {'0': {'precision': 0.9943181818181818, 'recal...      0.974766   \n",
       "7   {'0': {'precision': 0.9943181818181818, 'recal...      0.974766   \n",
       "8   {'0': {'precision': 0.9943181818181818, 'recal...      0.974766   \n",
       "9   {'0': {'precision': 0.9943181818181818, 'recal...      0.974766   \n",
       "10  {'0': {'precision': 0.9942857142857143, 'recal...      0.951688   \n",
       "11  {'0': {'precision': 0.9942857142857143, 'recal...      0.951688   \n",
       "12  {'0': {'precision': 0.9942857142857143, 'recal...      0.951688   \n",
       "13  {'0': {'precision': 0.9942857142857143, 'recal...      0.951688   \n",
       "14  {'0': {'precision': 0.9942528735632183, 'recal...      0.930485   \n",
       "15  {'0': {'precision': 1.0, 'recall': 0.977142857...      0.917297   \n",
       "16  {'0': {'precision': 0.9942196531791907, 'recal...      0.910920   \n",
       "17  {'0': {'precision': 0.9942196531791907, 'recal...      0.910920   \n",
       "18  {'0': {'precision': 1.0, 'recall': 0.971428571...      0.900161   \n",
       "19  {'0': {'precision': 0.9941860465116279, 'recal...      0.892795   \n",
       "20  {'0': {'precision': 0.9941176470588236, 'recal...      0.860225   \n",
       "21  {'0': {'precision': 1.0, 'recall': 0.954285714...      0.854971   \n",
       "22  {'0': {'precision': 1.0, 'recall': 0.948571428...      0.841642   \n",
       "23  {'0': {'precision': 0.9826589595375722, 'recal...      0.821839   \n",
       "\n",
       "   data_configurations  \n",
       "0         oversampling  \n",
       "1                smote  \n",
       "2                smote  \n",
       "3         oversampling  \n",
       "4               normal  \n",
       "5               normal  \n",
       "6               normal  \n",
       "7               normal  \n",
       "8         oversampling  \n",
       "9                smote  \n",
       "10              normal  \n",
       "11        oversampling  \n",
       "12               smote  \n",
       "13              normal  \n",
       "14               smote  \n",
       "15       undersampling  \n",
       "16        oversampling  \n",
       "17               smote  \n",
       "18       undersampling  \n",
       "19        oversampling  \n",
       "20       undersampling  \n",
       "21       undersampling  \n",
       "22       undersampling  \n",
       "23       undersampling  "
      ]
     },
     "execution_count": 39,
     "metadata": {},
     "output_type": "execute_result"
    }
   ],
   "source": [
    "training_log_to_df(training_log)"
   ]
  },
  {
   "cell_type": "markdown",
   "id": "40bc1f8f",
   "metadata": {},
   "source": [
    "Turns out after hyperparameter tuning, the K-Nearest Neighbour's performance still did not contain within the top 10. Therefore, we proceed with RandomForestClassifier as the best model."
   ]
  },
  {
   "cell_type": "markdown",
   "id": "ed9ad386",
   "metadata": {},
   "source": [
    "**Validation set**"
   ]
  },
  {
   "cell_type": "code",
   "execution_count": 40,
   "id": "d8ac9153",
   "metadata": {},
   "outputs": [],
   "source": [
    "# Prediction using input\n",
    "y_pred_valid = model.predict(X_valid)"
   ]
  },
  {
   "cell_type": "code",
   "execution_count": 41,
   "id": "a233e216",
   "metadata": {},
   "outputs": [
    {
     "data": {
      "text/plain": [
       "<sklearn.metrics._plot.confusion_matrix.ConfusionMatrixDisplay at 0x1d475c72100>"
      ]
     },
     "execution_count": 41,
     "metadata": {},
     "output_type": "execute_result"
    },
    {
     "data": {
      "image/png": "[encoded data removed]",
      "text/plain": [
       "<Figure size 640x480 with 2 Axes>"
      ]
     },
     "metadata": {},
     "output_type": "display_data"
    }
   ],
   "source": [
    "# Show confusion matrix\n",
    "ConfusionMatrixDisplay.from_predictions(y_valid, y_pred_valid)"
   ]
  },
  {
   "cell_type": "code",
   "execution_count": 42,
   "id": "34e37a69",
   "metadata": {},
   "outputs": [
    {
     "name": "stdout",
     "output_type": "stream",
     "text": [
      "              precision    recall  f1-score   support\n",
      "\n",
      "           0       1.00      1.00      1.00       175\n",
      "           1       1.00      1.00      1.00        11\n",
      "\n",
      "    accuracy                           1.00       186\n",
      "   macro avg       1.00      1.00      1.00       186\n",
      "weighted avg       1.00      1.00      1.00       186\n",
      "\n"
     ]
    }
   ],
   "source": [
    "# Show classification report\n",
    "print(classification_report(y_true = y_valid,\n",
    "                            y_pred = y_pred_valid,\n",
    "                            target_names = [\"0\", \"1\"]))"
   ]
  },
  {
   "cell_type": "markdown",
   "id": "352f04be",
   "metadata": {},
   "source": [
    "**Test set**"
   ]
  },
  {
   "cell_type": "code",
   "execution_count": 43,
   "id": "0d3e28b8",
   "metadata": {},
   "outputs": [],
   "source": [
    "# Prediction using input\n",
    "y_pred_test = model.predict(X_test)"
   ]
  },
  {
   "cell_type": "code",
   "execution_count": 44,
   "id": "530f2645",
   "metadata": {},
   "outputs": [
    {
     "data": {
      "text/plain": [
       "<sklearn.metrics._plot.confusion_matrix.ConfusionMatrixDisplay at 0x1d475c92100>"
      ]
     },
     "execution_count": 44,
     "metadata": {},
     "output_type": "execute_result"
    },
    {
     "data": {
      "image/png": "[encoded data removed]",
      "text/plain": [
       "<Figure size 640x480 with 2 Axes>"
      ]
     },
     "metadata": {},
     "output_type": "display_data"
    }
   ],
   "source": [
    "# Show confusion matrix\n",
    "ConfusionMatrixDisplay.from_predictions(y_test, y_pred_test)"
   ]
  },
  {
   "cell_type": "code",
   "execution_count": 45,
   "id": "6b173af4",
   "metadata": {},
   "outputs": [
    {
     "name": "stdout",
     "output_type": "stream",
     "text": [
      "              precision    recall  f1-score   support\n",
      "\n",
      "           0       1.00      0.99      1.00       175\n",
      "           1       0.92      1.00      0.96        11\n",
      "\n",
      "    accuracy                           0.99       186\n",
      "   macro avg       0.96      1.00      0.98       186\n",
      "weighted avg       1.00      0.99      0.99       186\n",
      "\n"
     ]
    }
   ],
   "source": [
    "# Show classification report\n",
    "print(classification_report(y_true = y_test,\n",
    "                            y_pred = y_pred_test,\n",
    "                            target_names = [\"0\", \"1\"]))"
   ]
  },
  {
   "cell_type": "markdown",
   "id": "aa1e6c4f",
   "metadata": {},
   "source": [
    "By comparing validation and test set, the performance of test set does not fall significantly from the validation set. Therefore, the leakage may not happen within the dataset."
   ]
  },
  {
   "cell_type": "code",
   "execution_count": 46,
   "id": "5b24e00b",
   "metadata": {},
   "outputs": [
    {
     "data": {
      "text/plain": [
       "['models/production_model']"
      ]
     },
     "execution_count": 46,
     "metadata": {},
     "output_type": "execute_result"
    }
   ],
   "source": [
    "# Save as pickle\n",
    "joblib.dump(model, \"models/production_model\")"
   ]
  }
 ],
 "metadata": {
  "kernelspec": {
   "display_name": "Python 3 (ipykernel)",
   "language": "python",
   "name": "python3"
  },
  "language_info": {
   "codemirror_mode": {
    "name": "ipython",
    "version": 3
   },
   "file_extension": ".py",
   "mimetype": "text/x-python",
   "name": "python",
   "nbconvert_exporter": "python",
   "pygments_lexer": "ipython3",
   "version": "3.9.13"
  }
 },
 "nbformat": 4,
 "nbformat_minor": 5
}
